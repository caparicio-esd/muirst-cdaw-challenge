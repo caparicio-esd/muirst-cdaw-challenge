{
 "cells": [
  {
   "cell_type": "code",
   "execution_count": 3,
   "metadata": {},
   "outputs": [],
   "source": [
    "import np as np\n",
    "import pandas as pd\n",
    "from sklearn import set_config\n",
    "import warnings\n",
    "from sklearn.utils import resample\n",
    "import tensorflow as tf\n",
    "\n",
    "set_config(display='diagram')\n",
    "warnings.filterwarnings('ignore')"
   ]
  },
  {
   "cell_type": "code",
   "execution_count": 3,
   "outputs": [],
   "source": [],
   "metadata": {
    "collapsed": false
   }
  },
  {
   "cell_type": "code",
   "execution_count": 4,
   "metadata": {},
   "outputs": [],
   "source": [
    "df_train = pd.read_csv(\"./../data/train.csv\").dropna()\n",
    "df_test_nolabel = pd.read_csv(\"./../data/test_nolabel.csv\")\n",
    "# df_sample_submission = pd.read_csv(\"./../data/sample_submission.csv\").dropna()"
   ]
  },
  {
   "cell_type": "code",
   "execution_count": 5,
   "metadata": {},
   "outputs": [
    {
     "data": {
      "text/plain": "                id  LoanNr_ChkDgt                            Name  \\\n0      2fa57387ae1     6213754009                 SETANTA SETTERS   \n1      a66f9849d7f     1751224008            DURACLEAN BY SEITZER   \n2      fb6a6d89487     6979444003  PC HAINES WALL & CEILING CONTR   \n3      0ac44b54067     5825754005                 LESLIE A LANDIS   \n4      3a5ff625fa3     8989333001                 MAILBOXES, ETC.   \n...            ...            ...                             ...   \n24614  ae972125b13     7387374007             HUNTINGDON CREAMERY   \n24615  95d6fb854b9     1175195009        MAJIK D.J. ENTERTAINMENT   \n24616  5e446a47a0f     1797704005     MCCULLOUGH TOWING & STORAGE   \n24617  549dcfeb04e     3816914004                   HALLS FLORIST   \n24618  81c5faf8439     4149724006    INTERNT'L HARDWOOD RESOURCES   \n\n                City State                            Bank BankState  \\\n0         PITTSBURGH    PA        CITIZENS BANK NATL ASSOC        MA   \n1      MONTOURSVILLE    PA   MANUFACTURERS & TRADERS TR CO        NY   \n2            SALUNGA    PA        CITIZENS BANK NATL ASSOC        RI   \n3               YORK    PA   MANUFACTURERS & TRADERS TR CO        MD   \n4       PHILADELPHIA    PA  NEWTEK SMALL BUS. FINANCE INC.        NY   \n...              ...   ...                             ...       ...   \n24614     HUNTINGDON    PA                       KISH BANK        PA   \n24615      FLEETWOOD    PA        CITIZENS BANK NATL ASSOC        RI   \n24616          PHILA    PA                SUSQUEHANNA BANK        PA   \n24617   WILLIAMSPORT    PA   MANUFACTURERS & TRADERS TR CO        NY   \n24618     DOYLESTOWN    PA      BANK OF AMERICA NATL ASSOC        NC   \n\n      ApprovalDate  ApprovalFY  NoEmp  ...  CreateJob  RetainedJob  \\\n0         1-Apr-03        2003      1  ...          1            2   \n1        19-Dec-97        1998     20  ...          0            0   \n2         1-Dec-03        2004      9  ...          0            9   \n3        31-Oct-02        2003      3  ...          2            5   \n4         7-Feb-96        1996      3  ...          0            0   \n...            ...         ...    ...  ...        ...          ...   \n24614    27-Apr-04        2004      2  ...          2            0   \n24615    31-Jan-05        2005      2  ...          0            2   \n24616    22-Jan-98        1998      3  ...          0            0   \n24617    29-Jun-00        2000      4  ...          0            3   \n24618    21-Dec-00        2001      7  ...          0            0   \n\n       FranchiseCode  UrbanRural  RevLineCr LowDoc DisbursementDate  \\\n0                  1           1          Y      N        30-Jun-03   \n1              25850           0          N      Y        28-Feb-98   \n2                  1           2          Y      N        29-Feb-04   \n3                  1           1          0      N        31-Jan-03   \n4              50564           0          N      Y        31-Oct-96   \n...              ...         ...        ...    ...              ...   \n24614              1           1          0      N        31-May-04   \n24615              1           1          N      N        30-Apr-06   \n24616              1           0          N      Y        31-Mar-98   \n24617              1           1          Y      N        31-Aug-04   \n24618              1           1          N      N        31-May-01   \n\n      DisbursementGross BalanceGross Accept  \n0            $5,440.00        $0.00       1  \n1           $33,800.00        $0.00       1  \n2          $156,599.00        $0.00       1  \n3           $40,000.00        $0.00       1  \n4          $100,000.00        $0.00       1  \n...                 ...          ...    ...  \n24614       $20,000.00        $0.00       1  \n24615       $10,000.00        $0.00       1  \n24616       $60,000.00        $0.00       1  \n24617       $10,000.00        $0.00       1  \n24618      $850,000.00        $0.00       0  \n\n[24298 rows x 21 columns]",
      "text/html": "<div>\n<style scoped>\n    .dataframe tbody tr th:only-of-type {\n        vertical-align: middle;\n    }\n\n    .dataframe tbody tr th {\n        vertical-align: top;\n    }\n\n    .dataframe thead th {\n        text-align: right;\n    }\n</style>\n<table border=\"1\" class=\"dataframe\">\n  <thead>\n    <tr style=\"text-align: right;\">\n      <th></th>\n      <th>id</th>\n      <th>LoanNr_ChkDgt</th>\n      <th>Name</th>\n      <th>City</th>\n      <th>State</th>\n      <th>Bank</th>\n      <th>BankState</th>\n      <th>ApprovalDate</th>\n      <th>ApprovalFY</th>\n      <th>NoEmp</th>\n      <th>...</th>\n      <th>CreateJob</th>\n      <th>RetainedJob</th>\n      <th>FranchiseCode</th>\n      <th>UrbanRural</th>\n      <th>RevLineCr</th>\n      <th>LowDoc</th>\n      <th>DisbursementDate</th>\n      <th>DisbursementGross</th>\n      <th>BalanceGross</th>\n      <th>Accept</th>\n    </tr>\n  </thead>\n  <tbody>\n    <tr>\n      <th>0</th>\n      <td>2fa57387ae1</td>\n      <td>6213754009</td>\n      <td>SETANTA SETTERS</td>\n      <td>PITTSBURGH</td>\n      <td>PA</td>\n      <td>CITIZENS BANK NATL ASSOC</td>\n      <td>MA</td>\n      <td>1-Apr-03</td>\n      <td>2003</td>\n      <td>1</td>\n      <td>...</td>\n      <td>1</td>\n      <td>2</td>\n      <td>1</td>\n      <td>1</td>\n      <td>Y</td>\n      <td>N</td>\n      <td>30-Jun-03</td>\n      <td>$5,440.00</td>\n      <td>$0.00</td>\n      <td>1</td>\n    </tr>\n    <tr>\n      <th>1</th>\n      <td>a66f9849d7f</td>\n      <td>1751224008</td>\n      <td>DURACLEAN BY SEITZER</td>\n      <td>MONTOURSVILLE</td>\n      <td>PA</td>\n      <td>MANUFACTURERS &amp; TRADERS TR CO</td>\n      <td>NY</td>\n      <td>19-Dec-97</td>\n      <td>1998</td>\n      <td>20</td>\n      <td>...</td>\n      <td>0</td>\n      <td>0</td>\n      <td>25850</td>\n      <td>0</td>\n      <td>N</td>\n      <td>Y</td>\n      <td>28-Feb-98</td>\n      <td>$33,800.00</td>\n      <td>$0.00</td>\n      <td>1</td>\n    </tr>\n    <tr>\n      <th>2</th>\n      <td>fb6a6d89487</td>\n      <td>6979444003</td>\n      <td>PC HAINES WALL &amp; CEILING CONTR</td>\n      <td>SALUNGA</td>\n      <td>PA</td>\n      <td>CITIZENS BANK NATL ASSOC</td>\n      <td>RI</td>\n      <td>1-Dec-03</td>\n      <td>2004</td>\n      <td>9</td>\n      <td>...</td>\n      <td>0</td>\n      <td>9</td>\n      <td>1</td>\n      <td>2</td>\n      <td>Y</td>\n      <td>N</td>\n      <td>29-Feb-04</td>\n      <td>$156,599.00</td>\n      <td>$0.00</td>\n      <td>1</td>\n    </tr>\n    <tr>\n      <th>3</th>\n      <td>0ac44b54067</td>\n      <td>5825754005</td>\n      <td>LESLIE A LANDIS</td>\n      <td>YORK</td>\n      <td>PA</td>\n      <td>MANUFACTURERS &amp; TRADERS TR CO</td>\n      <td>MD</td>\n      <td>31-Oct-02</td>\n      <td>2003</td>\n      <td>3</td>\n      <td>...</td>\n      <td>2</td>\n      <td>5</td>\n      <td>1</td>\n      <td>1</td>\n      <td>0</td>\n      <td>N</td>\n      <td>31-Jan-03</td>\n      <td>$40,000.00</td>\n      <td>$0.00</td>\n      <td>1</td>\n    </tr>\n    <tr>\n      <th>4</th>\n      <td>3a5ff625fa3</td>\n      <td>8989333001</td>\n      <td>MAILBOXES, ETC.</td>\n      <td>PHILADELPHIA</td>\n      <td>PA</td>\n      <td>NEWTEK SMALL BUS. FINANCE INC.</td>\n      <td>NY</td>\n      <td>7-Feb-96</td>\n      <td>1996</td>\n      <td>3</td>\n      <td>...</td>\n      <td>0</td>\n      <td>0</td>\n      <td>50564</td>\n      <td>0</td>\n      <td>N</td>\n      <td>Y</td>\n      <td>31-Oct-96</td>\n      <td>$100,000.00</td>\n      <td>$0.00</td>\n      <td>1</td>\n    </tr>\n    <tr>\n      <th>...</th>\n      <td>...</td>\n      <td>...</td>\n      <td>...</td>\n      <td>...</td>\n      <td>...</td>\n      <td>...</td>\n      <td>...</td>\n      <td>...</td>\n      <td>...</td>\n      <td>...</td>\n      <td>...</td>\n      <td>...</td>\n      <td>...</td>\n      <td>...</td>\n      <td>...</td>\n      <td>...</td>\n      <td>...</td>\n      <td>...</td>\n      <td>...</td>\n      <td>...</td>\n      <td>...</td>\n    </tr>\n    <tr>\n      <th>24614</th>\n      <td>ae972125b13</td>\n      <td>7387374007</td>\n      <td>HUNTINGDON CREAMERY</td>\n      <td>HUNTINGDON</td>\n      <td>PA</td>\n      <td>KISH BANK</td>\n      <td>PA</td>\n      <td>27-Apr-04</td>\n      <td>2004</td>\n      <td>2</td>\n      <td>...</td>\n      <td>2</td>\n      <td>0</td>\n      <td>1</td>\n      <td>1</td>\n      <td>0</td>\n      <td>N</td>\n      <td>31-May-04</td>\n      <td>$20,000.00</td>\n      <td>$0.00</td>\n      <td>1</td>\n    </tr>\n    <tr>\n      <th>24615</th>\n      <td>95d6fb854b9</td>\n      <td>1175195009</td>\n      <td>MAJIK D.J. ENTERTAINMENT</td>\n      <td>FLEETWOOD</td>\n      <td>PA</td>\n      <td>CITIZENS BANK NATL ASSOC</td>\n      <td>RI</td>\n      <td>31-Jan-05</td>\n      <td>2005</td>\n      <td>2</td>\n      <td>...</td>\n      <td>0</td>\n      <td>2</td>\n      <td>1</td>\n      <td>1</td>\n      <td>N</td>\n      <td>N</td>\n      <td>30-Apr-06</td>\n      <td>$10,000.00</td>\n      <td>$0.00</td>\n      <td>1</td>\n    </tr>\n    <tr>\n      <th>24616</th>\n      <td>5e446a47a0f</td>\n      <td>1797704005</td>\n      <td>MCCULLOUGH TOWING &amp; STORAGE</td>\n      <td>PHILA</td>\n      <td>PA</td>\n      <td>SUSQUEHANNA BANK</td>\n      <td>PA</td>\n      <td>22-Jan-98</td>\n      <td>1998</td>\n      <td>3</td>\n      <td>...</td>\n      <td>0</td>\n      <td>0</td>\n      <td>1</td>\n      <td>0</td>\n      <td>N</td>\n      <td>Y</td>\n      <td>31-Mar-98</td>\n      <td>$60,000.00</td>\n      <td>$0.00</td>\n      <td>1</td>\n    </tr>\n    <tr>\n      <th>24617</th>\n      <td>549dcfeb04e</td>\n      <td>3816914004</td>\n      <td>HALLS FLORIST</td>\n      <td>WILLIAMSPORT</td>\n      <td>PA</td>\n      <td>MANUFACTURERS &amp; TRADERS TR CO</td>\n      <td>NY</td>\n      <td>29-Jun-00</td>\n      <td>2000</td>\n      <td>4</td>\n      <td>...</td>\n      <td>0</td>\n      <td>3</td>\n      <td>1</td>\n      <td>1</td>\n      <td>Y</td>\n      <td>N</td>\n      <td>31-Aug-04</td>\n      <td>$10,000.00</td>\n      <td>$0.00</td>\n      <td>1</td>\n    </tr>\n    <tr>\n      <th>24618</th>\n      <td>81c5faf8439</td>\n      <td>4149724006</td>\n      <td>INTERNT'L HARDWOOD RESOURCES</td>\n      <td>DOYLESTOWN</td>\n      <td>PA</td>\n      <td>BANK OF AMERICA NATL ASSOC</td>\n      <td>NC</td>\n      <td>21-Dec-00</td>\n      <td>2001</td>\n      <td>7</td>\n      <td>...</td>\n      <td>0</td>\n      <td>0</td>\n      <td>1</td>\n      <td>1</td>\n      <td>N</td>\n      <td>N</td>\n      <td>31-May-01</td>\n      <td>$850,000.00</td>\n      <td>$0.00</td>\n      <td>0</td>\n    </tr>\n  </tbody>\n</table>\n<p>24298 rows × 21 columns</p>\n</div>"
     },
     "execution_count": 5,
     "metadata": {},
     "output_type": "execute_result"
    }
   ],
   "source": [
    "df_train"
   ]
  },
  {
   "cell_type": "code",
   "execution_count": 6,
   "outputs": [],
   "source": [
    "# Separate majority and minority classes\n",
    "df_majority = df_train[df_train[\"Accept\"] == 1]\n",
    "df_minority = df_train[df_train[\"Accept\"] == 0]\n",
    "\n",
    "# Downsample majority class\n",
    "df_majority_downsampled = resample(df_majority, replace=False, n_samples=(len(df_minority)+300), random_state=42)\n",
    "\n",
    "# Combine minority class with downsampled majority class\n",
    "df_train_resampled = np.concatenate((df_majority_downsampled, df_minority), axis=0)\n",
    "df_train_resampled = pd.DataFrame(df_train_resampled, columns=df_train.columns)\n",
    "\n",
    "df_train = df_train_resampled"
   ],
   "metadata": {
    "collapsed": false
   }
  },
  {
   "cell_type": "code",
   "execution_count": 6,
   "metadata": {},
   "outputs": [],
   "source": []
  },
  {
   "cell_type": "code",
   "execution_count": 7,
   "metadata": {},
   "outputs": [
    {
     "data": {
      "text/plain": "ColumnTransformer(transformers=[('group_b',\n                                 Pipeline(steps=[('b1',\n                                                  FunctionTransformer(func=<function to_lowercase at 0x29a0f69d0>)),\n                                                 ('b2',\n                                                  OneHotEncoder(handle_unknown='ignore',\n                                                                sparse=False))]),\n                                 ['BankState']),\n                                ('group_c',\n                                 Pipeline(steps=[('c1',\n                                                  FunctionTransformer(func=<function limit_outlier at 0x29a0f63a0>,\n                                                                      kw_args={'max_value': 155})),\n                                                 ('c2', StandardScaler())...\n                                                  FunctionTransformer(func=<function fix_lowdoc at 0x17fb39940>))]),\n                                 ['LowDoc']),\n                                ('group_i',\n                                 Pipeline(steps=[('i1',\n                                                  FunctionTransformer(func=<function fix_disbursment_gross at 0x29a0f6820>)),\n                                                 ('d2', SimpleImputer()),\n                                                 ('i2', StandardScaler())]),\n                                 ['DisbursementGross']),\n                                ('group_k',\n                                 Pipeline(steps=[('k1',\n                                                  FunctionTransformer(func=<function get_approval_year at 0x17fb39af0>)),\n                                                 ('i2', StandardScaler())]),\n                                 ['ApprovalDate'])])",
      "text/html": "<style>#sk-0670ba9e-6bb4-478d-94fb-3a01c971bc2d {color: black;background-color: white;}#sk-0670ba9e-6bb4-478d-94fb-3a01c971bc2d pre{padding: 0;}#sk-0670ba9e-6bb4-478d-94fb-3a01c971bc2d div.sk-toggleable {background-color: white;}#sk-0670ba9e-6bb4-478d-94fb-3a01c971bc2d label.sk-toggleable__label {cursor: pointer;display: block;width: 100%;margin-bottom: 0;padding: 0.3em;box-sizing: border-box;text-align: center;}#sk-0670ba9e-6bb4-478d-94fb-3a01c971bc2d label.sk-toggleable__label-arrow:before {content: \"▸\";float: left;margin-right: 0.25em;color: #696969;}#sk-0670ba9e-6bb4-478d-94fb-3a01c971bc2d label.sk-toggleable__label-arrow:hover:before {color: black;}#sk-0670ba9e-6bb4-478d-94fb-3a01c971bc2d div.sk-estimator:hover label.sk-toggleable__label-arrow:before {color: black;}#sk-0670ba9e-6bb4-478d-94fb-3a01c971bc2d div.sk-toggleable__content {max-height: 0;max-width: 0;overflow: hidden;text-align: left;background-color: #f0f8ff;}#sk-0670ba9e-6bb4-478d-94fb-3a01c971bc2d div.sk-toggleable__content pre {margin: 0.2em;color: black;border-radius: 0.25em;background-color: #f0f8ff;}#sk-0670ba9e-6bb4-478d-94fb-3a01c971bc2d input.sk-toggleable__control:checked~div.sk-toggleable__content {max-height: 200px;max-width: 100%;overflow: auto;}#sk-0670ba9e-6bb4-478d-94fb-3a01c971bc2d input.sk-toggleable__control:checked~label.sk-toggleable__label-arrow:before {content: \"▾\";}#sk-0670ba9e-6bb4-478d-94fb-3a01c971bc2d div.sk-estimator input.sk-toggleable__control:checked~label.sk-toggleable__label {background-color: #d4ebff;}#sk-0670ba9e-6bb4-478d-94fb-3a01c971bc2d div.sk-label input.sk-toggleable__control:checked~label.sk-toggleable__label {background-color: #d4ebff;}#sk-0670ba9e-6bb4-478d-94fb-3a01c971bc2d input.sk-hidden--visually {border: 0;clip: rect(1px 1px 1px 1px);clip: rect(1px, 1px, 1px, 1px);height: 1px;margin: -1px;overflow: hidden;padding: 0;position: absolute;width: 1px;}#sk-0670ba9e-6bb4-478d-94fb-3a01c971bc2d div.sk-estimator {font-family: monospace;background-color: #f0f8ff;border: 1px dotted black;border-radius: 0.25em;box-sizing: border-box;margin-bottom: 0.5em;}#sk-0670ba9e-6bb4-478d-94fb-3a01c971bc2d div.sk-estimator:hover {background-color: #d4ebff;}#sk-0670ba9e-6bb4-478d-94fb-3a01c971bc2d div.sk-parallel-item::after {content: \"\";width: 100%;border-bottom: 1px solid gray;flex-grow: 1;}#sk-0670ba9e-6bb4-478d-94fb-3a01c971bc2d div.sk-label:hover label.sk-toggleable__label {background-color: #d4ebff;}#sk-0670ba9e-6bb4-478d-94fb-3a01c971bc2d div.sk-serial::before {content: \"\";position: absolute;border-left: 1px solid gray;box-sizing: border-box;top: 2em;bottom: 0;left: 50%;}#sk-0670ba9e-6bb4-478d-94fb-3a01c971bc2d div.sk-serial {display: flex;flex-direction: column;align-items: center;background-color: white;padding-right: 0.2em;padding-left: 0.2em;}#sk-0670ba9e-6bb4-478d-94fb-3a01c971bc2d div.sk-item {z-index: 1;}#sk-0670ba9e-6bb4-478d-94fb-3a01c971bc2d div.sk-parallel {display: flex;align-items: stretch;justify-content: center;background-color: white;}#sk-0670ba9e-6bb4-478d-94fb-3a01c971bc2d div.sk-parallel::before {content: \"\";position: absolute;border-left: 1px solid gray;box-sizing: border-box;top: 2em;bottom: 0;left: 50%;}#sk-0670ba9e-6bb4-478d-94fb-3a01c971bc2d div.sk-parallel-item {display: flex;flex-direction: column;position: relative;background-color: white;}#sk-0670ba9e-6bb4-478d-94fb-3a01c971bc2d div.sk-parallel-item:first-child::after {align-self: flex-end;width: 50%;}#sk-0670ba9e-6bb4-478d-94fb-3a01c971bc2d div.sk-parallel-item:last-child::after {align-self: flex-start;width: 50%;}#sk-0670ba9e-6bb4-478d-94fb-3a01c971bc2d div.sk-parallel-item:only-child::after {width: 0;}#sk-0670ba9e-6bb4-478d-94fb-3a01c971bc2d div.sk-dashed-wrapped {border: 1px dashed gray;margin: 0 0.4em 0.5em 0.4em;box-sizing: border-box;padding-bottom: 0.4em;background-color: white;position: relative;}#sk-0670ba9e-6bb4-478d-94fb-3a01c971bc2d div.sk-label label {font-family: monospace;font-weight: bold;background-color: white;display: inline-block;line-height: 1.2em;}#sk-0670ba9e-6bb4-478d-94fb-3a01c971bc2d div.sk-label-container {position: relative;z-index: 2;text-align: center;}#sk-0670ba9e-6bb4-478d-94fb-3a01c971bc2d div.sk-container {/* jupyter's `normalize.less` sets `[hidden] { display: none; }` but bootstrap.min.css set `[hidden] { display: none !important; }` so we also need the `!important` here to be able to override the default hidden behavior on the sphinx rendered scikit-learn.org. See: https://github.com/scikit-learn/scikit-learn/issues/21755 */display: inline-block !important;position: relative;}#sk-0670ba9e-6bb4-478d-94fb-3a01c971bc2d div.sk-text-repr-fallback {display: none;}</style><div id=\"sk-0670ba9e-6bb4-478d-94fb-3a01c971bc2d\" class=\"sk-top-container\"><div class=\"sk-text-repr-fallback\"><pre>ColumnTransformer(transformers=[(&#x27;group_b&#x27;,\n                                 Pipeline(steps=[(&#x27;b1&#x27;,\n                                                  FunctionTransformer(func=&lt;function to_lowercase at 0x29a0f69d0&gt;)),\n                                                 (&#x27;b2&#x27;,\n                                                  OneHotEncoder(handle_unknown=&#x27;ignore&#x27;,\n                                                                sparse=False))]),\n                                 [&#x27;BankState&#x27;]),\n                                (&#x27;group_c&#x27;,\n                                 Pipeline(steps=[(&#x27;c1&#x27;,\n                                                  FunctionTransformer(func=&lt;function limit_outlier at 0x29a0f63a0&gt;,\n                                                                      kw_args={&#x27;max_value&#x27;: 155})),\n                                                 (&#x27;c2&#x27;, StandardScaler())...\n                                                  FunctionTransformer(func=&lt;function fix_lowdoc at 0x17fb39940&gt;))]),\n                                 [&#x27;LowDoc&#x27;]),\n                                (&#x27;group_i&#x27;,\n                                 Pipeline(steps=[(&#x27;i1&#x27;,\n                                                  FunctionTransformer(func=&lt;function fix_disbursment_gross at 0x29a0f6820&gt;)),\n                                                 (&#x27;d2&#x27;, SimpleImputer()),\n                                                 (&#x27;i2&#x27;, StandardScaler())]),\n                                 [&#x27;DisbursementGross&#x27;]),\n                                (&#x27;group_k&#x27;,\n                                 Pipeline(steps=[(&#x27;k1&#x27;,\n                                                  FunctionTransformer(func=&lt;function get_approval_year at 0x17fb39af0&gt;)),\n                                                 (&#x27;i2&#x27;, StandardScaler())]),\n                                 [&#x27;ApprovalDate&#x27;])])</pre><b>Please rerun this cell to show the HTML repr or trust the notebook.</b></div><div class=\"sk-container\" hidden><div class=\"sk-item sk-dashed-wrapped\"><div class=\"sk-label-container\"><div class=\"sk-label sk-toggleable\"><input class=\"sk-toggleable__control sk-hidden--visually\" id=\"c13f9c42-6088-4291-9379-c97408c6b98b\" type=\"checkbox\" ><label for=\"c13f9c42-6088-4291-9379-c97408c6b98b\" class=\"sk-toggleable__label sk-toggleable__label-arrow\">ColumnTransformer</label><div class=\"sk-toggleable__content\"><pre>ColumnTransformer(transformers=[(&#x27;group_b&#x27;,\n                                 Pipeline(steps=[(&#x27;b1&#x27;,\n                                                  FunctionTransformer(func=&lt;function to_lowercase at 0x29a0f69d0&gt;)),\n                                                 (&#x27;b2&#x27;,\n                                                  OneHotEncoder(handle_unknown=&#x27;ignore&#x27;,\n                                                                sparse=False))]),\n                                 [&#x27;BankState&#x27;]),\n                                (&#x27;group_c&#x27;,\n                                 Pipeline(steps=[(&#x27;c1&#x27;,\n                                                  FunctionTransformer(func=&lt;function limit_outlier at 0x29a0f63a0&gt;,\n                                                                      kw_args={&#x27;max_value&#x27;: 155})),\n                                                 (&#x27;c2&#x27;, StandardScaler())...\n                                                  FunctionTransformer(func=&lt;function fix_lowdoc at 0x17fb39940&gt;))]),\n                                 [&#x27;LowDoc&#x27;]),\n                                (&#x27;group_i&#x27;,\n                                 Pipeline(steps=[(&#x27;i1&#x27;,\n                                                  FunctionTransformer(func=&lt;function fix_disbursment_gross at 0x29a0f6820&gt;)),\n                                                 (&#x27;d2&#x27;, SimpleImputer()),\n                                                 (&#x27;i2&#x27;, StandardScaler())]),\n                                 [&#x27;DisbursementGross&#x27;]),\n                                (&#x27;group_k&#x27;,\n                                 Pipeline(steps=[(&#x27;k1&#x27;,\n                                                  FunctionTransformer(func=&lt;function get_approval_year at 0x17fb39af0&gt;)),\n                                                 (&#x27;i2&#x27;, StandardScaler())]),\n                                 [&#x27;ApprovalDate&#x27;])])</pre></div></div></div><div class=\"sk-parallel\"><div class=\"sk-parallel-item\"><div class=\"sk-item\"><div class=\"sk-label-container\"><div class=\"sk-label sk-toggleable\"><input class=\"sk-toggleable__control sk-hidden--visually\" id=\"33ad3da5-9d86-422a-9b12-2c552afb962c\" type=\"checkbox\" ><label for=\"33ad3da5-9d86-422a-9b12-2c552afb962c\" class=\"sk-toggleable__label sk-toggleable__label-arrow\">group_b</label><div class=\"sk-toggleable__content\"><pre>[&#x27;BankState&#x27;]</pre></div></div></div><div class=\"sk-serial\"><div class=\"sk-item\"><div class=\"sk-serial\"><div class=\"sk-item\"><div class=\"sk-estimator sk-toggleable\"><input class=\"sk-toggleable__control sk-hidden--visually\" id=\"aef36dd3-d826-4d29-a217-2bd3a8200bb9\" type=\"checkbox\" ><label for=\"aef36dd3-d826-4d29-a217-2bd3a8200bb9\" class=\"sk-toggleable__label sk-toggleable__label-arrow\">FunctionTransformer</label><div class=\"sk-toggleable__content\"><pre>FunctionTransformer(func=&lt;function to_lowercase at 0x29a0f69d0&gt;)</pre></div></div></div><div class=\"sk-item\"><div class=\"sk-estimator sk-toggleable\"><input class=\"sk-toggleable__control sk-hidden--visually\" id=\"5e6c13dd-ba9b-4c5a-b1fc-d9339d70cc7e\" type=\"checkbox\" ><label for=\"5e6c13dd-ba9b-4c5a-b1fc-d9339d70cc7e\" class=\"sk-toggleable__label sk-toggleable__label-arrow\">OneHotEncoder</label><div class=\"sk-toggleable__content\"><pre>OneHotEncoder(handle_unknown=&#x27;ignore&#x27;, sparse=False)</pre></div></div></div></div></div></div></div></div><div class=\"sk-parallel-item\"><div class=\"sk-item\"><div class=\"sk-label-container\"><div class=\"sk-label sk-toggleable\"><input class=\"sk-toggleable__control sk-hidden--visually\" id=\"68f4256c-15b3-41d4-82ec-e206da1f0860\" type=\"checkbox\" ><label for=\"68f4256c-15b3-41d4-82ec-e206da1f0860\" class=\"sk-toggleable__label sk-toggleable__label-arrow\">group_c</label><div class=\"sk-toggleable__content\"><pre>[&#x27;NoEmp&#x27;]</pre></div></div></div><div class=\"sk-serial\"><div class=\"sk-item\"><div class=\"sk-serial\"><div class=\"sk-item\"><div class=\"sk-estimator sk-toggleable\"><input class=\"sk-toggleable__control sk-hidden--visually\" id=\"ddb4fe3b-c6c7-42d3-b45d-3cc401042948\" type=\"checkbox\" ><label for=\"ddb4fe3b-c6c7-42d3-b45d-3cc401042948\" class=\"sk-toggleable__label sk-toggleable__label-arrow\">FunctionTransformer</label><div class=\"sk-toggleable__content\"><pre>FunctionTransformer(func=&lt;function limit_outlier at 0x29a0f63a0&gt;,\n                    kw_args={&#x27;max_value&#x27;: 155})</pre></div></div></div><div class=\"sk-item\"><div class=\"sk-estimator sk-toggleable\"><input class=\"sk-toggleable__control sk-hidden--visually\" id=\"6cbff111-0eb9-406e-98f0-9f4a846ad8a3\" type=\"checkbox\" ><label for=\"6cbff111-0eb9-406e-98f0-9f4a846ad8a3\" class=\"sk-toggleable__label sk-toggleable__label-arrow\">StandardScaler</label><div class=\"sk-toggleable__content\"><pre>StandardScaler()</pre></div></div></div></div></div></div></div></div><div class=\"sk-parallel-item\"><div class=\"sk-item\"><div class=\"sk-label-container\"><div class=\"sk-label sk-toggleable\"><input class=\"sk-toggleable__control sk-hidden--visually\" id=\"bb45e653-58dc-41a9-8cda-570db371aab8\" type=\"checkbox\" ><label for=\"bb45e653-58dc-41a9-8cda-570db371aab8\" class=\"sk-toggleable__label sk-toggleable__label-arrow\">group_d</label><div class=\"sk-toggleable__content\"><pre>[&#x27;NewExist&#x27;]</pre></div></div></div><div class=\"sk-serial\"><div class=\"sk-item\"><div class=\"sk-serial\"><div class=\"sk-item\"><div class=\"sk-estimator sk-toggleable\"><input class=\"sk-toggleable__control sk-hidden--visually\" id=\"fe932fd8-3dbf-4bac-9e70-834f57d6ef3e\" type=\"checkbox\" ><label for=\"fe932fd8-3dbf-4bac-9e70-834f57d6ef3e\" class=\"sk-toggleable__label sk-toggleable__label-arrow\">FunctionTransformer</label><div class=\"sk-toggleable__content\"><pre>FunctionTransformer(func=&lt;function fix_new_exists at 0x29a0f6a60&gt;)</pre></div></div></div><div class=\"sk-item\"><div class=\"sk-estimator sk-toggleable\"><input class=\"sk-toggleable__control sk-hidden--visually\" id=\"ba1d8bee-ea36-489a-9f71-9964843c40b3\" type=\"checkbox\" ><label for=\"ba1d8bee-ea36-489a-9f71-9964843c40b3\" class=\"sk-toggleable__label sk-toggleable__label-arrow\">SimpleImputer</label><div class=\"sk-toggleable__content\"><pre>SimpleImputer(strategy=&#x27;most_frequent&#x27;)</pre></div></div></div></div></div></div></div></div><div class=\"sk-parallel-item\"><div class=\"sk-item\"><div class=\"sk-label-container\"><div class=\"sk-label sk-toggleable\"><input class=\"sk-toggleable__control sk-hidden--visually\" id=\"0c76ef27-78b9-474b-87ba-475068d1a011\" type=\"checkbox\" ><label for=\"0c76ef27-78b9-474b-87ba-475068d1a011\" class=\"sk-toggleable__label sk-toggleable__label-arrow\">group_e</label><div class=\"sk-toggleable__content\"><pre>[&#x27;CreateJob&#x27;, &#x27;RetainedJob&#x27;]</pre></div></div></div><div class=\"sk-serial\"><div class=\"sk-item\"><div class=\"sk-serial\"><div class=\"sk-item\"><div class=\"sk-estimator sk-toggleable\"><input class=\"sk-toggleable__control sk-hidden--visually\" id=\"94cb1235-429c-4b71-be79-51cf7db43a4b\" type=\"checkbox\" ><label for=\"94cb1235-429c-4b71-be79-51cf7db43a4b\" class=\"sk-toggleable__label sk-toggleable__label-arrow\">FunctionTransformer</label><div class=\"sk-toggleable__content\"><pre>FunctionTransformer(func=&lt;function limit_outlier at 0x29a0f63a0&gt;,\n                    kw_args={&#x27;max_value&#x27;: 1027})</pre></div></div></div><div class=\"sk-item\"><div class=\"sk-estimator sk-toggleable\"><input class=\"sk-toggleable__control sk-hidden--visually\" id=\"8d0ea777-7237-4e1f-a2e4-cd2f2c40164f\" type=\"checkbox\" ><label for=\"8d0ea777-7237-4e1f-a2e4-cd2f2c40164f\" class=\"sk-toggleable__label sk-toggleable__label-arrow\">StandardScaler</label><div class=\"sk-toggleable__content\"><pre>StandardScaler()</pre></div></div></div></div></div></div></div></div><div class=\"sk-parallel-item\"><div class=\"sk-item\"><div class=\"sk-label-container\"><div class=\"sk-label sk-toggleable\"><input class=\"sk-toggleable__control sk-hidden--visually\" id=\"7b2329f8-b150-438e-a55c-5a580534d62b\" type=\"checkbox\" ><label for=\"7b2329f8-b150-438e-a55c-5a580534d62b\" class=\"sk-toggleable__label sk-toggleable__label-arrow\">group_h</label><div class=\"sk-toggleable__content\"><pre>[&#x27;LowDoc&#x27;]</pre></div></div></div><div class=\"sk-serial\"><div class=\"sk-item\"><div class=\"sk-serial\"><div class=\"sk-item\"><div class=\"sk-estimator sk-toggleable\"><input class=\"sk-toggleable__control sk-hidden--visually\" id=\"22d5f112-3928-44ea-ac67-55453aaaf8d9\" type=\"checkbox\" ><label for=\"22d5f112-3928-44ea-ac67-55453aaaf8d9\" class=\"sk-toggleable__label sk-toggleable__label-arrow\">FunctionTransformer</label><div class=\"sk-toggleable__content\"><pre>FunctionTransformer(func=&lt;function fix_lowdoc at 0x17fb39940&gt;)</pre></div></div></div></div></div></div></div></div><div class=\"sk-parallel-item\"><div class=\"sk-item\"><div class=\"sk-label-container\"><div class=\"sk-label sk-toggleable\"><input class=\"sk-toggleable__control sk-hidden--visually\" id=\"9a210228-7d86-47f0-a2b3-d5c090040ded\" type=\"checkbox\" ><label for=\"9a210228-7d86-47f0-a2b3-d5c090040ded\" class=\"sk-toggleable__label sk-toggleable__label-arrow\">group_i</label><div class=\"sk-toggleable__content\"><pre>[&#x27;DisbursementGross&#x27;]</pre></div></div></div><div class=\"sk-serial\"><div class=\"sk-item\"><div class=\"sk-serial\"><div class=\"sk-item\"><div class=\"sk-estimator sk-toggleable\"><input class=\"sk-toggleable__control sk-hidden--visually\" id=\"2175443c-2c36-4265-8ad2-4cad77a50ab9\" type=\"checkbox\" ><label for=\"2175443c-2c36-4265-8ad2-4cad77a50ab9\" class=\"sk-toggleable__label sk-toggleable__label-arrow\">FunctionTransformer</label><div class=\"sk-toggleable__content\"><pre>FunctionTransformer(func=&lt;function fix_disbursment_gross at 0x29a0f6820&gt;)</pre></div></div></div><div class=\"sk-item\"><div class=\"sk-estimator sk-toggleable\"><input class=\"sk-toggleable__control sk-hidden--visually\" id=\"07edeca2-b80f-418a-91c7-4cdc8e2329d7\" type=\"checkbox\" ><label for=\"07edeca2-b80f-418a-91c7-4cdc8e2329d7\" class=\"sk-toggleable__label sk-toggleable__label-arrow\">SimpleImputer</label><div class=\"sk-toggleable__content\"><pre>SimpleImputer()</pre></div></div></div><div class=\"sk-item\"><div class=\"sk-estimator sk-toggleable\"><input class=\"sk-toggleable__control sk-hidden--visually\" id=\"06b0d1bd-cd0b-4392-840d-7cd0a05500ed\" type=\"checkbox\" ><label for=\"06b0d1bd-cd0b-4392-840d-7cd0a05500ed\" class=\"sk-toggleable__label sk-toggleable__label-arrow\">StandardScaler</label><div class=\"sk-toggleable__content\"><pre>StandardScaler()</pre></div></div></div></div></div></div></div></div><div class=\"sk-parallel-item\"><div class=\"sk-item\"><div class=\"sk-label-container\"><div class=\"sk-label sk-toggleable\"><input class=\"sk-toggleable__control sk-hidden--visually\" id=\"5c884dc8-0146-4031-b164-2f814ae9ad4a\" type=\"checkbox\" ><label for=\"5c884dc8-0146-4031-b164-2f814ae9ad4a\" class=\"sk-toggleable__label sk-toggleable__label-arrow\">group_k</label><div class=\"sk-toggleable__content\"><pre>[&#x27;ApprovalDate&#x27;]</pre></div></div></div><div class=\"sk-serial\"><div class=\"sk-item\"><div class=\"sk-serial\"><div class=\"sk-item\"><div class=\"sk-estimator sk-toggleable\"><input class=\"sk-toggleable__control sk-hidden--visually\" id=\"10cac908-9b5f-4d5b-9724-c82bd98f3431\" type=\"checkbox\" ><label for=\"10cac908-9b5f-4d5b-9724-c82bd98f3431\" class=\"sk-toggleable__label sk-toggleable__label-arrow\">FunctionTransformer</label><div class=\"sk-toggleable__content\"><pre>FunctionTransformer(func=&lt;function get_approval_year at 0x17fb39af0&gt;)</pre></div></div></div><div class=\"sk-item\"><div class=\"sk-estimator sk-toggleable\"><input class=\"sk-toggleable__control sk-hidden--visually\" id=\"34a7156c-c1d3-4690-9874-f8dec81d50ae\" type=\"checkbox\" ><label for=\"34a7156c-c1d3-4690-9874-f8dec81d50ae\" class=\"sk-toggleable__label sk-toggleable__label-arrow\">StandardScaler</label><div class=\"sk-toggleable__content\"><pre>StandardScaler()</pre></div></div></div></div></div></div></div></div></div></div></div></div>"
     },
     "execution_count": 7,
     "metadata": {},
     "output_type": "execute_result"
    }
   ],
   "source": [
    "from sklearn.impute import SimpleImputer\n",
    "from sklearn.pipeline import Pipeline\n",
    "from sklearn.compose import ColumnTransformer\n",
    "from sklearn.preprocessing import StandardScaler, OneHotEncoder, LabelEncoder, \\\n",
    "    FunctionTransformer\n",
    "\n",
    "\n",
    "def to_lowercase(df):\n",
    "    \"\"\"\n",
    "    set all strings to lower case to be easier to group\n",
    "    \"\"\"\n",
    "    df = df.apply(lambda col: col.str.lower())\n",
    "    return df\n",
    "\n",
    "def limit_outlier(df, max_value):\n",
    "    \"\"\"\n",
    "    clamps the max and min value of a series, for prevent outliers\n",
    "    from destroying statistic values\n",
    "    \"\"\"\n",
    "    df = df.clip(0, max_value)\n",
    "    return df\n",
    "\n",
    "def fix_new_exists(df):\n",
    "    \"\"\"\n",
    "    fixes newExists col to boolean values\n",
    "    \"\"\"\n",
    "    df[\"NewExist\"] = df[\"NewExist\"].apply(lambda row: 0 if row in [0, 1] else 1)\n",
    "    return df\n",
    "\n",
    "def fix_franchise_code(df):\n",
    "    \"\"\"\n",
    "    fixes FranchiseCode to {0, 1}\n",
    "    \"\"\"\n",
    "    df[\"FranchiseCode\"] = df[\"FranchiseCode\"].apply(lambda row: 0 if row <= 1 else 1)\n",
    "    return df\n",
    "\n",
    "def fix_revlinecr(df):\n",
    "    \"\"\"\n",
    "    fixes RevLineCr to {0, 1}\n",
    "    \"\"\"\n",
    "    df[\"RevLineCr\"] = df[\"RevLineCr\"].apply(lambda row: 0 if row in [\"N\", 0] else 1)\n",
    "    return df\n",
    "\n",
    "def fix_lowdoc(df):\n",
    "    \"\"\"\n",
    "    fixes LowDoc to {0, 1}\n",
    "    \"\"\"\n",
    "    df[\"LowDoc\"] = df[\"LowDoc\"].apply(lambda row: 1 if row in [\"Y\", \"S\"] else 0)\n",
    "    return df\n",
    "\n",
    "\n",
    "def fix_disbursment_gross(df):\n",
    "    \"\"\"\n",
    "    fixes disbursment extracting real value from string\n",
    "    \"\"\"\n",
    "    df[\"DisbursementGross\"] = df[\"DisbursementGross\"]\\\n",
    "        .str.extract(\"(\\d+(?:,\\d+)*(?:\\.\\d+)?)\")[0]\\\n",
    "        .str.replace(\",\", \"\")\\\n",
    "        .astype(\"float\")\n",
    "    return df\n",
    "\n",
    "def fix_urban_rural(df):\n",
    "    \"\"\"\n",
    "    fixes UrbanRural to {0, 1}\n",
    "    \"\"\"\n",
    "    df[\"UrbanRural\"] = df[\"UrbanRural\"].apply(lambda row: 1 if row in [\"Y\", \"S\"] else 0)\n",
    "    return df\n",
    "\n",
    "def get_approval_year(df):\n",
    "    \"\"\"\n",
    "    extracts year from date ApprovalDate\n",
    "    \"\"\"\n",
    "    df['ApprovalDate'] = df['ApprovalDate'].astype('datetime64[ns]').dt.year\n",
    "    return df\n",
    "\n",
    "\n",
    "preprocessor = ColumnTransformer(\n",
    "    transformers=[\n",
    "        # group 1 -> Set to lower and onehot with in freq 3\n",
    "        # (\"group_a\", Pipeline([\n",
    "        #     (\"a1\", FunctionTransformer(to_lowercase)),\n",
    "        #     (\"a2\", OneHotEncoder(handle_unknown='ignore', sparse=True))\n",
    "        # ]), [\"Name\"]),\n",
    "\n",
    "        # group 2 -> Set to lower and onehot with in freq 300\n",
    "        (\"group_b\", Pipeline([\n",
    "            (\"b1\", FunctionTransformer(to_lowercase)),\n",
    "            (\"b2\", OneHotEncoder(handle_unknown='ignore', sparse=False))\n",
    "        # ]), [\"City\", \"Bank\", \"BankState\"]),\n",
    "        ]), [\"BankState\"]),\n",
    "\n",
    "        # group 3 -> clamps values [0, 155] and scales in standard dist\n",
    "        # si se quiere cambiar por otras opciones crear una función como la de abajo...\n",
    "        (\"group_c\", Pipeline([\n",
    "            (\"c1\", FunctionTransformer(limit_outlier, kw_args={'max_value': 155})),\n",
    "            (\"c2\", StandardScaler()),\n",
    "        ]), [\"NoEmp\"]),\n",
    "\n",
    "        # # group 4 -> sustituye {0, 1, 2} por {1, 2}\n",
    "        (\"group_d\", Pipeline([\n",
    "            (\"d1\", FunctionTransformer(fix_new_exists)),\n",
    "            (\"d2\", SimpleImputer(strategy=\"most_frequent\")),\n",
    "        ]), [\"NewExist\"]),\n",
    "\n",
    "        # group 5 -> clamps values [0, 1027] and scales in standard dist\n",
    "        # si se quiere cambiar por otras opciones crear una función como la de abajo...\n",
    "        (\"group_e\", Pipeline([\n",
    "            (\"e1\", FunctionTransformer(limit_outlier, kw_args={'max_value': 1027})),\n",
    "            (\"e2\", StandardScaler()),\n",
    "        ]), [\"CreateJob\", \"RetainedJob\"]),\n",
    "\n",
    "        # group 6 -> transforma la columna a bool\n",
    "        # (\"group_f\", Pipeline([\n",
    "        #     (\"f1\", FunctionTransformer(fix_franchise_code)),\n",
    "        # ]), [\"FranchiseCode\"]),\n",
    "\n",
    "        # # group 7 -> transforma la columna a bool\n",
    "        # (\"group_g\", Pipeline([\n",
    "        #     (\"g1\", FunctionTransformer(fix_revlinecr)),\n",
    "        # ]), [\"RevLineCr\"]),\n",
    "        #\n",
    "        # group 8 -> transforma la columna a bool\n",
    "        (\"group_h\", Pipeline([\n",
    "            (\"h1\", FunctionTransformer(fix_lowdoc)),\n",
    "        ]), [\"LowDoc\"]),\n",
    "\n",
    "        # # group 9 -> extrae el valor con un regex y lo escala\n",
    "        (\"group_i\", Pipeline([\n",
    "            (\"i1\", FunctionTransformer(fix_disbursment_gross)),\n",
    "            (\"d2\", SimpleImputer(strategy=\"mean\")),\n",
    "            (\"i2\", StandardScaler()),\n",
    "        ]), [\"DisbursementGross\"]),\n",
    "        #\n",
    "        # # group 10 -> transforma la columna a bool\n",
    "        # (\"group_j\", Pipeline([\n",
    "        #     (\"fj\", FunctionTransformer(fix_urban_rural)),\n",
    "        # ]), [\"UrbanRural\"]),\n",
    "\n",
    "        # group 11 -> approval year\n",
    "        (\"group_k\", Pipeline([\n",
    "            (\"k1\", FunctionTransformer(get_approval_year)),\n",
    "            (\"i2\", StandardScaler()),\n",
    "        ]), [\"ApprovalDate\"]),\n",
    "    ],\n",
    "    remainder='drop'\n",
    ")\n",
    "\n",
    "# preprocessor_label = LabelEncoder()\n",
    "preprocessor.fit(df_train)\n",
    "# preprocessor_label.fit(df_train[\"Accept\"])"
   ]
  },
  {
   "cell_type": "code",
   "execution_count": 8,
   "metadata": {},
   "outputs": [],
   "source": [
    "X_train = preprocessor.transform(df_train)\n",
    "y_train = df_train[\"Accept\"].values.astype(\"int\")"
   ]
  },
  {
   "cell_type": "code",
   "execution_count": 9,
   "metadata": {},
   "outputs": [
    {
     "name": "stdout",
     "output_type": "stream",
     "text": [
      "[ 0.          0.          0.          0.          0.          0.\n",
      "  0.          0.          0.          0.          0.          0.\n",
      "  0.          0.          0.          0.          0.          0.\n",
      "  0.          0.          0.          0.          1.          0.\n",
      "  0.          0.          0.          0.          0.          0.\n",
      "  0.          0.          0.36178324  0.         -0.07349567 -0.1693337\n",
      "  0.          0.5163589  -0.66347525]\n",
      "id                                  bdb0d0a4eb5\n",
      "LoanNr_ChkDgt                        3018354008\n",
      "Name                              LEANAPE GROUP\n",
      "City                                   PERKASIE\n",
      "State                                        PA\n",
      "Bank                 UNIVEST BANK AND TRUST CO.\n",
      "BankState                                    PA\n",
      "ApprovalDate                          18-Jun-99\n",
      "ApprovalFY                                 1999\n",
      "NoEmp                                        13\n",
      "NewExist                                    1.0\n",
      "CreateJob                                     0\n",
      "RetainedJob                                   0\n",
      "FranchiseCode                                 1\n",
      "UrbanRural                                    1\n",
      "RevLineCr                                     N\n",
      "LowDoc                                        N\n",
      "DisbursementDate                      30-Sep-99\n",
      "DisbursementGross                  $256,000.00 \n",
      "BalanceGross                             $0.00 \n",
      "Accept                                        1\n",
      "Name: 1, dtype: object\n",
      "1\n"
     ]
    }
   ],
   "source": [
    "print(X_train[1])\n",
    "print(df_train.iloc[1])\n",
    "print(y_train[0])"
   ]
  },
  {
   "cell_type": "code",
   "execution_count": 10,
   "metadata": {},
   "outputs": [
    {
     "name": "stdout",
     "output_type": "stream",
     "text": [
      "0.6909739928607853\n",
      "Accuracy in training  0.6909739928607853\n",
      "f-score in training  0.7154929577464789\n"
     ]
    },
    {
     "data": {
      "text/plain": "Pipeline(steps=[('preprocessor',\n                 ColumnTransformer(transformers=[('group_b',\n                                                  Pipeline(steps=[('b1',\n                                                                   FunctionTransformer(func=<function to_lowercase at 0x29a0f69d0>)),\n                                                                  ('b2',\n                                                                   OneHotEncoder(handle_unknown='ignore',\n                                                                                 sparse=False))]),\n                                                  ['BankState']),\n                                                 ('group_c',\n                                                  Pipeline(steps=[('c1',\n                                                                   FunctionTransformer(func=<function limit_outlier at 0x29a0f63a0>,\n                                                                                       kw_args={'max_value...\n                                                                   SimpleImputer()),\n                                                                  ('i2',\n                                                                   StandardScaler())]),\n                                                  ['DisbursementGross']),\n                                                 ('group_k',\n                                                  Pipeline(steps=[('k1',\n                                                                   FunctionTransformer(func=<function get_approval_year at 0x17fb39af0>)),\n                                                                  ('i2',\n                                                                   StandardScaler())]),\n                                                  ['ApprovalDate'])])),\n                ('classifier',\n                 GradientBoostingClassifier(max_depth=15, max_features='sqrt',\n                                            min_samples_leaf=50,\n                                            min_samples_split=5,\n                                            n_estimators=60, subsample=0.8))])",
      "text/html": "<style>#sk-d9cd91ad-96d3-4010-8acb-2c1611cc7d68 {color: black;background-color: white;}#sk-d9cd91ad-96d3-4010-8acb-2c1611cc7d68 pre{padding: 0;}#sk-d9cd91ad-96d3-4010-8acb-2c1611cc7d68 div.sk-toggleable {background-color: white;}#sk-d9cd91ad-96d3-4010-8acb-2c1611cc7d68 label.sk-toggleable__label {cursor: pointer;display: block;width: 100%;margin-bottom: 0;padding: 0.3em;box-sizing: border-box;text-align: center;}#sk-d9cd91ad-96d3-4010-8acb-2c1611cc7d68 label.sk-toggleable__label-arrow:before {content: \"▸\";float: left;margin-right: 0.25em;color: #696969;}#sk-d9cd91ad-96d3-4010-8acb-2c1611cc7d68 label.sk-toggleable__label-arrow:hover:before {color: black;}#sk-d9cd91ad-96d3-4010-8acb-2c1611cc7d68 div.sk-estimator:hover label.sk-toggleable__label-arrow:before {color: black;}#sk-d9cd91ad-96d3-4010-8acb-2c1611cc7d68 div.sk-toggleable__content {max-height: 0;max-width: 0;overflow: hidden;text-align: left;background-color: #f0f8ff;}#sk-d9cd91ad-96d3-4010-8acb-2c1611cc7d68 div.sk-toggleable__content pre {margin: 0.2em;color: black;border-radius: 0.25em;background-color: #f0f8ff;}#sk-d9cd91ad-96d3-4010-8acb-2c1611cc7d68 input.sk-toggleable__control:checked~div.sk-toggleable__content {max-height: 200px;max-width: 100%;overflow: auto;}#sk-d9cd91ad-96d3-4010-8acb-2c1611cc7d68 input.sk-toggleable__control:checked~label.sk-toggleable__label-arrow:before {content: \"▾\";}#sk-d9cd91ad-96d3-4010-8acb-2c1611cc7d68 div.sk-estimator input.sk-toggleable__control:checked~label.sk-toggleable__label {background-color: #d4ebff;}#sk-d9cd91ad-96d3-4010-8acb-2c1611cc7d68 div.sk-label input.sk-toggleable__control:checked~label.sk-toggleable__label {background-color: #d4ebff;}#sk-d9cd91ad-96d3-4010-8acb-2c1611cc7d68 input.sk-hidden--visually {border: 0;clip: rect(1px 1px 1px 1px);clip: rect(1px, 1px, 1px, 1px);height: 1px;margin: -1px;overflow: hidden;padding: 0;position: absolute;width: 1px;}#sk-d9cd91ad-96d3-4010-8acb-2c1611cc7d68 div.sk-estimator {font-family: monospace;background-color: #f0f8ff;border: 1px dotted black;border-radius: 0.25em;box-sizing: border-box;margin-bottom: 0.5em;}#sk-d9cd91ad-96d3-4010-8acb-2c1611cc7d68 div.sk-estimator:hover {background-color: #d4ebff;}#sk-d9cd91ad-96d3-4010-8acb-2c1611cc7d68 div.sk-parallel-item::after {content: \"\";width: 100%;border-bottom: 1px solid gray;flex-grow: 1;}#sk-d9cd91ad-96d3-4010-8acb-2c1611cc7d68 div.sk-label:hover label.sk-toggleable__label {background-color: #d4ebff;}#sk-d9cd91ad-96d3-4010-8acb-2c1611cc7d68 div.sk-serial::before {content: \"\";position: absolute;border-left: 1px solid gray;box-sizing: border-box;top: 2em;bottom: 0;left: 50%;}#sk-d9cd91ad-96d3-4010-8acb-2c1611cc7d68 div.sk-serial {display: flex;flex-direction: column;align-items: center;background-color: white;padding-right: 0.2em;padding-left: 0.2em;}#sk-d9cd91ad-96d3-4010-8acb-2c1611cc7d68 div.sk-item {z-index: 1;}#sk-d9cd91ad-96d3-4010-8acb-2c1611cc7d68 div.sk-parallel {display: flex;align-items: stretch;justify-content: center;background-color: white;}#sk-d9cd91ad-96d3-4010-8acb-2c1611cc7d68 div.sk-parallel::before {content: \"\";position: absolute;border-left: 1px solid gray;box-sizing: border-box;top: 2em;bottom: 0;left: 50%;}#sk-d9cd91ad-96d3-4010-8acb-2c1611cc7d68 div.sk-parallel-item {display: flex;flex-direction: column;position: relative;background-color: white;}#sk-d9cd91ad-96d3-4010-8acb-2c1611cc7d68 div.sk-parallel-item:first-child::after {align-self: flex-end;width: 50%;}#sk-d9cd91ad-96d3-4010-8acb-2c1611cc7d68 div.sk-parallel-item:last-child::after {align-self: flex-start;width: 50%;}#sk-d9cd91ad-96d3-4010-8acb-2c1611cc7d68 div.sk-parallel-item:only-child::after {width: 0;}#sk-d9cd91ad-96d3-4010-8acb-2c1611cc7d68 div.sk-dashed-wrapped {border: 1px dashed gray;margin: 0 0.4em 0.5em 0.4em;box-sizing: border-box;padding-bottom: 0.4em;background-color: white;position: relative;}#sk-d9cd91ad-96d3-4010-8acb-2c1611cc7d68 div.sk-label label {font-family: monospace;font-weight: bold;background-color: white;display: inline-block;line-height: 1.2em;}#sk-d9cd91ad-96d3-4010-8acb-2c1611cc7d68 div.sk-label-container {position: relative;z-index: 2;text-align: center;}#sk-d9cd91ad-96d3-4010-8acb-2c1611cc7d68 div.sk-container {/* jupyter's `normalize.less` sets `[hidden] { display: none; }` but bootstrap.min.css set `[hidden] { display: none !important; }` so we also need the `!important` here to be able to override the default hidden behavior on the sphinx rendered scikit-learn.org. See: https://github.com/scikit-learn/scikit-learn/issues/21755 */display: inline-block !important;position: relative;}#sk-d9cd91ad-96d3-4010-8acb-2c1611cc7d68 div.sk-text-repr-fallback {display: none;}</style><div id=\"sk-d9cd91ad-96d3-4010-8acb-2c1611cc7d68\" class=\"sk-top-container\"><div class=\"sk-text-repr-fallback\"><pre>Pipeline(steps=[(&#x27;preprocessor&#x27;,\n                 ColumnTransformer(transformers=[(&#x27;group_b&#x27;,\n                                                  Pipeline(steps=[(&#x27;b1&#x27;,\n                                                                   FunctionTransformer(func=&lt;function to_lowercase at 0x29a0f69d0&gt;)),\n                                                                  (&#x27;b2&#x27;,\n                                                                   OneHotEncoder(handle_unknown=&#x27;ignore&#x27;,\n                                                                                 sparse=False))]),\n                                                  [&#x27;BankState&#x27;]),\n                                                 (&#x27;group_c&#x27;,\n                                                  Pipeline(steps=[(&#x27;c1&#x27;,\n                                                                   FunctionTransformer(func=&lt;function limit_outlier at 0x29a0f63a0&gt;,\n                                                                                       kw_args={&#x27;max_value...\n                                                                   SimpleImputer()),\n                                                                  (&#x27;i2&#x27;,\n                                                                   StandardScaler())]),\n                                                  [&#x27;DisbursementGross&#x27;]),\n                                                 (&#x27;group_k&#x27;,\n                                                  Pipeline(steps=[(&#x27;k1&#x27;,\n                                                                   FunctionTransformer(func=&lt;function get_approval_year at 0x17fb39af0&gt;)),\n                                                                  (&#x27;i2&#x27;,\n                                                                   StandardScaler())]),\n                                                  [&#x27;ApprovalDate&#x27;])])),\n                (&#x27;classifier&#x27;,\n                 GradientBoostingClassifier(max_depth=15, max_features=&#x27;sqrt&#x27;,\n                                            min_samples_leaf=50,\n                                            min_samples_split=5,\n                                            n_estimators=60, subsample=0.8))])</pre><b>Please rerun this cell to show the HTML repr or trust the notebook.</b></div><div class=\"sk-container\" hidden><div class=\"sk-item sk-dashed-wrapped\"><div class=\"sk-label-container\"><div class=\"sk-label sk-toggleable\"><input class=\"sk-toggleable__control sk-hidden--visually\" id=\"4be2be08-2126-4952-b601-f7019c03cf6f\" type=\"checkbox\" ><label for=\"4be2be08-2126-4952-b601-f7019c03cf6f\" class=\"sk-toggleable__label sk-toggleable__label-arrow\">Pipeline</label><div class=\"sk-toggleable__content\"><pre>Pipeline(steps=[(&#x27;preprocessor&#x27;,\n                 ColumnTransformer(transformers=[(&#x27;group_b&#x27;,\n                                                  Pipeline(steps=[(&#x27;b1&#x27;,\n                                                                   FunctionTransformer(func=&lt;function to_lowercase at 0x29a0f69d0&gt;)),\n                                                                  (&#x27;b2&#x27;,\n                                                                   OneHotEncoder(handle_unknown=&#x27;ignore&#x27;,\n                                                                                 sparse=False))]),\n                                                  [&#x27;BankState&#x27;]),\n                                                 (&#x27;group_c&#x27;,\n                                                  Pipeline(steps=[(&#x27;c1&#x27;,\n                                                                   FunctionTransformer(func=&lt;function limit_outlier at 0x29a0f63a0&gt;,\n                                                                                       kw_args={&#x27;max_value...\n                                                                   SimpleImputer()),\n                                                                  (&#x27;i2&#x27;,\n                                                                   StandardScaler())]),\n                                                  [&#x27;DisbursementGross&#x27;]),\n                                                 (&#x27;group_k&#x27;,\n                                                  Pipeline(steps=[(&#x27;k1&#x27;,\n                                                                   FunctionTransformer(func=&lt;function get_approval_year at 0x17fb39af0&gt;)),\n                                                                  (&#x27;i2&#x27;,\n                                                                   StandardScaler())]),\n                                                  [&#x27;ApprovalDate&#x27;])])),\n                (&#x27;classifier&#x27;,\n                 GradientBoostingClassifier(max_depth=15, max_features=&#x27;sqrt&#x27;,\n                                            min_samples_leaf=50,\n                                            min_samples_split=5,\n                                            n_estimators=60, subsample=0.8))])</pre></div></div></div><div class=\"sk-serial\"><div class=\"sk-item sk-dashed-wrapped\"><div class=\"sk-label-container\"><div class=\"sk-label sk-toggleable\"><input class=\"sk-toggleable__control sk-hidden--visually\" id=\"44113295-025f-4602-b1a6-b038c2f4ab7a\" type=\"checkbox\" ><label for=\"44113295-025f-4602-b1a6-b038c2f4ab7a\" class=\"sk-toggleable__label sk-toggleable__label-arrow\">preprocessor: ColumnTransformer</label><div class=\"sk-toggleable__content\"><pre>ColumnTransformer(transformers=[(&#x27;group_b&#x27;,\n                                 Pipeline(steps=[(&#x27;b1&#x27;,\n                                                  FunctionTransformer(func=&lt;function to_lowercase at 0x29a0f69d0&gt;)),\n                                                 (&#x27;b2&#x27;,\n                                                  OneHotEncoder(handle_unknown=&#x27;ignore&#x27;,\n                                                                sparse=False))]),\n                                 [&#x27;BankState&#x27;]),\n                                (&#x27;group_c&#x27;,\n                                 Pipeline(steps=[(&#x27;c1&#x27;,\n                                                  FunctionTransformer(func=&lt;function limit_outlier at 0x29a0f63a0&gt;,\n                                                                      kw_args={&#x27;max_value&#x27;: 155})),\n                                                 (&#x27;c2&#x27;, StandardScaler())...\n                                                  FunctionTransformer(func=&lt;function fix_lowdoc at 0x17fb39940&gt;))]),\n                                 [&#x27;LowDoc&#x27;]),\n                                (&#x27;group_i&#x27;,\n                                 Pipeline(steps=[(&#x27;i1&#x27;,\n                                                  FunctionTransformer(func=&lt;function fix_disbursment_gross at 0x29a0f6820&gt;)),\n                                                 (&#x27;d2&#x27;, SimpleImputer()),\n                                                 (&#x27;i2&#x27;, StandardScaler())]),\n                                 [&#x27;DisbursementGross&#x27;]),\n                                (&#x27;group_k&#x27;,\n                                 Pipeline(steps=[(&#x27;k1&#x27;,\n                                                  FunctionTransformer(func=&lt;function get_approval_year at 0x17fb39af0&gt;)),\n                                                 (&#x27;i2&#x27;, StandardScaler())]),\n                                 [&#x27;ApprovalDate&#x27;])])</pre></div></div></div><div class=\"sk-parallel\"><div class=\"sk-parallel-item\"><div class=\"sk-item\"><div class=\"sk-label-container\"><div class=\"sk-label sk-toggleable\"><input class=\"sk-toggleable__control sk-hidden--visually\" id=\"7c3cdec5-6871-47cd-a61c-d0263f96338c\" type=\"checkbox\" ><label for=\"7c3cdec5-6871-47cd-a61c-d0263f96338c\" class=\"sk-toggleable__label sk-toggleable__label-arrow\">group_b</label><div class=\"sk-toggleable__content\"><pre>[&#x27;BankState&#x27;]</pre></div></div></div><div class=\"sk-serial\"><div class=\"sk-item\"><div class=\"sk-serial\"><div class=\"sk-item\"><div class=\"sk-estimator sk-toggleable\"><input class=\"sk-toggleable__control sk-hidden--visually\" id=\"c56239c4-8238-4843-a742-d9b8fe3bb01a\" type=\"checkbox\" ><label for=\"c56239c4-8238-4843-a742-d9b8fe3bb01a\" class=\"sk-toggleable__label sk-toggleable__label-arrow\">FunctionTransformer</label><div class=\"sk-toggleable__content\"><pre>FunctionTransformer(func=&lt;function to_lowercase at 0x29a0f69d0&gt;)</pre></div></div></div><div class=\"sk-item\"><div class=\"sk-estimator sk-toggleable\"><input class=\"sk-toggleable__control sk-hidden--visually\" id=\"910a16bb-57e0-4975-9f20-16aadff30127\" type=\"checkbox\" ><label for=\"910a16bb-57e0-4975-9f20-16aadff30127\" class=\"sk-toggleable__label sk-toggleable__label-arrow\">OneHotEncoder</label><div class=\"sk-toggleable__content\"><pre>OneHotEncoder(handle_unknown=&#x27;ignore&#x27;, sparse=False)</pre></div></div></div></div></div></div></div></div><div class=\"sk-parallel-item\"><div class=\"sk-item\"><div class=\"sk-label-container\"><div class=\"sk-label sk-toggleable\"><input class=\"sk-toggleable__control sk-hidden--visually\" id=\"cc54b26d-a6a3-44fb-a433-d203d4df54b3\" type=\"checkbox\" ><label for=\"cc54b26d-a6a3-44fb-a433-d203d4df54b3\" class=\"sk-toggleable__label sk-toggleable__label-arrow\">group_c</label><div class=\"sk-toggleable__content\"><pre>[&#x27;NoEmp&#x27;]</pre></div></div></div><div class=\"sk-serial\"><div class=\"sk-item\"><div class=\"sk-serial\"><div class=\"sk-item\"><div class=\"sk-estimator sk-toggleable\"><input class=\"sk-toggleable__control sk-hidden--visually\" id=\"9202b688-af80-4ddd-b76f-0976394290e8\" type=\"checkbox\" ><label for=\"9202b688-af80-4ddd-b76f-0976394290e8\" class=\"sk-toggleable__label sk-toggleable__label-arrow\">FunctionTransformer</label><div class=\"sk-toggleable__content\"><pre>FunctionTransformer(func=&lt;function limit_outlier at 0x29a0f63a0&gt;,\n                    kw_args={&#x27;max_value&#x27;: 155})</pre></div></div></div><div class=\"sk-item\"><div class=\"sk-estimator sk-toggleable\"><input class=\"sk-toggleable__control sk-hidden--visually\" id=\"80b71395-4d4a-46d8-b72f-2af94c214f81\" type=\"checkbox\" ><label for=\"80b71395-4d4a-46d8-b72f-2af94c214f81\" class=\"sk-toggleable__label sk-toggleable__label-arrow\">StandardScaler</label><div class=\"sk-toggleable__content\"><pre>StandardScaler()</pre></div></div></div></div></div></div></div></div><div class=\"sk-parallel-item\"><div class=\"sk-item\"><div class=\"sk-label-container\"><div class=\"sk-label sk-toggleable\"><input class=\"sk-toggleable__control sk-hidden--visually\" id=\"e5ccfd38-0c1f-4ccc-b89c-20e45afe6784\" type=\"checkbox\" ><label for=\"e5ccfd38-0c1f-4ccc-b89c-20e45afe6784\" class=\"sk-toggleable__label sk-toggleable__label-arrow\">group_d</label><div class=\"sk-toggleable__content\"><pre>[&#x27;NewExist&#x27;]</pre></div></div></div><div class=\"sk-serial\"><div class=\"sk-item\"><div class=\"sk-serial\"><div class=\"sk-item\"><div class=\"sk-estimator sk-toggleable\"><input class=\"sk-toggleable__control sk-hidden--visually\" id=\"75b08781-28b1-4279-abc6-684e1b2d1080\" type=\"checkbox\" ><label for=\"75b08781-28b1-4279-abc6-684e1b2d1080\" class=\"sk-toggleable__label sk-toggleable__label-arrow\">FunctionTransformer</label><div class=\"sk-toggleable__content\"><pre>FunctionTransformer(func=&lt;function fix_new_exists at 0x29a0f6a60&gt;)</pre></div></div></div><div class=\"sk-item\"><div class=\"sk-estimator sk-toggleable\"><input class=\"sk-toggleable__control sk-hidden--visually\" id=\"c7b2eb69-1ccb-464b-893c-8918c2cc621d\" type=\"checkbox\" ><label for=\"c7b2eb69-1ccb-464b-893c-8918c2cc621d\" class=\"sk-toggleable__label sk-toggleable__label-arrow\">SimpleImputer</label><div class=\"sk-toggleable__content\"><pre>SimpleImputer(strategy=&#x27;most_frequent&#x27;)</pre></div></div></div></div></div></div></div></div><div class=\"sk-parallel-item\"><div class=\"sk-item\"><div class=\"sk-label-container\"><div class=\"sk-label sk-toggleable\"><input class=\"sk-toggleable__control sk-hidden--visually\" id=\"d14ce23d-5608-459e-86d8-6342ba6ab8ba\" type=\"checkbox\" ><label for=\"d14ce23d-5608-459e-86d8-6342ba6ab8ba\" class=\"sk-toggleable__label sk-toggleable__label-arrow\">group_e</label><div class=\"sk-toggleable__content\"><pre>[&#x27;CreateJob&#x27;, &#x27;RetainedJob&#x27;]</pre></div></div></div><div class=\"sk-serial\"><div class=\"sk-item\"><div class=\"sk-serial\"><div class=\"sk-item\"><div class=\"sk-estimator sk-toggleable\"><input class=\"sk-toggleable__control sk-hidden--visually\" id=\"d3bb133b-70ac-4c40-98ba-192d0ea52216\" type=\"checkbox\" ><label for=\"d3bb133b-70ac-4c40-98ba-192d0ea52216\" class=\"sk-toggleable__label sk-toggleable__label-arrow\">FunctionTransformer</label><div class=\"sk-toggleable__content\"><pre>FunctionTransformer(func=&lt;function limit_outlier at 0x29a0f63a0&gt;,\n                    kw_args={&#x27;max_value&#x27;: 1027})</pre></div></div></div><div class=\"sk-item\"><div class=\"sk-estimator sk-toggleable\"><input class=\"sk-toggleable__control sk-hidden--visually\" id=\"1af6b0c5-f08e-4f48-a229-c882a85f0e64\" type=\"checkbox\" ><label for=\"1af6b0c5-f08e-4f48-a229-c882a85f0e64\" class=\"sk-toggleable__label sk-toggleable__label-arrow\">StandardScaler</label><div class=\"sk-toggleable__content\"><pre>StandardScaler()</pre></div></div></div></div></div></div></div></div><div class=\"sk-parallel-item\"><div class=\"sk-item\"><div class=\"sk-label-container\"><div class=\"sk-label sk-toggleable\"><input class=\"sk-toggleable__control sk-hidden--visually\" id=\"13102054-4536-4d39-8a94-2377cc1d1295\" type=\"checkbox\" ><label for=\"13102054-4536-4d39-8a94-2377cc1d1295\" class=\"sk-toggleable__label sk-toggleable__label-arrow\">group_h</label><div class=\"sk-toggleable__content\"><pre>[&#x27;LowDoc&#x27;]</pre></div></div></div><div class=\"sk-serial\"><div class=\"sk-item\"><div class=\"sk-serial\"><div class=\"sk-item\"><div class=\"sk-estimator sk-toggleable\"><input class=\"sk-toggleable__control sk-hidden--visually\" id=\"8a5ed39d-c868-4220-b06d-cdcffeb4e52c\" type=\"checkbox\" ><label for=\"8a5ed39d-c868-4220-b06d-cdcffeb4e52c\" class=\"sk-toggleable__label sk-toggleable__label-arrow\">FunctionTransformer</label><div class=\"sk-toggleable__content\"><pre>FunctionTransformer(func=&lt;function fix_lowdoc at 0x17fb39940&gt;)</pre></div></div></div></div></div></div></div></div><div class=\"sk-parallel-item\"><div class=\"sk-item\"><div class=\"sk-label-container\"><div class=\"sk-label sk-toggleable\"><input class=\"sk-toggleable__control sk-hidden--visually\" id=\"0c4047f7-fbf9-4b2a-8cd4-fdc131aa0d18\" type=\"checkbox\" ><label for=\"0c4047f7-fbf9-4b2a-8cd4-fdc131aa0d18\" class=\"sk-toggleable__label sk-toggleable__label-arrow\">group_i</label><div class=\"sk-toggleable__content\"><pre>[&#x27;DisbursementGross&#x27;]</pre></div></div></div><div class=\"sk-serial\"><div class=\"sk-item\"><div class=\"sk-serial\"><div class=\"sk-item\"><div class=\"sk-estimator sk-toggleable\"><input class=\"sk-toggleable__control sk-hidden--visually\" id=\"f8a411d8-2449-460c-a50d-d22cadf66609\" type=\"checkbox\" ><label for=\"f8a411d8-2449-460c-a50d-d22cadf66609\" class=\"sk-toggleable__label sk-toggleable__label-arrow\">FunctionTransformer</label><div class=\"sk-toggleable__content\"><pre>FunctionTransformer(func=&lt;function fix_disbursment_gross at 0x29a0f6820&gt;)</pre></div></div></div><div class=\"sk-item\"><div class=\"sk-estimator sk-toggleable\"><input class=\"sk-toggleable__control sk-hidden--visually\" id=\"d7c5deb9-49b7-4ea5-89a3-5c8dee13b662\" type=\"checkbox\" ><label for=\"d7c5deb9-49b7-4ea5-89a3-5c8dee13b662\" class=\"sk-toggleable__label sk-toggleable__label-arrow\">SimpleImputer</label><div class=\"sk-toggleable__content\"><pre>SimpleImputer()</pre></div></div></div><div class=\"sk-item\"><div class=\"sk-estimator sk-toggleable\"><input class=\"sk-toggleable__control sk-hidden--visually\" id=\"773db73b-1ed5-45a4-a0cb-3b0703399543\" type=\"checkbox\" ><label for=\"773db73b-1ed5-45a4-a0cb-3b0703399543\" class=\"sk-toggleable__label sk-toggleable__label-arrow\">StandardScaler</label><div class=\"sk-toggleable__content\"><pre>StandardScaler()</pre></div></div></div></div></div></div></div></div><div class=\"sk-parallel-item\"><div class=\"sk-item\"><div class=\"sk-label-container\"><div class=\"sk-label sk-toggleable\"><input class=\"sk-toggleable__control sk-hidden--visually\" id=\"79d26085-8473-4a9d-86db-ae0031dbea2e\" type=\"checkbox\" ><label for=\"79d26085-8473-4a9d-86db-ae0031dbea2e\" class=\"sk-toggleable__label sk-toggleable__label-arrow\">group_k</label><div class=\"sk-toggleable__content\"><pre>[&#x27;ApprovalDate&#x27;]</pre></div></div></div><div class=\"sk-serial\"><div class=\"sk-item\"><div class=\"sk-serial\"><div class=\"sk-item\"><div class=\"sk-estimator sk-toggleable\"><input class=\"sk-toggleable__control sk-hidden--visually\" id=\"d287aaac-9fa1-4785-afc4-5a009a5f434a\" type=\"checkbox\" ><label for=\"d287aaac-9fa1-4785-afc4-5a009a5f434a\" class=\"sk-toggleable__label sk-toggleable__label-arrow\">FunctionTransformer</label><div class=\"sk-toggleable__content\"><pre>FunctionTransformer(func=&lt;function get_approval_year at 0x17fb39af0&gt;)</pre></div></div></div><div class=\"sk-item\"><div class=\"sk-estimator sk-toggleable\"><input class=\"sk-toggleable__control sk-hidden--visually\" id=\"0bce10c3-bdd3-496e-932b-130f8f5a1e73\" type=\"checkbox\" ><label for=\"0bce10c3-bdd3-496e-932b-130f8f5a1e73\" class=\"sk-toggleable__label sk-toggleable__label-arrow\">StandardScaler</label><div class=\"sk-toggleable__content\"><pre>StandardScaler()</pre></div></div></div></div></div></div></div></div></div></div><div class=\"sk-item\"><div class=\"sk-estimator sk-toggleable\"><input class=\"sk-toggleable__control sk-hidden--visually\" id=\"254d547c-0188-46cd-b5eb-1273607fceab\" type=\"checkbox\" ><label for=\"254d547c-0188-46cd-b5eb-1273607fceab\" class=\"sk-toggleable__label sk-toggleable__label-arrow\">GradientBoostingClassifier</label><div class=\"sk-toggleable__content\"><pre>GradientBoostingClassifier(max_depth=15, max_features=&#x27;sqrt&#x27;,\n                           min_samples_leaf=50, min_samples_split=5,\n                           n_estimators=60, subsample=0.8)</pre></div></div></div></div></div></div></div>"
     },
     "execution_count": 10,
     "metadata": {},
     "output_type": "execute_result"
    }
   ],
   "source": [
    "from sklearn.model_selection import train_test_split\n",
    "from sklearn.ensemble import GradientBoostingClassifier\n",
    "from sklearn import metrics\n",
    "\n",
    "\n",
    "model = GradientBoostingClassifier(\n",
    "    learning_rate=0.1,\n",
    "    min_samples_split=5,\n",
    "    n_estimators=60,\n",
    "    min_samples_leaf=50,\n",
    "    max_depth=15,\n",
    "    max_features='sqrt',\n",
    "    subsample=0.8,\n",
    ")\n",
    "\n",
    "x = df_train.drop('Accept', axis=1)\n",
    "y = df_train['Accept'].values.astype('int')\n",
    "x_train, x_test, y_train, y_test = train_test_split(df_train, y, test_size=0.25, random_state=33)\n",
    "\n",
    "pipeline = Pipeline([\n",
    "    (\"preprocessor\", preprocessor),\n",
    "    (\"classifier\", model)\n",
    "])\n",
    "\n",
    "pipeline.fit(x_train, y_train)\n",
    "print(pipeline.score(x_test, y_test))\n",
    "y_test_pred = pipeline.predict(x_test)\n",
    "\n",
    "print(\"Accuracy in training \", metrics.accuracy_score(y_test, y_test_pred))\n",
    "print(\"f-score in training \", metrics.f1_score(y_test, y_test_pred))\n",
    "\n",
    "pipeline"
   ]
  },
  {
   "cell_type": "code",
   "execution_count": 11,
   "outputs": [
    {
     "name": "stdout",
     "output_type": "stream",
     "text": [
      "[ 0.          0.          0.          0.          0.          1.\n",
      "  0.          0.          0.          0.          0.          0.\n",
      "  0.          0.          0.          0.          0.          0.\n",
      "  0.          0.          0.          0.          0.          0.\n",
      "  0.          0.          0.          0.          0.         -0.4794085\n",
      "  0.         -0.07270161 -0.13426438  0.         -0.52613313  0.72273033]\n"
     ]
    }
   ],
   "source": [
    "a = preprocessor.transform(x_train)\n",
    "print(a[0])"
   ],
   "metadata": {
    "collapsed": false
   }
  },
  {
   "cell_type": "code",
   "execution_count": 12,
   "metadata": {},
   "outputs": [
    {
     "name": "stdout",
     "output_type": "stream",
     "text": [
      "Epoch 1/100\n"
     ]
    },
    {
     "name": "stderr",
     "output_type": "stream",
     "text": [
      "2023-04-02 11:54:55.521775: W tensorflow/tsl/platform/profile_utils/cpu_utils.cc:128] Failed to get CPU frequency: 0 Hz\n"
     ]
    },
    {
     "name": "stdout",
     "output_type": "stream",
     "text": [
      "92/92 [==============================] - 0s 658us/step - loss: 0.6661 - accuracy: 0.6128\n",
      "Epoch 2/100\n",
      "92/92 [==============================] - 0s 596us/step - loss: 0.6453 - accuracy: 0.6448\n",
      "Epoch 3/100\n",
      "92/92 [==============================] - 0s 605us/step - loss: 0.6400 - accuracy: 0.6444\n",
      "Epoch 4/100\n",
      "92/92 [==============================] - 0s 605us/step - loss: 0.6362 - accuracy: 0.6475\n",
      "Epoch 5/100\n",
      "92/92 [==============================] - 0s 609us/step - loss: 0.6330 - accuracy: 0.6502\n",
      "Epoch 6/100\n",
      "92/92 [==============================] - 0s 587us/step - loss: 0.6314 - accuracy: 0.6552\n",
      "Epoch 7/100\n",
      "92/92 [==============================] - 0s 601us/step - loss: 0.6269 - accuracy: 0.6626\n",
      "Epoch 8/100\n",
      "92/92 [==============================] - 0s 592us/step - loss: 0.6252 - accuracy: 0.6609\n",
      "Epoch 9/100\n",
      "92/92 [==============================] - 0s 599us/step - loss: 0.6232 - accuracy: 0.6577\n",
      "Epoch 10/100\n",
      "92/92 [==============================] - 0s 595us/step - loss: 0.6179 - accuracy: 0.6591\n",
      "Epoch 11/100\n",
      "92/92 [==============================] - 0s 598us/step - loss: 0.6153 - accuracy: 0.6664\n",
      "Epoch 12/100\n",
      "92/92 [==============================] - 0s 612us/step - loss: 0.6156 - accuracy: 0.6640\n",
      "Epoch 13/100\n",
      "92/92 [==============================] - 0s 596us/step - loss: 0.6142 - accuracy: 0.6677\n",
      "Epoch 14/100\n",
      "92/92 [==============================] - 0s 586us/step - loss: 0.6103 - accuracy: 0.6683\n",
      "Epoch 15/100\n",
      "92/92 [==============================] - 0s 606us/step - loss: 0.6137 - accuracy: 0.6638\n",
      "Epoch 16/100\n",
      "92/92 [==============================] - 0s 609us/step - loss: 0.6078 - accuracy: 0.6689\n",
      "Epoch 17/100\n",
      "92/92 [==============================] - 0s 595us/step - loss: 0.6103 - accuracy: 0.6715\n",
      "Epoch 18/100\n",
      "92/92 [==============================] - 0s 589us/step - loss: 0.6045 - accuracy: 0.6717\n",
      "Epoch 19/100\n",
      "92/92 [==============================] - 0s 612us/step - loss: 0.6025 - accuracy: 0.6745\n",
      "Epoch 20/100\n",
      "92/92 [==============================] - 0s 590us/step - loss: 0.6049 - accuracy: 0.6706\n",
      "Epoch 21/100\n",
      "92/92 [==============================] - 0s 605us/step - loss: 0.6018 - accuracy: 0.6761\n",
      "Epoch 22/100\n",
      "92/92 [==============================] - 0s 595us/step - loss: 0.6030 - accuracy: 0.6715\n",
      "Epoch 23/100\n",
      "92/92 [==============================] - 0s 592us/step - loss: 0.6017 - accuracy: 0.6735\n",
      "Epoch 24/100\n",
      "92/92 [==============================] - 0s 598us/step - loss: 0.5968 - accuracy: 0.6796\n",
      "Epoch 25/100\n",
      "92/92 [==============================] - 0s 616us/step - loss: 0.5990 - accuracy: 0.6783\n",
      "Epoch 26/100\n",
      "92/92 [==============================] - 0s 613us/step - loss: 0.5999 - accuracy: 0.6739\n",
      "Epoch 27/100\n",
      "92/92 [==============================] - 0s 612us/step - loss: 0.5986 - accuracy: 0.6766\n",
      "Epoch 28/100\n",
      "92/92 [==============================] - 0s 604us/step - loss: 0.5965 - accuracy: 0.6776\n",
      "Epoch 29/100\n",
      "92/92 [==============================] - 0s 588us/step - loss: 0.6004 - accuracy: 0.6798\n",
      "Epoch 30/100\n",
      "92/92 [==============================] - 0s 609us/step - loss: 0.5918 - accuracy: 0.6844\n",
      "Epoch 31/100\n",
      "92/92 [==============================] - 0s 610us/step - loss: 0.5937 - accuracy: 0.6866\n",
      "Epoch 32/100\n",
      "92/92 [==============================] - 0s 617us/step - loss: 0.5960 - accuracy: 0.6844\n",
      "Epoch 33/100\n",
      "92/92 [==============================] - 0s 599us/step - loss: 0.5926 - accuracy: 0.6858\n",
      "Epoch 34/100\n",
      "92/92 [==============================] - 0s 590us/step - loss: 0.5933 - accuracy: 0.6796\n",
      "Epoch 35/100\n",
      "92/92 [==============================] - 0s 588us/step - loss: 0.5947 - accuracy: 0.6864\n",
      "Epoch 36/100\n",
      "92/92 [==============================] - 0s 586us/step - loss: 0.5910 - accuracy: 0.6824\n",
      "Epoch 37/100\n",
      "92/92 [==============================] - 0s 612us/step - loss: 0.5918 - accuracy: 0.6873\n",
      "Epoch 38/100\n",
      "92/92 [==============================] - 0s 596us/step - loss: 0.5895 - accuracy: 0.6883\n",
      "Epoch 39/100\n",
      "92/92 [==============================] - 0s 598us/step - loss: 0.5893 - accuracy: 0.6876\n",
      "Epoch 40/100\n",
      "92/92 [==============================] - 0s 579us/step - loss: 0.5911 - accuracy: 0.6858\n",
      "Epoch 41/100\n",
      "92/92 [==============================] - 0s 599us/step - loss: 0.5885 - accuracy: 0.6887\n",
      "Epoch 42/100\n",
      "92/92 [==============================] - 0s 573us/step - loss: 0.5889 - accuracy: 0.6825\n",
      "Epoch 43/100\n",
      "92/92 [==============================] - 0s 590us/step - loss: 0.5893 - accuracy: 0.6842\n",
      "Epoch 44/100\n",
      "92/92 [==============================] - 0s 602us/step - loss: 0.5851 - accuracy: 0.6917\n",
      "Epoch 45/100\n",
      "92/92 [==============================] - 0s 741us/step - loss: 0.5879 - accuracy: 0.6883\n",
      "Epoch 46/100\n",
      "92/92 [==============================] - 0s 571us/step - loss: 0.5918 - accuracy: 0.6881\n",
      "Epoch 47/100\n",
      "92/92 [==============================] - 0s 596us/step - loss: 0.5914 - accuracy: 0.6839\n",
      "Epoch 48/100\n",
      "92/92 [==============================] - 0s 589us/step - loss: 0.5861 - accuracy: 0.6909\n",
      "Epoch 49/100\n",
      "92/92 [==============================] - 0s 673us/step - loss: 0.5864 - accuracy: 0.6866\n",
      "Epoch 50/100\n",
      "92/92 [==============================] - 0s 607us/step - loss: 0.5866 - accuracy: 0.6875\n",
      "Epoch 51/100\n",
      "92/92 [==============================] - 0s 622us/step - loss: 0.5887 - accuracy: 0.6861\n",
      "Epoch 52/100\n",
      "92/92 [==============================] - 0s 590us/step - loss: 0.5821 - accuracy: 0.6910\n",
      "Epoch 53/100\n",
      "92/92 [==============================] - 0s 602us/step - loss: 0.5855 - accuracy: 0.6917\n",
      "Epoch 54/100\n",
      "92/92 [==============================] - 0s 624us/step - loss: 0.5820 - accuracy: 0.6890\n",
      "Epoch 55/100\n",
      "92/92 [==============================] - 0s 623us/step - loss: 0.5820 - accuracy: 0.6924\n",
      "Epoch 56/100\n",
      "92/92 [==============================] - 0s 592us/step - loss: 0.5876 - accuracy: 0.6847\n",
      "Epoch 57/100\n",
      "92/92 [==============================] - 0s 608us/step - loss: 0.5801 - accuracy: 0.6909\n",
      "Epoch 58/100\n",
      "92/92 [==============================] - 0s 632us/step - loss: 0.5799 - accuracy: 0.6929\n",
      "Epoch 59/100\n",
      "92/92 [==============================] - 0s 649us/step - loss: 0.5834 - accuracy: 0.6870\n",
      "Epoch 60/100\n",
      "92/92 [==============================] - 0s 600us/step - loss: 0.5838 - accuracy: 0.6917\n",
      "Epoch 61/100\n",
      "92/92 [==============================] - 0s 628us/step - loss: 0.5811 - accuracy: 0.6955\n",
      "Epoch 62/100\n",
      "92/92 [==============================] - 0s 642us/step - loss: 0.5815 - accuracy: 0.6995\n",
      "Epoch 63/100\n",
      "92/92 [==============================] - 0s 636us/step - loss: 0.5830 - accuracy: 0.6895\n",
      "Epoch 64/100\n",
      "92/92 [==============================] - 0s 637us/step - loss: 0.5805 - accuracy: 0.6929\n",
      "Epoch 65/100\n",
      "92/92 [==============================] - 0s 621us/step - loss: 0.5794 - accuracy: 0.6853\n",
      "Epoch 66/100\n",
      "92/92 [==============================] - 0s 602us/step - loss: 0.5812 - accuracy: 0.6914\n",
      "Epoch 67/100\n",
      "92/92 [==============================] - 0s 595us/step - loss: 0.5773 - accuracy: 0.7012\n",
      "Epoch 68/100\n",
      "92/92 [==============================] - 0s 606us/step - loss: 0.5806 - accuracy: 0.6941\n",
      "Epoch 69/100\n",
      "92/92 [==============================] - 0s 618us/step - loss: 0.5794 - accuracy: 0.6917\n",
      "Epoch 70/100\n",
      "92/92 [==============================] - 0s 604us/step - loss: 0.5802 - accuracy: 0.6917\n",
      "Epoch 71/100\n",
      "92/92 [==============================] - 0s 597us/step - loss: 0.5797 - accuracy: 0.6880\n",
      "Epoch 72/100\n",
      "92/92 [==============================] - 0s 607us/step - loss: 0.5788 - accuracy: 0.6863\n",
      "Epoch 73/100\n",
      "92/92 [==============================] - 0s 582us/step - loss: 0.5771 - accuracy: 0.6939\n",
      "Epoch 74/100\n",
      "92/92 [==============================] - 0s 590us/step - loss: 0.5767 - accuracy: 0.6965\n",
      "Epoch 75/100\n",
      "92/92 [==============================] - 0s 590us/step - loss: 0.5784 - accuracy: 0.6960\n",
      "Epoch 76/100\n",
      "92/92 [==============================] - 0s 570us/step - loss: 0.5739 - accuracy: 0.6956\n",
      "Epoch 77/100\n",
      "92/92 [==============================] - 0s 598us/step - loss: 0.5772 - accuracy: 0.6938\n",
      "Epoch 78/100\n",
      "92/92 [==============================] - 0s 586us/step - loss: 0.5779 - accuracy: 0.6907\n",
      "Epoch 79/100\n",
      "92/92 [==============================] - 0s 611us/step - loss: 0.5789 - accuracy: 0.6977\n",
      "Epoch 80/100\n",
      "92/92 [==============================] - 0s 602us/step - loss: 0.5786 - accuracy: 0.6956\n",
      "Epoch 81/100\n",
      "92/92 [==============================] - 0s 577us/step - loss: 0.5721 - accuracy: 0.7019\n",
      "Epoch 82/100\n",
      "92/92 [==============================] - 0s 616us/step - loss: 0.5738 - accuracy: 0.6944\n",
      "Epoch 83/100\n",
      "92/92 [==============================] - 0s 598us/step - loss: 0.5766 - accuracy: 0.6929\n",
      "Epoch 84/100\n",
      "92/92 [==============================] - 0s 602us/step - loss: 0.5701 - accuracy: 0.6958\n",
      "Epoch 85/100\n",
      "92/92 [==============================] - 0s 600us/step - loss: 0.5716 - accuracy: 0.6994\n",
      "Epoch 86/100\n",
      "92/92 [==============================] - 0s 591us/step - loss: 0.5786 - accuracy: 0.6926\n",
      "Epoch 87/100\n",
      "92/92 [==============================] - 0s 598us/step - loss: 0.5775 - accuracy: 0.6921\n",
      "Epoch 88/100\n",
      "92/92 [==============================] - 0s 585us/step - loss: 0.5738 - accuracy: 0.7001\n",
      "Epoch 89/100\n",
      "92/92 [==============================] - 0s 617us/step - loss: 0.5747 - accuracy: 0.7007\n",
      "Epoch 90/100\n",
      "92/92 [==============================] - 0s 602us/step - loss: 0.5771 - accuracy: 0.6914\n",
      "Epoch 91/100\n",
      "92/92 [==============================] - 0s 596us/step - loss: 0.5773 - accuracy: 0.6955\n",
      "Epoch 92/100\n",
      "92/92 [==============================] - 0s 583us/step - loss: 0.5731 - accuracy: 0.7007\n",
      "Epoch 93/100\n",
      "92/92 [==============================] - 0s 604us/step - loss: 0.5736 - accuracy: 0.6938\n",
      "Epoch 94/100\n",
      "92/92 [==============================] - 0s 591us/step - loss: 0.5769 - accuracy: 0.7024\n",
      "Epoch 95/100\n",
      "92/92 [==============================] - 0s 591us/step - loss: 0.5728 - accuracy: 0.6941\n",
      "Epoch 96/100\n",
      "92/92 [==============================] - 0s 591us/step - loss: 0.5758 - accuracy: 0.6941\n",
      "Epoch 97/100\n",
      "92/92 [==============================] - 0s 594us/step - loss: 0.5715 - accuracy: 0.6953\n",
      "Epoch 98/100\n",
      "92/92 [==============================] - 0s 589us/step - loss: 0.5702 - accuracy: 0.6951\n",
      "Epoch 99/100\n",
      "92/92 [==============================] - 0s 590us/step - loss: 0.5691 - accuracy: 0.6997\n",
      "Epoch 100/100\n",
      "92/92 [==============================] - 0s 602us/step - loss: 0.5735 - accuracy: 0.6990\n"
     ]
    },
    {
     "data": {
      "text/plain": "<keras.callbacks.History at 0x29b4c72e0>"
     },
     "execution_count": 12,
     "metadata": {},
     "output_type": "execute_result"
    }
   ],
   "source": [
    "input_shape = preprocessor.transform(x_train).shape\n",
    "x_train_processed = preprocessor.transform(x_train)\n",
    "\n",
    "# Define the model architecture\n",
    "model = tf.keras.models.Sequential([\n",
    "  tf.keras.layers.Dense(64, activation='relu', input_shape=(input_shape[1],)),\n",
    "  tf.keras.layers.Dropout(0.3),\n",
    "  tf.keras.layers.Dense(32, activation='relu'),\n",
    "  tf.keras.layers.Dropout(0.3),\n",
    "  tf.keras.layers.Dense(1, activation='sigmoid')\n",
    "])\n",
    "\n",
    "# Compile the model with binary crossentropy loss and accuracy metric\n",
    "model.compile(optimizer='adam', loss='binary_crossentropy', metrics=['accuracy'])\n",
    "\n",
    "# Train the model on the training data\n",
    "model.fit(x_train_processed, y_train, epochs=100, batch_size=64)\n"
   ]
  },
  {
   "cell_type": "code",
   "execution_count": 13,
   "metadata": {},
   "outputs": [
    {
     "name": "stdout",
     "output_type": "stream",
     "text": [
      "62/62 [==============================] - 0s 348us/step\n",
      "Accuracy in testing  0.6731259561448241\n",
      "f-score in testing  0.6865525672371637\n"
     ]
    }
   ],
   "source": [
    "x_test_processed = preprocessor.transform(x_test)\n",
    "y_test_prob = model.predict(x_test_processed)\n",
    "y_test_pred = np.round(y_test_prob).ravel()\n",
    "\n",
    "print(\"Accuracy in testing \", metrics.accuracy_score(y_test, y_test_pred))\n",
    "print(\"f-score in testing \", metrics.f1_score(y_test, y_test_pred))"
   ]
  },
  {
   "cell_type": "code",
   "execution_count": 14,
   "metadata": {},
   "outputs": [
    {
     "name": "stdout",
     "output_type": "stream",
     "text": [
      "(1961, 21)\n",
      "(1961,)\n"
     ]
    }
   ],
   "source": [
    "print(x_test.shape)\n",
    "print(y_test.shape)\n"
   ]
  },
  {
   "cell_type": "code",
   "execution_count": 14,
   "outputs": [],
   "source": [],
   "metadata": {
    "collapsed": false
   }
  },
  {
   "cell_type": "code",
   "execution_count": 18,
   "metadata": {},
   "outputs": [
    {
     "name": "stdout",
     "output_type": "stream",
     "text": [
      "103/103 [==============================] - 0s 312us/step\n"
     ]
    }
   ],
   "source": [
    "x_test_nolabel_processed = preprocessor.transform(df_test_nolabel)\n",
    "y_test_nolabel_prob = model.predict(x_test_nolabel_processed)\n",
    "y_test_nolabel_pred = np.round(y_test_nolabel_prob).ravel()\n",
    "\n",
    "sample_out = pd.DataFrame()\n",
    "sample_out[\"id\"] = df_test_nolabel[\"id\"]\n",
    "sample_out[\"Accept\"] = y_test_nolabel_pred.astype(\"int\")"
   ]
  },
  {
   "cell_type": "code",
   "execution_count": 19,
   "metadata": {},
   "outputs": [
    {
     "data": {
      "text/plain": "               id  Accept\n0     82e99051e9c       1\n1     df1cfad8fb6       0\n2     2d3d3198980       0\n3     3f56f41d280       0\n4     cca77d2e8a4       0\n...           ...     ...\n3269  19ecb5cd698       0\n3270  d1ac6d902de       1\n3271  e8c19edd044       1\n3272  7139f39bee2       1\n3273  f78fbc8bde7       1\n\n[3274 rows x 2 columns]",
      "text/html": "<div>\n<style scoped>\n    .dataframe tbody tr th:only-of-type {\n        vertical-align: middle;\n    }\n\n    .dataframe tbody tr th {\n        vertical-align: top;\n    }\n\n    .dataframe thead th {\n        text-align: right;\n    }\n</style>\n<table border=\"1\" class=\"dataframe\">\n  <thead>\n    <tr style=\"text-align: right;\">\n      <th></th>\n      <th>id</th>\n      <th>Accept</th>\n    </tr>\n  </thead>\n  <tbody>\n    <tr>\n      <th>0</th>\n      <td>82e99051e9c</td>\n      <td>1</td>\n    </tr>\n    <tr>\n      <th>1</th>\n      <td>df1cfad8fb6</td>\n      <td>0</td>\n    </tr>\n    <tr>\n      <th>2</th>\n      <td>2d3d3198980</td>\n      <td>0</td>\n    </tr>\n    <tr>\n      <th>3</th>\n      <td>3f56f41d280</td>\n      <td>0</td>\n    </tr>\n    <tr>\n      <th>4</th>\n      <td>cca77d2e8a4</td>\n      <td>0</td>\n    </tr>\n    <tr>\n      <th>...</th>\n      <td>...</td>\n      <td>...</td>\n    </tr>\n    <tr>\n      <th>3269</th>\n      <td>19ecb5cd698</td>\n      <td>0</td>\n    </tr>\n    <tr>\n      <th>3270</th>\n      <td>d1ac6d902de</td>\n      <td>1</td>\n    </tr>\n    <tr>\n      <th>3271</th>\n      <td>e8c19edd044</td>\n      <td>1</td>\n    </tr>\n    <tr>\n      <th>3272</th>\n      <td>7139f39bee2</td>\n      <td>1</td>\n    </tr>\n    <tr>\n      <th>3273</th>\n      <td>f78fbc8bde7</td>\n      <td>1</td>\n    </tr>\n  </tbody>\n</table>\n<p>3274 rows × 2 columns</p>\n</div>"
     },
     "execution_count": 19,
     "metadata": {},
     "output_type": "execute_result"
    }
   ],
   "source": [
    "from datetime import datetime\n",
    "\n",
    "now = datetime.now()\n",
    "date_string = now.strftime(\"%Y%m%d_%H%M\")\n",
    "\n",
    "sample_out.to_csv(f\"./../data/submission_{date_string}.csv\", index=False)\n",
    "sample_out"
   ]
  },
  {
   "cell_type": "code",
   "execution_count": 20,
   "metadata": {},
   "outputs": [
    {
     "data": {
      "text/plain": "Accept\n0    1574\n1    1700\ndtype: int64"
     },
     "execution_count": 20,
     "metadata": {},
     "output_type": "execute_result"
    }
   ],
   "source": [
    "sample_out.groupby(\"Accept\").size()"
   ]
  },
  {
   "cell_type": "code",
   "execution_count": 210,
   "metadata": {},
   "outputs": [],
   "source": []
  },
  {
   "cell_type": "code",
   "execution_count": null,
   "outputs": [],
   "source": [],
   "metadata": {
    "collapsed": false
   }
  }
 ],
 "metadata": {
  "kernelspec": {
   "display_name": "Python 3 (ipykernel)",
   "language": "python",
   "name": "python3"
  },
  "language_info": {
   "codemirror_mode": {
    "name": "ipython",
    "version": 3
   },
   "file_extension": ".py",
   "mimetype": "text/x-python",
   "name": "python",
   "nbconvert_exporter": "python",
   "pygments_lexer": "ipython3",
   "version": "3.8.9"
  }
 },
 "nbformat": 4,
 "nbformat_minor": 1
}
