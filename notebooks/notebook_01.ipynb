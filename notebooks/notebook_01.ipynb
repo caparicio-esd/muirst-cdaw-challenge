{
 "cells": [
  {
   "cell_type": "raw",
   "metadata": {
    "pycharm": {
     "name": ""
    }
   },
   "source": []
  },
  {
   "cell_type": "code",
   "execution_count": 257,
   "metadata": {},
   "outputs": [],
   "source": [
    "import pandas as pd\n",
    "import seaborn.objects as so\n",
    "from matplotlib import pyplot as plt\n",
    "\n",
    "%matplotlib inline"
   ]
  },
  {
   "cell_type": "code",
   "execution_count": 108,
   "metadata": {},
   "outputs": [
    {
     "name": "stderr",
     "output_type": "stream",
     "text": [
      "/var/folders/9r/sd92rccj2_xbk8nkg4v7dcm00000gn/T/ipykernel_64379/1911879165.py:1: DtypeWarning: Columns (8) have mixed types. Specify dtype option on import or set low_memory=False.\n",
      "  df_train = pd.read_csv(\"./../data/train.csv\")\n"
     ]
    }
   ],
   "source": [
    "df_train = pd.read_csv(\"./../data/train.csv\")\n",
    "df_test_nolabel = pd.read_csv(\"./../data/test_nolabel.csv\")\n",
    "df_sample_submission = pd.read_csv(\"./../data/sample_submission.csv\")"
   ]
  },
  {
   "cell_type": "code",
   "execution_count": 109,
   "metadata": {},
   "outputs": [
    {
     "data": {
      "text/html": [
       "<div>\n",
       "<style scoped>\n",
       "    .dataframe tbody tr th:only-of-type {\n",
       "        vertical-align: middle;\n",
       "    }\n",
       "\n",
       "    .dataframe tbody tr th {\n",
       "        vertical-align: top;\n",
       "    }\n",
       "\n",
       "    .dataframe thead th {\n",
       "        text-align: right;\n",
       "    }\n",
       "</style>\n",
       "<table border=\"1\" class=\"dataframe\">\n",
       "  <thead>\n",
       "    <tr style=\"text-align: right;\">\n",
       "      <th></th>\n",
       "      <th>id</th>\n",
       "      <th>Accept</th>\n",
       "    </tr>\n",
       "  </thead>\n",
       "  <tbody>\n",
       "    <tr>\n",
       "      <th>0</th>\n",
       "      <td>63ef5dfc62f</td>\n",
       "      <td>0</td>\n",
       "    </tr>\n",
       "    <tr>\n",
       "      <th>1</th>\n",
       "      <td>65ee0569c05</td>\n",
       "      <td>0</td>\n",
       "    </tr>\n",
       "    <tr>\n",
       "      <th>2</th>\n",
       "      <td>19058f4da52</td>\n",
       "      <td>0</td>\n",
       "    </tr>\n",
       "    <tr>\n",
       "      <th>3</th>\n",
       "      <td>a0f1299afe4</td>\n",
       "      <td>0</td>\n",
       "    </tr>\n",
       "    <tr>\n",
       "      <th>4</th>\n",
       "      <td>e47da0be9fc</td>\n",
       "      <td>0</td>\n",
       "    </tr>\n",
       "    <tr>\n",
       "      <th>...</th>\n",
       "      <td>...</td>\n",
       "      <td>...</td>\n",
       "    </tr>\n",
       "    <tr>\n",
       "      <th>7045</th>\n",
       "      <td>78c2f0067d8</td>\n",
       "      <td>1</td>\n",
       "    </tr>\n",
       "    <tr>\n",
       "      <th>7046</th>\n",
       "      <td>279c7d23eb7</td>\n",
       "      <td>0</td>\n",
       "    </tr>\n",
       "    <tr>\n",
       "      <th>7047</th>\n",
       "      <td>d67af0ec109</td>\n",
       "      <td>0</td>\n",
       "    </tr>\n",
       "    <tr>\n",
       "      <th>7048</th>\n",
       "      <td>7d2e8114e9a</td>\n",
       "      <td>1</td>\n",
       "    </tr>\n",
       "    <tr>\n",
       "      <th>7049</th>\n",
       "      <td>f479ed04b66</td>\n",
       "      <td>0</td>\n",
       "    </tr>\n",
       "  </tbody>\n",
       "</table>\n",
       "<p>7050 rows × 2 columns</p>\n",
       "</div>"
      ],
      "text/plain": [
       "               id  Accept\n",
       "0     63ef5dfc62f       0\n",
       "1     65ee0569c05       0\n",
       "2     19058f4da52       0\n",
       "3     a0f1299afe4       0\n",
       "4     e47da0be9fc       0\n",
       "...           ...     ...\n",
       "7045  78c2f0067d8       1\n",
       "7046  279c7d23eb7       0\n",
       "7047  d67af0ec109       0\n",
       "7048  7d2e8114e9a       1\n",
       "7049  f479ed04b66       0\n",
       "\n",
       "[7050 rows x 2 columns]"
      ]
     },
     "execution_count": 109,
     "metadata": {},
     "output_type": "execute_result"
    }
   ],
   "source": [
    "df_sample_submission"
   ]
  },
  {
   "cell_type": "code",
   "execution_count": 110,
   "metadata": {},
   "outputs": [
    {
     "data": {
      "text/html": [
       "<div>\n",
       "<style scoped>\n",
       "    .dataframe tbody tr th:only-of-type {\n",
       "        vertical-align: middle;\n",
       "    }\n",
       "\n",
       "    .dataframe tbody tr th {\n",
       "        vertical-align: top;\n",
       "    }\n",
       "\n",
       "    .dataframe thead th {\n",
       "        text-align: right;\n",
       "    }\n",
       "</style>\n",
       "<table border=\"1\" class=\"dataframe\">\n",
       "  <thead>\n",
       "    <tr style=\"text-align: right;\">\n",
       "      <th></th>\n",
       "      <th>id</th>\n",
       "      <th>LoanNr_ChkDgt</th>\n",
       "      <th>Name</th>\n",
       "      <th>City</th>\n",
       "      <th>State</th>\n",
       "      <th>Bank</th>\n",
       "      <th>BankState</th>\n",
       "      <th>ApprovalDate</th>\n",
       "      <th>ApprovalFY</th>\n",
       "      <th>NoEmp</th>\n",
       "      <th>NewExist</th>\n",
       "      <th>CreateJob</th>\n",
       "      <th>RetainedJob</th>\n",
       "      <th>FranchiseCode</th>\n",
       "      <th>UrbanRural</th>\n",
       "      <th>RevLineCr</th>\n",
       "      <th>LowDoc</th>\n",
       "      <th>DisbursementDate</th>\n",
       "      <th>DisbursementGross</th>\n",
       "      <th>BalanceGross</th>\n",
       "    </tr>\n",
       "  </thead>\n",
       "  <tbody>\n",
       "    <tr>\n",
       "      <th>0</th>\n",
       "      <td>63ef5dfc62f</td>\n",
       "      <td>1787644007</td>\n",
       "      <td>ERIC P. HAILE</td>\n",
       "      <td>STAFFORD</td>\n",
       "      <td>NY</td>\n",
       "      <td>MANUFACTURERS &amp; TRADERS TR CO</td>\n",
       "      <td>NY</td>\n",
       "      <td>16-Jan-98</td>\n",
       "      <td>1998</td>\n",
       "      <td>1</td>\n",
       "      <td>2.0</td>\n",
       "      <td>0</td>\n",
       "      <td>0</td>\n",
       "      <td>1</td>\n",
       "      <td>0</td>\n",
       "      <td>N</td>\n",
       "      <td>Y</td>\n",
       "      <td>3-Apr-98</td>\n",
       "      <td>$35,000.00</td>\n",
       "      <td>$0.00</td>\n",
       "    </tr>\n",
       "    <tr>\n",
       "      <th>1</th>\n",
       "      <td>65ee0569c05</td>\n",
       "      <td>6209123009</td>\n",
       "      <td>TANNING BED, LTD.</td>\n",
       "      <td>WEST SENECA</td>\n",
       "      <td>NY</td>\n",
       "      <td>MANUFACTURERS &amp; TRADERS TR CO</td>\n",
       "      <td>NY</td>\n",
       "      <td>9-Feb-94</td>\n",
       "      <td>1994</td>\n",
       "      <td>81</td>\n",
       "      <td>1.0</td>\n",
       "      <td>0</td>\n",
       "      <td>0</td>\n",
       "      <td>1</td>\n",
       "      <td>0</td>\n",
       "      <td>N</td>\n",
       "      <td>N</td>\n",
       "      <td>31-Jul-94</td>\n",
       "      <td>$145,000.00</td>\n",
       "      <td>$0.00</td>\n",
       "    </tr>\n",
       "    <tr>\n",
       "      <th>2</th>\n",
       "      <td>19058f4da52</td>\n",
       "      <td>5033174010</td>\n",
       "      <td>BREITO COMPUTER SOLUTIONS INC</td>\n",
       "      <td>WOOD HAVEN (WOODHAVEN)</td>\n",
       "      <td>NY</td>\n",
       "      <td>BANK OF AMERICA NATL ASSOC</td>\n",
       "      <td>RI</td>\n",
       "      <td>7-Nov-01</td>\n",
       "      <td>2002</td>\n",
       "      <td>4</td>\n",
       "      <td>1.0</td>\n",
       "      <td>1</td>\n",
       "      <td>5</td>\n",
       "      <td>1</td>\n",
       "      <td>1</td>\n",
       "      <td>Y</td>\n",
       "      <td>N</td>\n",
       "      <td>31-Dec-01</td>\n",
       "      <td>$52,174.00</td>\n",
       "      <td>$0.00</td>\n",
       "    </tr>\n",
       "    <tr>\n",
       "      <th>3</th>\n",
       "      <td>a0f1299afe4</td>\n",
       "      <td>1578685008</td>\n",
       "      <td>Rasol Food Corporation</td>\n",
       "      <td>BRONX</td>\n",
       "      <td>NY</td>\n",
       "      <td>JPMORGAN CHASE BANK NATL ASSOC</td>\n",
       "      <td>IL</td>\n",
       "      <td>13-Dec-05</td>\n",
       "      <td>2006</td>\n",
       "      <td>6</td>\n",
       "      <td>2.0</td>\n",
       "      <td>3</td>\n",
       "      <td>6</td>\n",
       "      <td>0</td>\n",
       "      <td>1</td>\n",
       "      <td>Y</td>\n",
       "      <td>N</td>\n",
       "      <td>31-Jan-06</td>\n",
       "      <td>$194,316.00</td>\n",
       "      <td>$0.00</td>\n",
       "    </tr>\n",
       "    <tr>\n",
       "      <th>4</th>\n",
       "      <td>e47da0be9fc</td>\n",
       "      <td>7146054004</td>\n",
       "      <td>MCKAY ARCHITECTURE AND DESIGN</td>\n",
       "      <td>NEW YORK</td>\n",
       "      <td>NY</td>\n",
       "      <td>FLUSHING BANK</td>\n",
       "      <td>NY</td>\n",
       "      <td>30-Jan-04</td>\n",
       "      <td>2004</td>\n",
       "      <td>3</td>\n",
       "      <td>1.0</td>\n",
       "      <td>0</td>\n",
       "      <td>3</td>\n",
       "      <td>1</td>\n",
       "      <td>1</td>\n",
       "      <td>Y</td>\n",
       "      <td>N</td>\n",
       "      <td>29-Feb-04</td>\n",
       "      <td>$75,000.00</td>\n",
       "      <td>$0.00</td>\n",
       "    </tr>\n",
       "    <tr>\n",
       "      <th>...</th>\n",
       "      <td>...</td>\n",
       "      <td>...</td>\n",
       "      <td>...</td>\n",
       "      <td>...</td>\n",
       "      <td>...</td>\n",
       "      <td>...</td>\n",
       "      <td>...</td>\n",
       "      <td>...</td>\n",
       "      <td>...</td>\n",
       "      <td>...</td>\n",
       "      <td>...</td>\n",
       "      <td>...</td>\n",
       "      <td>...</td>\n",
       "      <td>...</td>\n",
       "      <td>...</td>\n",
       "      <td>...</td>\n",
       "      <td>...</td>\n",
       "      <td>...</td>\n",
       "      <td>...</td>\n",
       "      <td>...</td>\n",
       "    </tr>\n",
       "    <tr>\n",
       "      <th>7045</th>\n",
       "      <td>78c2f0067d8</td>\n",
       "      <td>5583904009</td>\n",
       "      <td>NASCO STONEWORKS INC</td>\n",
       "      <td>HUNTINGTON STATION (HUNTINGTON</td>\n",
       "      <td>NY</td>\n",
       "      <td>BANK OF AMERICA NATL ASSOC</td>\n",
       "      <td>RI</td>\n",
       "      <td>2-Aug-02</td>\n",
       "      <td>2002</td>\n",
       "      <td>2</td>\n",
       "      <td>1.0</td>\n",
       "      <td>0</td>\n",
       "      <td>2</td>\n",
       "      <td>1</td>\n",
       "      <td>1</td>\n",
       "      <td>0</td>\n",
       "      <td>N</td>\n",
       "      <td>31-Oct-02</td>\n",
       "      <td>$30,000.00</td>\n",
       "      <td>$0.00</td>\n",
       "    </tr>\n",
       "    <tr>\n",
       "      <th>7046</th>\n",
       "      <td>279c7d23eb7</td>\n",
       "      <td>3264695007</td>\n",
       "      <td>Yaworski's, Inc.</td>\n",
       "      <td>ROME</td>\n",
       "      <td>NY</td>\n",
       "      <td>FIRST NIAGARA BANK NATL ASSOC</td>\n",
       "      <td>NY</td>\n",
       "      <td>14-Nov-08</td>\n",
       "      <td>2009</td>\n",
       "      <td>5</td>\n",
       "      <td>2.0</td>\n",
       "      <td>0</td>\n",
       "      <td>5</td>\n",
       "      <td>0</td>\n",
       "      <td>1</td>\n",
       "      <td>N</td>\n",
       "      <td>N</td>\n",
       "      <td>31-Dec-08</td>\n",
       "      <td>$18.00</td>\n",
       "      <td>$0.00</td>\n",
       "    </tr>\n",
       "    <tr>\n",
       "      <th>7047</th>\n",
       "      <td>d67af0ec109</td>\n",
       "      <td>1890735004</td>\n",
       "      <td>RAWSON VALLEY FARMS LANDSCAPES</td>\n",
       "      <td>WALWORTH</td>\n",
       "      <td>NY</td>\n",
       "      <td>CITIZENS BANK NATL ASSOC</td>\n",
       "      <td>RI</td>\n",
       "      <td>23-Jun-06</td>\n",
       "      <td>2006</td>\n",
       "      <td>1</td>\n",
       "      <td>1.0</td>\n",
       "      <td>0</td>\n",
       "      <td>1</td>\n",
       "      <td>0</td>\n",
       "      <td>2</td>\n",
       "      <td>Y</td>\n",
       "      <td>N</td>\n",
       "      <td>31-Aug-06</td>\n",
       "      <td>$23,762.00</td>\n",
       "      <td>$0.00</td>\n",
       "    </tr>\n",
       "    <tr>\n",
       "      <th>7048</th>\n",
       "      <td>7d2e8114e9a</td>\n",
       "      <td>8939464003</td>\n",
       "      <td>RAJ REALTY PA LLC</td>\n",
       "      <td>BROOKLYN</td>\n",
       "      <td>NY</td>\n",
       "      <td>FIRST NIAGARA BANK NATL ASSOC</td>\n",
       "      <td>NY</td>\n",
       "      <td>20-Jun-05</td>\n",
       "      <td>2005</td>\n",
       "      <td>2</td>\n",
       "      <td>1.0</td>\n",
       "      <td>0</td>\n",
       "      <td>2</td>\n",
       "      <td>1</td>\n",
       "      <td>1</td>\n",
       "      <td>Y</td>\n",
       "      <td>N</td>\n",
       "      <td>31-Mar-08</td>\n",
       "      <td>$30,000.00</td>\n",
       "      <td>$0.00</td>\n",
       "    </tr>\n",
       "    <tr>\n",
       "      <th>7049</th>\n",
       "      <td>f479ed04b66</td>\n",
       "      <td>1527695000</td>\n",
       "      <td>Heather Adelle</td>\n",
       "      <td>BROOKLYN</td>\n",
       "      <td>NY</td>\n",
       "      <td>HSBC BK USA NATL ASSOC</td>\n",
       "      <td>VA</td>\n",
       "      <td>3-Nov-05</td>\n",
       "      <td>2006</td>\n",
       "      <td>1</td>\n",
       "      <td>2.0</td>\n",
       "      <td>0</td>\n",
       "      <td>1</td>\n",
       "      <td>0</td>\n",
       "      <td>1</td>\n",
       "      <td>Y</td>\n",
       "      <td>N</td>\n",
       "      <td>30-Nov-05</td>\n",
       "      <td>$25,247.00</td>\n",
       "      <td>$0.00</td>\n",
       "    </tr>\n",
       "  </tbody>\n",
       "</table>\n",
       "<p>7050 rows × 20 columns</p>\n",
       "</div>"
      ],
      "text/plain": [
       "               id  LoanNr_ChkDgt                            Name  \\\n",
       "0     63ef5dfc62f     1787644007                   ERIC P. HAILE   \n",
       "1     65ee0569c05     6209123009               TANNING BED, LTD.   \n",
       "2     19058f4da52     5033174010   BREITO COMPUTER SOLUTIONS INC   \n",
       "3     a0f1299afe4     1578685008          Rasol Food Corporation   \n",
       "4     e47da0be9fc     7146054004   MCKAY ARCHITECTURE AND DESIGN   \n",
       "...           ...            ...                             ...   \n",
       "7045  78c2f0067d8     5583904009            NASCO STONEWORKS INC   \n",
       "7046  279c7d23eb7     3264695007                Yaworski's, Inc.   \n",
       "7047  d67af0ec109     1890735004  RAWSON VALLEY FARMS LANDSCAPES   \n",
       "7048  7d2e8114e9a     8939464003               RAJ REALTY PA LLC   \n",
       "7049  f479ed04b66     1527695000                  Heather Adelle   \n",
       "\n",
       "                                City State                            Bank  \\\n",
       "0                           STAFFORD    NY   MANUFACTURERS & TRADERS TR CO   \n",
       "1                        WEST SENECA    NY   MANUFACTURERS & TRADERS TR CO   \n",
       "2             WOOD HAVEN (WOODHAVEN)    NY      BANK OF AMERICA NATL ASSOC   \n",
       "3                              BRONX    NY  JPMORGAN CHASE BANK NATL ASSOC   \n",
       "4                           NEW YORK    NY                   FLUSHING BANK   \n",
       "...                              ...   ...                             ...   \n",
       "7045  HUNTINGTON STATION (HUNTINGTON    NY      BANK OF AMERICA NATL ASSOC   \n",
       "7046                            ROME    NY   FIRST NIAGARA BANK NATL ASSOC   \n",
       "7047                        WALWORTH    NY        CITIZENS BANK NATL ASSOC   \n",
       "7048                        BROOKLYN    NY   FIRST NIAGARA BANK NATL ASSOC   \n",
       "7049                        BROOKLYN    NY          HSBC BK USA NATL ASSOC   \n",
       "\n",
       "     BankState ApprovalDate ApprovalFY  NoEmp  NewExist  CreateJob  \\\n",
       "0           NY    16-Jan-98       1998      1       2.0          0   \n",
       "1           NY     9-Feb-94       1994     81       1.0          0   \n",
       "2           RI     7-Nov-01       2002      4       1.0          1   \n",
       "3           IL    13-Dec-05       2006      6       2.0          3   \n",
       "4           NY    30-Jan-04       2004      3       1.0          0   \n",
       "...        ...          ...        ...    ...       ...        ...   \n",
       "7045        RI     2-Aug-02       2002      2       1.0          0   \n",
       "7046        NY    14-Nov-08       2009      5       2.0          0   \n",
       "7047        RI    23-Jun-06       2006      1       1.0          0   \n",
       "7048        NY    20-Jun-05       2005      2       1.0          0   \n",
       "7049        VA     3-Nov-05       2006      1       2.0          0   \n",
       "\n",
       "      RetainedJob  FranchiseCode  UrbanRural RevLineCr LowDoc  \\\n",
       "0               0              1           0         N      Y   \n",
       "1               0              1           0         N      N   \n",
       "2               5              1           1         Y      N   \n",
       "3               6              0           1         Y      N   \n",
       "4               3              1           1         Y      N   \n",
       "...           ...            ...         ...       ...    ...   \n",
       "7045            2              1           1         0      N   \n",
       "7046            5              0           1         N      N   \n",
       "7047            1              0           2         Y      N   \n",
       "7048            2              1           1         Y      N   \n",
       "7049            1              0           1         Y      N   \n",
       "\n",
       "     DisbursementDate DisbursementGross BalanceGross  \n",
       "0            3-Apr-98       $35,000.00        $0.00   \n",
       "1           31-Jul-94      $145,000.00        $0.00   \n",
       "2           31-Dec-01       $52,174.00        $0.00   \n",
       "3           31-Jan-06      $194,316.00        $0.00   \n",
       "4           29-Feb-04       $75,000.00        $0.00   \n",
       "...               ...               ...          ...  \n",
       "7045        31-Oct-02       $30,000.00        $0.00   \n",
       "7046        31-Dec-08           $18.00        $0.00   \n",
       "7047        31-Aug-06       $23,762.00        $0.00   \n",
       "7048        31-Mar-08       $30,000.00        $0.00   \n",
       "7049        30-Nov-05       $25,247.00        $0.00   \n",
       "\n",
       "[7050 rows x 20 columns]"
      ]
     },
     "execution_count": 110,
     "metadata": {},
     "output_type": "execute_result"
    }
   ],
   "source": [
    "df_test_nolabel"
   ]
  },
  {
   "cell_type": "code",
   "execution_count": 111,
   "metadata": {},
   "outputs": [
    {
     "data": {
      "text/html": [
       "<div>\n",
       "<style scoped>\n",
       "    .dataframe tbody tr th:only-of-type {\n",
       "        vertical-align: middle;\n",
       "    }\n",
       "\n",
       "    .dataframe tbody tr th {\n",
       "        vertical-align: top;\n",
       "    }\n",
       "\n",
       "    .dataframe thead th {\n",
       "        text-align: right;\n",
       "    }\n",
       "</style>\n",
       "<table border=\"1\" class=\"dataframe\">\n",
       "  <thead>\n",
       "    <tr style=\"text-align: right;\">\n",
       "      <th></th>\n",
       "      <th>id</th>\n",
       "      <th>LoanNr_ChkDgt</th>\n",
       "      <th>Name</th>\n",
       "      <th>City</th>\n",
       "      <th>State</th>\n",
       "      <th>Bank</th>\n",
       "      <th>BankState</th>\n",
       "      <th>ApprovalDate</th>\n",
       "      <th>ApprovalFY</th>\n",
       "      <th>NoEmp</th>\n",
       "      <th>...</th>\n",
       "      <th>CreateJob</th>\n",
       "      <th>RetainedJob</th>\n",
       "      <th>FranchiseCode</th>\n",
       "      <th>UrbanRural</th>\n",
       "      <th>RevLineCr</th>\n",
       "      <th>LowDoc</th>\n",
       "      <th>DisbursementDate</th>\n",
       "      <th>DisbursementGross</th>\n",
       "      <th>BalanceGross</th>\n",
       "      <th>Accept</th>\n",
       "    </tr>\n",
       "  </thead>\n",
       "  <tbody>\n",
       "    <tr>\n",
       "      <th>0</th>\n",
       "      <td>b353a0b461c</td>\n",
       "      <td>3354343008</td>\n",
       "      <td>TOGETHER GARGOYLES, INC.</td>\n",
       "      <td>BROOKLYN</td>\n",
       "      <td>NY</td>\n",
       "      <td>JPMORGAN CHASE BANK NATL ASSOC</td>\n",
       "      <td>NY</td>\n",
       "      <td>21-Dec-88</td>\n",
       "      <td>1989</td>\n",
       "      <td>20</td>\n",
       "      <td>...</td>\n",
       "      <td>0</td>\n",
       "      <td>0</td>\n",
       "      <td>0</td>\n",
       "      <td>0</td>\n",
       "      <td>N</td>\n",
       "      <td>N</td>\n",
       "      <td>30-Apr-89</td>\n",
       "      <td>$350,000.00</td>\n",
       "      <td>$0.00</td>\n",
       "      <td>1</td>\n",
       "    </tr>\n",
       "    <tr>\n",
       "      <th>1</th>\n",
       "      <td>cca24bbcc48</td>\n",
       "      <td>2349745003</td>\n",
       "      <td>LAWRENCE K. ALTHISER DBA LARRY</td>\n",
       "      <td>HARTWICK</td>\n",
       "      <td>NY</td>\n",
       "      <td>CITIZENS BANK NATL ASSOC</td>\n",
       "      <td>RI</td>\n",
       "      <td>23-Mar-07</td>\n",
       "      <td>2007</td>\n",
       "      <td>3</td>\n",
       "      <td>...</td>\n",
       "      <td>1</td>\n",
       "      <td>4</td>\n",
       "      <td>0</td>\n",
       "      <td>2</td>\n",
       "      <td>N</td>\n",
       "      <td>N</td>\n",
       "      <td>30-Apr-07</td>\n",
       "      <td>$35,000.00</td>\n",
       "      <td>$0.00</td>\n",
       "      <td>1</td>\n",
       "    </tr>\n",
       "    <tr>\n",
       "      <th>2</th>\n",
       "      <td>e60644381ce</td>\n",
       "      <td>6007284009</td>\n",
       "      <td>TAAMEER CONSTRUCTION INC</td>\n",
       "      <td>BROOKLYN (BOROUGH OF NEW YORK)</td>\n",
       "      <td>NY</td>\n",
       "      <td>JPMORGAN CHASE BANK NATL ASSOC</td>\n",
       "      <td>IL</td>\n",
       "      <td>9-Jan-03</td>\n",
       "      <td>2003</td>\n",
       "      <td>5</td>\n",
       "      <td>...</td>\n",
       "      <td>0</td>\n",
       "      <td>5</td>\n",
       "      <td>1</td>\n",
       "      <td>1</td>\n",
       "      <td>0</td>\n",
       "      <td>N</td>\n",
       "      <td>31-Jan-03</td>\n",
       "      <td>$50,000.00</td>\n",
       "      <td>$0.00</td>\n",
       "      <td>1</td>\n",
       "    </tr>\n",
       "    <tr>\n",
       "      <th>3</th>\n",
       "      <td>ffca41a2760</td>\n",
       "      <td>6047703002</td>\n",
       "      <td>CENTRAL CONTROL SYSTEMS, INC.</td>\n",
       "      <td>SYRACUSE</td>\n",
       "      <td>NY</td>\n",
       "      <td>MANUFACTURERS &amp; TRADERS TR CO</td>\n",
       "      <td>NY</td>\n",
       "      <td>10-Nov-93</td>\n",
       "      <td>1994</td>\n",
       "      <td>25</td>\n",
       "      <td>...</td>\n",
       "      <td>0</td>\n",
       "      <td>0</td>\n",
       "      <td>1</td>\n",
       "      <td>0</td>\n",
       "      <td>N</td>\n",
       "      <td>N</td>\n",
       "      <td>31-Jan-94</td>\n",
       "      <td>$190,000.00</td>\n",
       "      <td>$0.00</td>\n",
       "      <td>1</td>\n",
       "    </tr>\n",
       "    <tr>\n",
       "      <th>4</th>\n",
       "      <td>79e48255003</td>\n",
       "      <td>6590164004</td>\n",
       "      <td>METRO SALON</td>\n",
       "      <td>ROCHESTER</td>\n",
       "      <td>NY</td>\n",
       "      <td>MANUFACTURERS &amp; TRADERS TR CO</td>\n",
       "      <td>NY</td>\n",
       "      <td>14-Aug-03</td>\n",
       "      <td>2003</td>\n",
       "      <td>6</td>\n",
       "      <td>...</td>\n",
       "      <td>0</td>\n",
       "      <td>0</td>\n",
       "      <td>1</td>\n",
       "      <td>1</td>\n",
       "      <td>0</td>\n",
       "      <td>Y</td>\n",
       "      <td>30-Sep-03</td>\n",
       "      <td>$30,000.00</td>\n",
       "      <td>$0.00</td>\n",
       "      <td>1</td>\n",
       "    </tr>\n",
       "    <tr>\n",
       "      <th>...</th>\n",
       "      <td>...</td>\n",
       "      <td>...</td>\n",
       "      <td>...</td>\n",
       "      <td>...</td>\n",
       "      <td>...</td>\n",
       "      <td>...</td>\n",
       "      <td>...</td>\n",
       "      <td>...</td>\n",
       "      <td>...</td>\n",
       "      <td>...</td>\n",
       "      <td>...</td>\n",
       "      <td>...</td>\n",
       "      <td>...</td>\n",
       "      <td>...</td>\n",
       "      <td>...</td>\n",
       "      <td>...</td>\n",
       "      <td>...</td>\n",
       "      <td>...</td>\n",
       "      <td>...</td>\n",
       "      <td>...</td>\n",
       "      <td>...</td>\n",
       "    </tr>\n",
       "    <tr>\n",
       "      <th>40380</th>\n",
       "      <td>8db591edafe</td>\n",
       "      <td>1238924005</td>\n",
       "      <td>NBFD, INC.</td>\n",
       "      <td>OLEAN</td>\n",
       "      <td>NY</td>\n",
       "      <td>COMMUNITY BANK NATL ASSOC</td>\n",
       "      <td>NY</td>\n",
       "      <td>15-May-97</td>\n",
       "      <td>1997</td>\n",
       "      <td>25</td>\n",
       "      <td>...</td>\n",
       "      <td>0</td>\n",
       "      <td>0</td>\n",
       "      <td>1</td>\n",
       "      <td>0</td>\n",
       "      <td>N</td>\n",
       "      <td>Y</td>\n",
       "      <td>3-Jun-97</td>\n",
       "      <td>$50,000.00</td>\n",
       "      <td>$0.00</td>\n",
       "      <td>1</td>\n",
       "    </tr>\n",
       "    <tr>\n",
       "      <th>40381</th>\n",
       "      <td>e1e96f4af51</td>\n",
       "      <td>3681885006</td>\n",
       "      <td>Altman Stage Lighting Co.</td>\n",
       "      <td>YONKERS</td>\n",
       "      <td>NY</td>\n",
       "      <td>EH NATIONAL BANK</td>\n",
       "      <td>CA</td>\n",
       "      <td>7-Oct-09</td>\n",
       "      <td>2010</td>\n",
       "      <td>100</td>\n",
       "      <td>...</td>\n",
       "      <td>10</td>\n",
       "      <td>100</td>\n",
       "      <td>0</td>\n",
       "      <td>1</td>\n",
       "      <td>N</td>\n",
       "      <td>N</td>\n",
       "      <td>7-Oct-09</td>\n",
       "      <td>$1,666,600.00</td>\n",
       "      <td>$0.00</td>\n",
       "      <td>1</td>\n",
       "    </tr>\n",
       "    <tr>\n",
       "      <th>40382</th>\n",
       "      <td>29aabac46d9</td>\n",
       "      <td>1497375007</td>\n",
       "      <td>Paws &amp; Claws Pet Boutique LLC</td>\n",
       "      <td>SEAFORD</td>\n",
       "      <td>NY</td>\n",
       "      <td>HSBC BK USA NATL ASSOC</td>\n",
       "      <td>NY</td>\n",
       "      <td>13-Oct-05</td>\n",
       "      <td>2006</td>\n",
       "      <td>1</td>\n",
       "      <td>...</td>\n",
       "      <td>0</td>\n",
       "      <td>1</td>\n",
       "      <td>0</td>\n",
       "      <td>1</td>\n",
       "      <td>N</td>\n",
       "      <td>N</td>\n",
       "      <td>30-Apr-06</td>\n",
       "      <td>$25,000.00</td>\n",
       "      <td>$0.00</td>\n",
       "      <td>1</td>\n",
       "    </tr>\n",
       "    <tr>\n",
       "      <th>40383</th>\n",
       "      <td>2ed947e57f5</td>\n",
       "      <td>1757175003</td>\n",
       "      <td>Bay Medical Supplies Inc</td>\n",
       "      <td>BROOKLYN</td>\n",
       "      <td>NY</td>\n",
       "      <td>HSBC BK USA NATL ASSOC</td>\n",
       "      <td>NY</td>\n",
       "      <td>10-Apr-06</td>\n",
       "      <td>2006</td>\n",
       "      <td>1</td>\n",
       "      <td>...</td>\n",
       "      <td>0</td>\n",
       "      <td>1</td>\n",
       "      <td>0</td>\n",
       "      <td>1</td>\n",
       "      <td>Y</td>\n",
       "      <td>N</td>\n",
       "      <td>31-May-06</td>\n",
       "      <td>$73,363.00</td>\n",
       "      <td>$0.00</td>\n",
       "      <td>1</td>\n",
       "    </tr>\n",
       "    <tr>\n",
       "      <th>40384</th>\n",
       "      <td>3725b629d32</td>\n",
       "      <td>2649655002</td>\n",
       "      <td>Miyaki, Inc.</td>\n",
       "      <td>ITHACA</td>\n",
       "      <td>NY</td>\n",
       "      <td>JPMORGAN CHASE BANK NATL ASSOC</td>\n",
       "      <td>IL</td>\n",
       "      <td>21-Aug-07</td>\n",
       "      <td>2007</td>\n",
       "      <td>3</td>\n",
       "      <td>...</td>\n",
       "      <td>0</td>\n",
       "      <td>0</td>\n",
       "      <td>0</td>\n",
       "      <td>1</td>\n",
       "      <td>Y</td>\n",
       "      <td>N</td>\n",
       "      <td>31-Oct-07</td>\n",
       "      <td>$50,000.00</td>\n",
       "      <td>$0.00</td>\n",
       "      <td>1</td>\n",
       "    </tr>\n",
       "  </tbody>\n",
       "</table>\n",
       "<p>40385 rows × 21 columns</p>\n",
       "</div>"
      ],
      "text/plain": [
       "                id  LoanNr_ChkDgt                            Name  \\\n",
       "0      b353a0b461c     3354343008        TOGETHER GARGOYLES, INC.   \n",
       "1      cca24bbcc48     2349745003  LAWRENCE K. ALTHISER DBA LARRY   \n",
       "2      e60644381ce     6007284009        TAAMEER CONSTRUCTION INC   \n",
       "3      ffca41a2760     6047703002   CENTRAL CONTROL SYSTEMS, INC.   \n",
       "4      79e48255003     6590164004                     METRO SALON   \n",
       "...            ...            ...                             ...   \n",
       "40380  8db591edafe     1238924005                      NBFD, INC.   \n",
       "40381  e1e96f4af51     3681885006       Altman Stage Lighting Co.   \n",
       "40382  29aabac46d9     1497375007   Paws & Claws Pet Boutique LLC   \n",
       "40383  2ed947e57f5     1757175003        Bay Medical Supplies Inc   \n",
       "40384  3725b629d32     2649655002                    Miyaki, Inc.   \n",
       "\n",
       "                                 City State                            Bank  \\\n",
       "0                            BROOKLYN    NY  JPMORGAN CHASE BANK NATL ASSOC   \n",
       "1                            HARTWICK    NY        CITIZENS BANK NATL ASSOC   \n",
       "2      BROOKLYN (BOROUGH OF NEW YORK)    NY  JPMORGAN CHASE BANK NATL ASSOC   \n",
       "3                            SYRACUSE    NY   MANUFACTURERS & TRADERS TR CO   \n",
       "4                           ROCHESTER    NY   MANUFACTURERS & TRADERS TR CO   \n",
       "...                               ...   ...                             ...   \n",
       "40380                           OLEAN    NY       COMMUNITY BANK NATL ASSOC   \n",
       "40381                         YONKERS    NY                EH NATIONAL BANK   \n",
       "40382                         SEAFORD    NY          HSBC BK USA NATL ASSOC   \n",
       "40383                        BROOKLYN    NY          HSBC BK USA NATL ASSOC   \n",
       "40384                          ITHACA    NY  JPMORGAN CHASE BANK NATL ASSOC   \n",
       "\n",
       "      BankState ApprovalDate ApprovalFY  NoEmp  ...  CreateJob  RetainedJob  \\\n",
       "0            NY    21-Dec-88       1989     20  ...          0            0   \n",
       "1            RI    23-Mar-07       2007      3  ...          1            4   \n",
       "2            IL     9-Jan-03       2003      5  ...          0            5   \n",
       "3            NY    10-Nov-93       1994     25  ...          0            0   \n",
       "4            NY    14-Aug-03       2003      6  ...          0            0   \n",
       "...         ...          ...        ...    ...  ...        ...          ...   \n",
       "40380        NY    15-May-97       1997     25  ...          0            0   \n",
       "40381        CA     7-Oct-09       2010    100  ...         10          100   \n",
       "40382        NY    13-Oct-05       2006      1  ...          0            1   \n",
       "40383        NY    10-Apr-06       2006      1  ...          0            1   \n",
       "40384        IL    21-Aug-07       2007      3  ...          0            0   \n",
       "\n",
       "       FranchiseCode  UrbanRural  RevLineCr LowDoc DisbursementDate  \\\n",
       "0                  0           0          N      N        30-Apr-89   \n",
       "1                  0           2          N      N        30-Apr-07   \n",
       "2                  1           1          0      N        31-Jan-03   \n",
       "3                  1           0          N      N        31-Jan-94   \n",
       "4                  1           1          0      Y        30-Sep-03   \n",
       "...              ...         ...        ...    ...              ...   \n",
       "40380              1           0          N      Y         3-Jun-97   \n",
       "40381              0           1          N      N         7-Oct-09   \n",
       "40382              0           1          N      N        30-Apr-06   \n",
       "40383              0           1          Y      N        31-May-06   \n",
       "40384              0           1          Y      N        31-Oct-07   \n",
       "\n",
       "      DisbursementGross BalanceGross Accept  \n",
       "0          $350,000.00        $0.00       1  \n",
       "1           $35,000.00        $0.00       1  \n",
       "2           $50,000.00        $0.00       1  \n",
       "3          $190,000.00        $0.00       1  \n",
       "4           $30,000.00        $0.00       1  \n",
       "...                 ...          ...    ...  \n",
       "40380       $50,000.00        $0.00       1  \n",
       "40381    $1,666,600.00        $0.00       1  \n",
       "40382       $25,000.00        $0.00       1  \n",
       "40383       $73,363.00        $0.00       1  \n",
       "40384       $50,000.00        $0.00       1  \n",
       "\n",
       "[40385 rows x 21 columns]"
      ]
     },
     "execution_count": 111,
     "metadata": {},
     "output_type": "execute_result"
    }
   ],
   "source": [
    "df_train"
   ]
  },
  {
   "cell_type": "code",
   "execution_count": 112,
   "metadata": {},
   "outputs": [
    {
     "name": "stdout",
     "output_type": "stream",
     "text": [
      "<class 'pandas.core.frame.DataFrame'>\n",
      "RangeIndex: 40385 entries, 0 to 40384\n",
      "Data columns (total 21 columns):\n",
      " #   Column             Non-Null Count  Dtype  \n",
      "---  ------             --------------  -----  \n",
      " 0   id                 40385 non-null  object \n",
      " 1   LoanNr_ChkDgt      40385 non-null  int64  \n",
      " 2   Name               40382 non-null  object \n",
      " 3   City               40385 non-null  object \n",
      " 4   State              40385 non-null  object \n",
      " 5   Bank               40340 non-null  object \n",
      " 6   BankState          40338 non-null  object \n",
      " 7   ApprovalDate       40385 non-null  object \n",
      " 8   ApprovalFY         40385 non-null  object \n",
      " 9   NoEmp              40385 non-null  int64  \n",
      " 10  NewExist           40378 non-null  float64\n",
      " 11  CreateJob          40385 non-null  int64  \n",
      " 12  RetainedJob        40385 non-null  int64  \n",
      " 13  FranchiseCode      40385 non-null  int64  \n",
      " 14  UrbanRural         40385 non-null  int64  \n",
      " 15  RevLineCr          40250 non-null  object \n",
      " 16  LowDoc             40330 non-null  object \n",
      " 17  DisbursementDate   40254 non-null  object \n",
      " 18  DisbursementGross  40385 non-null  object \n",
      " 19  BalanceGross       40385 non-null  object \n",
      " 20  Accept             40385 non-null  int64  \n",
      "dtypes: float64(1), int64(7), object(13)\n",
      "memory usage: 6.5+ MB\n"
     ]
    }
   ],
   "source": [
    "df_train.info()"
   ]
  },
  {
   "cell_type": "code",
   "execution_count": 113,
   "metadata": {},
   "outputs": [
    {
     "data": {
      "text/plain": [
       "id                     0\n",
       "LoanNr_ChkDgt          0\n",
       "Name                   3\n",
       "City                   0\n",
       "State                  0\n",
       "Bank                  45\n",
       "BankState             47\n",
       "ApprovalDate           0\n",
       "ApprovalFY             0\n",
       "NoEmp                  0\n",
       "NewExist               7\n",
       "CreateJob              0\n",
       "RetainedJob            0\n",
       "FranchiseCode          0\n",
       "UrbanRural             0\n",
       "RevLineCr            135\n",
       "LowDoc                55\n",
       "DisbursementDate     131\n",
       "DisbursementGross      0\n",
       "BalanceGross           0\n",
       "Accept                 0\n",
       "dtype: int64"
      ]
     },
     "execution_count": 113,
     "metadata": {},
     "output_type": "execute_result"
    }
   ],
   "source": [
    "df_train.isna().sum()"
   ]
  },
  {
   "cell_type": "code",
   "execution_count": 114,
   "metadata": {},
   "outputs": [
    {
     "data": {
      "text/plain": [
       "array(['b353a0b461c', 'cca24bbcc48', 'e60644381ce', ..., '29aabac46d9',\n",
       "       '2ed947e57f5', '3725b629d32'], dtype=object)"
      ]
     },
     "execution_count": 114,
     "metadata": {},
     "output_type": "execute_result"
    }
   ],
   "source": [
    "df_train[\"id\"].unique()"
   ]
  },
  {
   "cell_type": "code",
   "execution_count": 115,
   "metadata": {},
   "outputs": [
    {
     "data": {
      "text/plain": [
       "array([3354343008, 2349745003, 6007284009, ..., 1497375007, 1757175003,\n",
       "       2649655002])"
      ]
     },
     "execution_count": 115,
     "metadata": {},
     "output_type": "execute_result"
    }
   ],
   "source": [
    "df_train[\"LoanNr_ChkDgt\"].unique()"
   ]
  },
  {
   "cell_type": "code",
   "execution_count": 116,
   "metadata": {},
   "outputs": [
    {
     "data": {
      "text/plain": [
       "array(['TOGETHER GARGOYLES, INC.', 'LAWRENCE K. ALTHISER DBA LARRY',\n",
       "       'TAAMEER CONSTRUCTION INC', ..., 'Paws & Claws Pet Boutique LLC',\n",
       "       'Bay Medical Supplies Inc', 'Miyaki, Inc.'], dtype=object)"
      ]
     },
     "execution_count": 116,
     "metadata": {},
     "output_type": "execute_result"
    }
   ],
   "source": [
    "df_train[\"Name\"].unique()"
   ]
  },
  {
   "cell_type": "code",
   "execution_count": 172,
   "metadata": {},
   "outputs": [
    {
     "data": {
      "text/plain": [
       "Name\n",
       "SUBWAY                         69\n",
       "DUNKIN DONUTS                  30\n",
       "QUIZNO'S SUBS                  25\n",
       "COLCHESTER HOLDINGS, INC.      14\n",
       "QUIZNO'S                       14\n",
       "                               ..\n",
       "Fernando Garcia Productions     1\n",
       "Fenix Us Perfume Inc.           1\n",
       "Fenix U S Perfume Inc.          1\n",
       "Feng Kee Trading, Inc           1\n",
       "vs expo corp                    1\n",
       "Length: 37615, dtype: int64"
      ]
     },
     "execution_count": 172,
     "metadata": {},
     "output_type": "execute_result"
    }
   ],
   "source": [
    "df_train.groupby(\"Name\").size().sort_values(ascending=False)"
   ]
  },
  {
   "cell_type": "code",
   "execution_count": 196,
   "metadata": {},
   "outputs": [],
   "source": [
    "df_train[\"City_Extracted\"] = df_train[\"City\"].str.lower()"
   ]
  },
  {
   "cell_type": "code",
   "execution_count": 218,
   "metadata": {},
   "outputs": [
    {
     "data": {
      "text/plain": [
       "City_Extracted\n",
       "new york           5599\n",
       "brooklyn           2690\n",
       "rochester          1596\n",
       "buffalo            1234\n",
       "bronx               912\n",
       "                   ... \n",
       "little york           1\n",
       "living on manor       1\n",
       "livingston            1\n",
       "lloyd harbor          1\n",
       "long city             1\n",
       "Length: 2020, dtype: int64"
      ]
     },
     "execution_count": 218,
     "metadata": {},
     "output_type": "execute_result"
    }
   ],
   "source": [
    "df_train.groupby(\"City_Extracted\").size().sort_values(ascending=False)"
   ]
  },
  {
   "cell_type": "code",
   "execution_count": 263,
   "metadata": {},
   "outputs": [
    {
     "data": {
      "text/plain": "<Figure size 640x480 with 1 Axes>",
      "image/png": "[encoded data removed]"
     },
     "metadata": {},
     "output_type": "display_data"
    }
   ],
   "source": [
    "\n",
    "df_dataviz_01 = df_train.groupby(\"City_Extracted\").size().sort_values(ascending=False).reset_index()\n",
    "df_dataviz_01.columns = [\"city\", \"frequency\"]\n",
    "df_dataviz_01_filtered = df_dataviz_01[df_dataviz_01[\"frequency\"] > 300]\n",
    "\n",
    "fig, ax = plt.subplots()\n",
    "ax.xaxis.set_tick_params(rotation=90)\n",
    "\n",
    "p = so.Plot(df_dataviz_01_filtered, x=\"city\", y=\"frequency\")\\\n",
    "    .add(so.Bar())\\\n",
    "    .label(title=\"Frequency of cities\")\\\n",
    "    .layout(size=(8, 4))\\\n",
    "    .on(ax)\\\n",
    "    .plot()"
   ]
  },
  {
   "cell_type": "code",
   "execution_count": 174,
   "metadata": {},
   "outputs": [
    {
     "data": {
      "text/plain": [
       "array(['NY'], dtype=object)"
      ]
     },
     "execution_count": 174,
     "metadata": {},
     "output_type": "execute_result"
    }
   ],
   "source": [
    "df_train[\"State\"].unique()"
   ]
  },
  {
   "cell_type": "code",
   "execution_count": 175,
   "metadata": {},
   "outputs": [
    {
     "data": {
      "text/plain": [
       "Bank\n",
       "JPMORGAN CHASE BANK NATL ASSOC    6244\n",
       "BANK OF AMERICA NATL ASSOC        6044\n",
       "MANUFACTURERS & TRADERS TR CO     3805\n",
       "HSBC BK USA NATL ASSOC            2976\n",
       "FIRST NIAGARA BANK NATL ASSOC     2195\n",
       "                                  ... \n",
       "METRO BANK OF DADE COUNTY            1\n",
       "METRO BK & TR CO                     1\n",
       "STAR BUS. & INDUST DEVEL             1\n",
       "BUSINESS DEVEL CORP OF SO. CAR       1\n",
       "BROADWAY NATIONAL BANK               1\n",
       "Length: 311, dtype: int64"
      ]
     },
     "execution_count": 175,
     "metadata": {},
     "output_type": "execute_result"
    }
   ],
   "source": [
    "df_train.groupby(\"Bank\").size().sort_values(ascending=False)"
   ]
  },
  {
   "cell_type": "code",
   "execution_count": 267,
   "outputs": [
    {
     "data": {
      "text/plain": "<Figure size 640x480 with 1 Axes>",
      "image/png": "[encoded data removed]"
     },
     "metadata": {},
     "output_type": "display_data"
    }
   ],
   "source": [
    "df_dataviz_02 = df_train.groupby(\"Bank\").size().sort_values(ascending=False).reset_index()\n",
    "df_dataviz_02.columns = [\"bank\", \"frequency\"]\n",
    "df_dataviz_02_filtered = df_dataviz_02[df_dataviz_02[\"frequency\"] > 300]\n",
    "\n",
    "fig, ax = plt.subplots()\n",
    "ax.xaxis.set_tick_params(rotation=90)\n",
    "\n",
    "p = so.Plot(df_dataviz_02_filtered, x=\"bank\", y=\"frequency\")\\\n",
    "    .add(so.Bar())\\\n",
    "    .label(title=\"Frequency of banks\")\\\n",
    "    .layout(size=(8, 4))\\\n",
    "    .on(ax)\\\n",
    "    .plot()"
   ],
   "metadata": {
    "collapsed": false
   }
  },
  {
   "cell_type": "code",
   "execution_count": 176,
   "metadata": {},
   "outputs": [
    {
     "data": {
      "text/plain": [
       "BankState\n",
       "NY    19924\n",
       "IL     5930\n",
       "RI     4370\n",
       "NC     2592\n",
       "VA     1822\n",
       "CA     1013\n",
       "NJ      872\n",
       "SD      836\n",
       "CT      755\n",
       "OH      722\n",
       "DE      460\n",
       "TX      327\n",
       "SC      228\n",
       "PA      144\n",
       "PR       60\n",
       "MA       51\n",
       "NV       43\n",
       "UT       37\n",
       "VT       23\n",
       "OR       18\n",
       "ME       14\n",
       "FL       14\n",
       "MN       13\n",
       "NH       13\n",
       "WI       12\n",
       "DC       12\n",
       "MD        9\n",
       "MO        5\n",
       "TN        5\n",
       "LA        4\n",
       "CO        3\n",
       "GA        2\n",
       "NM        1\n",
       "NE        1\n",
       "KY        1\n",
       "WA        1\n",
       "AL        1\n",
       "dtype: int64"
      ]
     },
     "execution_count": 176,
     "metadata": {},
     "output_type": "execute_result"
    }
   ],
   "source": [
    "df_train.groupby(\"BankState\").size().sort_values(ascending=False)"
   ]
  },
  {
   "cell_type": "code",
   "execution_count": 269,
   "outputs": [
    {
     "data": {
      "text/plain": "<Figure size 640x480 with 1 Axes>",
      "image/png": "[encoded data removed]"
     },
     "metadata": {},
     "output_type": "display_data"
    }
   ],
   "source": [
    "df_dataviz_03 = df_train.groupby(\"BankState\").size().sort_values(ascending=False).reset_index()\n",
    "df_dataviz_03.columns = [\"bank_state\", \"frequency\"]\n",
    "df_dataviz_03_filtered = df_dataviz_03[df_dataviz_03[\"frequency\"] > 300]\n",
    "\n",
    "fig, ax = plt.subplots()\n",
    "ax.xaxis.set_tick_params(rotation=90)\n",
    "\n",
    "p = so.Plot(df_dataviz_03_filtered, x=\"bank_state\", y=\"frequency\")\\\n",
    "    .add(so.Bar())\\\n",
    "    .label(title=\"Frequency of bank states\")\\\n",
    "    .layout(size=(8, 4))\\\n",
    "    .on(ax)\\\n",
    "    .plot()"
   ],
   "metadata": {
    "collapsed": false
   }
  },
  {
   "cell_type": "code",
   "execution_count": 177,
   "metadata": {},
   "outputs": [
    {
     "data": {
      "text/plain": [
       "ApprovalDate\n",
       "2004-11-08    44\n",
       "2005-04-18    39\n",
       "2006-04-18    37\n",
       "1993-07-07    36\n",
       "2006-03-17    35\n",
       "              ..\n",
       "1991-06-24     1\n",
       "1991-06-14     1\n",
       "1991-06-06     1\n",
       "1991-05-22     1\n",
       "2072-12-05     1\n",
       "Length: 6189, dtype: int64"
      ]
     },
     "execution_count": 177,
     "metadata": {},
     "output_type": "execute_result"
    }
   ],
   "source": [
    "df_train[\"ApprovalDate\"] = pd.to_datetime(df_train[\"ApprovalDate\"])\n",
    "df_train.groupby(\"ApprovalDate\").size().sort_values(ascending=False)"
   ]
  },
  {
   "cell_type": "code",
   "execution_count": 178,
   "metadata": {},
   "outputs": [
    {
     "data": {
      "text/plain": [
       "ApprovalDate_Year  ApprovalDate_Month\n",
       "2072               12                    1\n",
       "                   11                    1\n",
       "                   5                     2\n",
       "                   4                     1\n",
       "2070               12                    1\n",
       "                                        ..\n",
       "1974               3                     2\n",
       "1973               10                    2\n",
       "                   9                     1\n",
       "                   8                     1\n",
       "                   3                     2\n",
       "Length: 457, dtype: int64"
      ]
     },
     "execution_count": 178,
     "metadata": {},
     "output_type": "execute_result"
    }
   ],
   "source": [
    "df_train[\"ApprovalDate_Year\"] = df_train[\"ApprovalDate\"].dt.year\n",
    "df_train[\"ApprovalDate_Month\"] = df_train[\"ApprovalDate\"].dt.month\n",
    "\n",
    "df_train.groupby([\"ApprovalDate_Year\", \"ApprovalDate_Month\"]).size().sort_index(ascending=False)"
   ]
  },
  {
   "cell_type": "code",
   "execution_count": 294,
   "outputs": [
    {
     "data": {
      "text/plain": "     year  month  frequency\n0    2072     12          1\n1    2072     11          1\n2    2072      5          2\n3    2072      4          1\n4    2070     12          1\n..    ...    ...        ...\n452  1974      3          2\n453  1973     10          2\n454  1973      9          1\n455  1973      8          1\n456  1973      3          2\n\n[457 rows x 3 columns]",
      "text/html": "<div>\n<style scoped>\n    .dataframe tbody tr th:only-of-type {\n        vertical-align: middle;\n    }\n\n    .dataframe tbody tr th {\n        vertical-align: top;\n    }\n\n    .dataframe thead th {\n        text-align: right;\n    }\n</style>\n<table border=\"1\" class=\"dataframe\">\n  <thead>\n    <tr style=\"text-align: right;\">\n      <th></th>\n      <th>year</th>\n      <th>month</th>\n      <th>frequency</th>\n    </tr>\n  </thead>\n  <tbody>\n    <tr>\n      <th>0</th>\n      <td>2072</td>\n      <td>12</td>\n      <td>1</td>\n    </tr>\n    <tr>\n      <th>1</th>\n      <td>2072</td>\n      <td>11</td>\n      <td>1</td>\n    </tr>\n    <tr>\n      <th>2</th>\n      <td>2072</td>\n      <td>5</td>\n      <td>2</td>\n    </tr>\n    <tr>\n      <th>3</th>\n      <td>2072</td>\n      <td>4</td>\n      <td>1</td>\n    </tr>\n    <tr>\n      <th>4</th>\n      <td>2070</td>\n      <td>12</td>\n      <td>1</td>\n    </tr>\n    <tr>\n      <th>...</th>\n      <td>...</td>\n      <td>...</td>\n      <td>...</td>\n    </tr>\n    <tr>\n      <th>452</th>\n      <td>1974</td>\n      <td>3</td>\n      <td>2</td>\n    </tr>\n    <tr>\n      <th>453</th>\n      <td>1973</td>\n      <td>10</td>\n      <td>2</td>\n    </tr>\n    <tr>\n      <th>454</th>\n      <td>1973</td>\n      <td>9</td>\n      <td>1</td>\n    </tr>\n    <tr>\n      <th>455</th>\n      <td>1973</td>\n      <td>8</td>\n      <td>1</td>\n    </tr>\n    <tr>\n      <th>456</th>\n      <td>1973</td>\n      <td>3</td>\n      <td>2</td>\n    </tr>\n  </tbody>\n</table>\n<p>457 rows × 3 columns</p>\n</div>"
     },
     "execution_count": 294,
     "metadata": {},
     "output_type": "execute_result"
    }
   ],
   "source": [
    "from datetime import datetime\n",
    "#### me quedo aquí <--------------------------------------------------\n",
    "#### me quedo aquí <--------------------------------------------------\n",
    "#### me quedo aquí <--------------------------------------------------\n",
    "#### me quedo aquí <--------------------------------------------------\n",
    "#### me quedo aquí <--------------------------------------------------\n",
    "#### me quedo aquí <--------------------------------------------------\n",
    "\n",
    "df_dataviz_04 = df_train.groupby([\"ApprovalDate_Year\", \"ApprovalDate_Month\"]).size().sort_index(ascending=False).reset_index()\n",
    "df_dataviz_04.columns = [\"year\", \"month\", \"frequency\"]\n",
    "# df_dataviz_04.columns = [\"bank_state\", \"frequency\"]\n",
    "# df_dataviz_04_filtered = df_dataviz_04[df_dataviz_04[\"frequency\"] > 300]\n",
    "#\n",
    "# fig, ax = plt.subplots()\n",
    "# ax.xaxis.set_tick_params(rotation=90)\n",
    "#\n",
    "# p = so.Plot(df_dataviz_04_filtered, x=\"bank_state\", y=\"frequency\")\\\n",
    "#     .add(so.Bar())\\\n",
    "#     .label(title=\"Frequency of bank states\")\\\n",
    "#     .layout(size=(8, 4))\\\n",
    "#     .on(ax)\\\n",
    "#     .plot()\n",
    "df_dataviz_04"
   ],
   "metadata": {
    "collapsed": false
   }
  },
  {
   "cell_type": "code",
   "execution_count": 179,
   "metadata": {},
   "outputs": [
    {
     "data": {
      "text/plain": [
       "ApprovalFY\n",
       "2005    3528\n",
       "2006    3505\n",
       "2007    3236\n",
       "2004    2123\n",
       "2008    1660\n",
       "        ... \n",
       "1978       2\n",
       "1976       1\n",
       "1971       1\n",
       "1965       1\n",
       "1974       1\n",
       "Length: 87, dtype: int64"
      ]
     },
     "execution_count": 179,
     "metadata": {},
     "output_type": "execute_result"
    }
   ],
   "source": [
    "df_train.groupby(\"ApprovalFY\").size().sort_values(ascending=False)"
   ]
  },
  {
   "cell_type": "code",
   "execution_count": 180,
   "metadata": {},
   "outputs": [
    {
     "data": {
      "text/plain": [
       "NoEmp\n",
       "1       7284\n",
       "2       6729\n",
       "3       4692\n",
       "4       3599\n",
       "5       2931\n",
       "        ... \n",
       "163        1\n",
       "162        1\n",
       "156        1\n",
       "155        1\n",
       "9999       1\n",
       "Length: 208, dtype: int64"
      ]
     },
     "execution_count": 180,
     "metadata": {},
     "output_type": "execute_result"
    }
   ],
   "source": [
    "df_train.groupby(\"NoEmp\").size().sort_values(ascending=False)"
   ]
  },
  {
   "cell_type": "code",
   "execution_count": 181,
   "metadata": {},
   "outputs": [
    {
     "data": {
      "text/plain": [
       "NewExist\n",
       "1.0    29018\n",
       "2.0    11313\n",
       "0.0       47\n",
       "dtype: int64"
      ]
     },
     "execution_count": 181,
     "metadata": {},
     "output_type": "execute_result"
    }
   ],
   "source": [
    "df_train.groupby(\"NewExist\").size().sort_values(ascending=False)"
   ]
  },
  {
   "cell_type": "code",
   "execution_count": 182,
   "metadata": {},
   "outputs": [
    {
     "data": {
      "text/plain": [
       "CreateJob\n",
       "0     28279\n",
       "1      3656\n",
       "2      2984\n",
       "3      1293\n",
       "5       771\n",
       "      ...  \n",
       "89        1\n",
       "90        1\n",
       "92        1\n",
       "94        1\n",
       "48        1\n",
       "Length: 95, dtype: int64"
      ]
     },
     "execution_count": 182,
     "metadata": {},
     "output_type": "execute_result"
    }
   ],
   "source": [
    "df_train.groupby(\"CreateJob\").size().sort_values(ascending=False)"
   ]
  },
  {
   "cell_type": "code",
   "execution_count": 183,
   "metadata": {},
   "outputs": [
    {
     "data": {
      "text/plain": [
       "RetainedJob\n",
       "0      15833\n",
       "1       4482\n",
       "2       4289\n",
       "3       3212\n",
       "4       2458\n",
       "       ...  \n",
       "128        1\n",
       "137        1\n",
       "139        1\n",
       "145        1\n",
       "71         1\n",
       "Length: 137, dtype: int64"
      ]
     },
     "execution_count": 183,
     "metadata": {},
     "output_type": "execute_result"
    }
   ],
   "source": [
    "df_train.groupby(\"RetainedJob\").size().sort_values(ascending=False)"
   ]
  },
  {
   "cell_type": "code",
   "execution_count": 184,
   "metadata": {},
   "outputs": [
    {
     "data": {
      "text/plain": [
       "FranchiseCode\n",
       "1        27310\n",
       "0        12084\n",
       "78760      133\n",
       "25650       75\n",
       "68020       66\n",
       "         ...  \n",
       "24003        1\n",
       "54126        1\n",
       "23379        1\n",
       "23000        1\n",
       "47500        1\n",
       "Length: 313, dtype: int64"
      ]
     },
     "execution_count": 184,
     "metadata": {},
     "output_type": "execute_result"
    }
   ],
   "source": [
    "df_train.groupby(\"FranchiseCode\").size().sort_values(ascending=False)"
   ]
  },
  {
   "cell_type": "code",
   "execution_count": 185,
   "metadata": {},
   "outputs": [
    {
     "data": {
      "text/plain": [
       "UrbanRural\n",
       "1    24160\n",
       "0    12780\n",
       "2     3445\n",
       "dtype: int64"
      ]
     },
     "execution_count": 185,
     "metadata": {},
     "output_type": "execute_result"
    }
   ],
   "source": [
    "df_train.groupby(\"UrbanRural\").size().sort_values(ascending=False)\n"
   ]
  },
  {
   "cell_type": "code",
   "execution_count": 186,
   "metadata": {},
   "outputs": [
    {
     "data": {
      "text/plain": [
       "RevLineCr\n",
       "N    17540\n",
       "Y    13295\n",
       "0     8671\n",
       "T      744\n",
       "dtype: int64"
      ]
     },
     "execution_count": 186,
     "metadata": {},
     "output_type": "execute_result"
    }
   ],
   "source": [
    "df_train.groupby(\"RevLineCr\").size().sort_values(ascending=False)"
   ]
  },
  {
   "cell_type": "code",
   "execution_count": 187,
   "metadata": {},
   "outputs": [
    {
     "data": {
      "text/plain": [
       "LowDoc\n",
       "N    36575\n",
       "Y     3704\n",
       "C       16\n",
       "0       13\n",
       "A       11\n",
       "S       10\n",
       "R        1\n",
       "dtype: int64"
      ]
     },
     "execution_count": 187,
     "metadata": {},
     "output_type": "execute_result"
    }
   ],
   "source": [
    "df_train.groupby(\"LowDoc\").size().sort_values(ascending=False)"
   ]
  },
  {
   "cell_type": "code",
   "execution_count": 188,
   "metadata": {},
   "outputs": [
    {
     "data": {
      "text/plain": [
       "DisbursementDate\n",
       "2005-10-31    512\n",
       "2007-02-28    509\n",
       "2006-03-31    462\n",
       "2006-04-30    441\n",
       "2006-11-30    422\n",
       "             ... \n",
       "1997-02-15      1\n",
       "1997-02-11      1\n",
       "1997-02-07      1\n",
       "1997-02-06      1\n",
       "2072-12-27      1\n",
       "Length: 2387, dtype: int64"
      ]
     },
     "execution_count": 188,
     "metadata": {},
     "output_type": "execute_result"
    }
   ],
   "source": [
    "df_train[\"DisbursementDate\"] = pd.to_datetime(df_train[\"DisbursementDate\"])\n",
    "df_train.groupby(\"DisbursementDate\").size().sort_values(ascending=False)"
   ]
  },
  {
   "cell_type": "code",
   "execution_count": 189,
   "metadata": {},
   "outputs": [
    {
     "data": {
      "text/plain": [
       "DisbursementDate_Year  DisbursementDate_Month\n",
       "2072.0                 12                        1\n",
       "                       11                        1\n",
       "                       5                         1\n",
       "                       4                         1\n",
       "2071.0                 12                        1\n",
       "                                                ..\n",
       "1974.0                 3                         2\n",
       "1973.0                 10                        2\n",
       "                       9                         1\n",
       "                       8                         1\n",
       "                       3                         2\n",
       "Length: 448, dtype: int64"
      ]
     },
     "execution_count": 189,
     "metadata": {},
     "output_type": "execute_result"
    }
   ],
   "source": [
    "df_train[\"DisbursementDate_Year\"] = df_train[\"DisbursementDate\"].dt.year\n",
    "df_train[\"DisbursementDate_Month\"] = df_train[\"ApprovalDate\"].dt.month\n",
    "\n",
    "df_train.groupby([\"DisbursementDate_Year\", \"DisbursementDate_Month\"]).size().sort_index(ascending=False)"
   ]
  },
  {
   "cell_type": "code",
   "execution_count": 190,
   "metadata": {},
   "outputs": [
    {
     "data": {
      "text/plain": [
       "0         350000.0\n",
       "1          35000.0\n",
       "2          50000.0\n",
       "3         190000.0\n",
       "4          30000.0\n",
       "           ...    \n",
       "40380      50000.0\n",
       "40381    1666600.0\n",
       "40382      25000.0\n",
       "40383      73363.0\n",
       "40384      50000.0\n",
       "Name: DisbursementGross_Extracted, Length: 40385, dtype: float64"
      ]
     },
     "execution_count": 190,
     "metadata": {},
     "output_type": "execute_result"
    }
   ],
   "source": [
    "df_train[\"DisbursementGross_Extracted\"] = df_train[\"DisbursementGross\"]\\\n",
    "    .str.extract(\"(\\d+(?:,\\d+)*(?:\\.\\d+)?)\")[0]\\\n",
    "    .str.replace(\",\", \"\")\\\n",
    "    .astype(\"float\")\n",
    "df_train[\"DisbursementGross_Extracted\"]"
   ]
  },
  {
   "cell_type": "code",
   "execution_count": 195,
   "metadata": {},
   "outputs": [
    {
     "data": {
      "text/html": [
       "<div>\n",
       "<style scoped>\n",
       "    .dataframe tbody tr th:only-of-type {\n",
       "        vertical-align: middle;\n",
       "    }\n",
       "\n",
       "    .dataframe tbody tr th {\n",
       "        vertical-align: top;\n",
       "    }\n",
       "\n",
       "    .dataframe thead th {\n",
       "        text-align: right;\n",
       "    }\n",
       "</style>\n",
       "<table border=\"1\" class=\"dataframe\">\n",
       "  <thead>\n",
       "    <tr style=\"text-align: right;\">\n",
       "      <th></th>\n",
       "      <th>DisbursementGross</th>\n",
       "      <th>DisbursementGross_Extracted</th>\n",
       "    </tr>\n",
       "  </thead>\n",
       "  <tbody>\n",
       "    <tr>\n",
       "      <th>0</th>\n",
       "      <td>$350,000.00</td>\n",
       "      <td>350000.0</td>\n",
       "    </tr>\n",
       "    <tr>\n",
       "      <th>1</th>\n",
       "      <td>$35,000.00</td>\n",
       "      <td>35000.0</td>\n",
       "    </tr>\n",
       "    <tr>\n",
       "      <th>2</th>\n",
       "      <td>$50,000.00</td>\n",
       "      <td>50000.0</td>\n",
       "    </tr>\n",
       "    <tr>\n",
       "      <th>3</th>\n",
       "      <td>$190,000.00</td>\n",
       "      <td>190000.0</td>\n",
       "    </tr>\n",
       "    <tr>\n",
       "      <th>4</th>\n",
       "      <td>$30,000.00</td>\n",
       "      <td>30000.0</td>\n",
       "    </tr>\n",
       "    <tr>\n",
       "      <th>...</th>\n",
       "      <td>...</td>\n",
       "      <td>...</td>\n",
       "    </tr>\n",
       "    <tr>\n",
       "      <th>40380</th>\n",
       "      <td>$50,000.00</td>\n",
       "      <td>50000.0</td>\n",
       "    </tr>\n",
       "    <tr>\n",
       "      <th>40381</th>\n",
       "      <td>$1,666,600.00</td>\n",
       "      <td>1666600.0</td>\n",
       "    </tr>\n",
       "    <tr>\n",
       "      <th>40382</th>\n",
       "      <td>$25,000.00</td>\n",
       "      <td>25000.0</td>\n",
       "    </tr>\n",
       "    <tr>\n",
       "      <th>40383</th>\n",
       "      <td>$73,363.00</td>\n",
       "      <td>73363.0</td>\n",
       "    </tr>\n",
       "    <tr>\n",
       "      <th>40384</th>\n",
       "      <td>$50,000.00</td>\n",
       "      <td>50000.0</td>\n",
       "    </tr>\n",
       "  </tbody>\n",
       "</table>\n",
       "<p>40385 rows × 2 columns</p>\n",
       "</div>"
      ],
      "text/plain": [
       "      DisbursementGross  DisbursementGross_Extracted\n",
       "0          $350,000.00                      350000.0\n",
       "1           $35,000.00                       35000.0\n",
       "2           $50,000.00                       50000.0\n",
       "3          $190,000.00                      190000.0\n",
       "4           $30,000.00                       30000.0\n",
       "...                 ...                          ...\n",
       "40380       $50,000.00                       50000.0\n",
       "40381    $1,666,600.00                     1666600.0\n",
       "40382       $25,000.00                       25000.0\n",
       "40383       $73,363.00                       73363.0\n",
       "40384       $50,000.00                       50000.0\n",
       "\n",
       "[40385 rows x 2 columns]"
      ]
     },
     "execution_count": 195,
     "metadata": {},
     "output_type": "execute_result"
    }
   ],
   "source": [
    "df_train[[\"DisbursementGross\", \"DisbursementGross_Extracted\"]]"
   ]
  },
  {
   "cell_type": "code",
   "execution_count": 192,
   "metadata": {},
   "outputs": [
    {
     "data": {
      "text/plain": [
       "DisbursementGross_Bin\n",
       "9    3885\n",
       "8    3834\n",
       "7    4308\n",
       "6    2878\n",
       "5    4886\n",
       "4    4440\n",
       "3    4038\n",
       "2    3404\n",
       "1    4351\n",
       "0    4361\n",
       "dtype: int64"
      ]
     },
     "execution_count": 192,
     "metadata": {},
     "output_type": "execute_result"
    }
   ],
   "source": [
    "df_train[\"DisbursementGross_Bin\"] = pd.qcut(df_train[\"DisbursementGross_Extracted\"], 10, labels=range(10))\n",
    "df_train.groupby([\"DisbursementGross_Bin\"]).size().sort_index(ascending=False)"
   ]
  },
  {
   "cell_type": "code",
   "execution_count": 193,
   "metadata": {},
   "outputs": [
    {
     "data": {
      "text/plain": [
       "BalanceGross\n",
       "$0.00     40385\n",
       "dtype: int64"
      ]
     },
     "execution_count": 193,
     "metadata": {},
     "output_type": "execute_result"
    }
   ],
   "source": [
    "df_train.groupby([\"BalanceGross\"]).size().sort_index(ascending=False)"
   ]
  },
  {
   "cell_type": "code",
   "execution_count": 194,
   "metadata": {},
   "outputs": [
    {
     "data": {
      "text/plain": [
       "Accept\n",
       "1    32161\n",
       "0     8224\n",
       "dtype: int64"
      ]
     },
     "execution_count": 194,
     "metadata": {},
     "output_type": "execute_result"
    }
   ],
   "source": [
    "df_train.groupby([\"Accept\"]).size().sort_index(ascending=False)"
   ]
  },
  {
   "cell_type": "code",
   "execution_count": null,
   "metadata": {},
   "outputs": [],
   "source": []
  }
 ],
 "metadata": {
  "kernelspec": {
   "display_name": "Python 3 (ipykernel)",
   "language": "python",
   "name": "python3"
  },
  "language_info": {
   "codemirror_mode": {
    "name": "ipython",
    "version": 3
   },
   "file_extension": ".py",
   "mimetype": "text/x-python",
   "name": "python",
   "nbconvert_exporter": "python",
   "pygments_lexer": "ipython3",
   "version": "3.8.9"
  }
 },
 "nbformat": 4,
 "nbformat_minor": 1
}
