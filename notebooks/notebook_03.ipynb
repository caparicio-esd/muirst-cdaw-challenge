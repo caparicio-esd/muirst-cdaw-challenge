{
 "cells": [
  {
   "cell_type": "code",
   "execution_count": 1,
   "outputs": [],
   "source": [
    "import pandas as pd"
   ],
   "metadata": {
    "collapsed": false
   }
  },
  {
   "cell_type": "code",
   "execution_count": 2,
   "outputs": [
    {
     "name": "stderr",
     "output_type": "stream",
     "text": [
      "/var/folders/9r/sd92rccj2_xbk8nkg4v7dcm00000gn/T/ipykernel_28593/1911879165.py:1: DtypeWarning: Columns (8) have mixed types. Specify dtype option on import or set low_memory=False.\n",
      "  df_train = pd.read_csv(\"./../data/train.csv\")\n"
     ]
    }
   ],
   "source": [
    "df_train = pd.read_csv(\"./../data/train.csv\")\n",
    "df_test_nolabel = pd.read_csv(\"./../data/test_nolabel.csv\")\n",
    "df_sample_submission = pd.read_csv(\"./../data/sample_submission.csv\")"
   ],
   "metadata": {
    "collapsed": false
   }
  },
  {
   "cell_type": "code",
   "execution_count": 3,
   "metadata": {
    "collapsed": true
   },
   "outputs": [
    {
     "data": {
      "text/plain": "LabelEncoder()",
      "text/html": "<style>#sk-container-id-1 {color: black;background-color: white;}#sk-container-id-1 pre{padding: 0;}#sk-container-id-1 div.sk-toggleable {background-color: white;}#sk-container-id-1 label.sk-toggleable__label {cursor: pointer;display: block;width: 100%;margin-bottom: 0;padding: 0.3em;box-sizing: border-box;text-align: center;}#sk-container-id-1 label.sk-toggleable__label-arrow:before {content: \"▸\";float: left;margin-right: 0.25em;color: #696969;}#sk-container-id-1 label.sk-toggleable__label-arrow:hover:before {color: black;}#sk-container-id-1 div.sk-estimator:hover label.sk-toggleable__label-arrow:before {color: black;}#sk-container-id-1 div.sk-toggleable__content {max-height: 0;max-width: 0;overflow: hidden;text-align: left;background-color: #f0f8ff;}#sk-container-id-1 div.sk-toggleable__content pre {margin: 0.2em;color: black;border-radius: 0.25em;background-color: #f0f8ff;}#sk-container-id-1 input.sk-toggleable__control:checked~div.sk-toggleable__content {max-height: 200px;max-width: 100%;overflow: auto;}#sk-container-id-1 input.sk-toggleable__control:checked~label.sk-toggleable__label-arrow:before {content: \"▾\";}#sk-container-id-1 div.sk-estimator input.sk-toggleable__control:checked~label.sk-toggleable__label {background-color: #d4ebff;}#sk-container-id-1 div.sk-label input.sk-toggleable__control:checked~label.sk-toggleable__label {background-color: #d4ebff;}#sk-container-id-1 input.sk-hidden--visually {border: 0;clip: rect(1px 1px 1px 1px);clip: rect(1px, 1px, 1px, 1px);height: 1px;margin: -1px;overflow: hidden;padding: 0;position: absolute;width: 1px;}#sk-container-id-1 div.sk-estimator {font-family: monospace;background-color: #f0f8ff;border: 1px dotted black;border-radius: 0.25em;box-sizing: border-box;margin-bottom: 0.5em;}#sk-container-id-1 div.sk-estimator:hover {background-color: #d4ebff;}#sk-container-id-1 div.sk-parallel-item::after {content: \"\";width: 100%;border-bottom: 1px solid gray;flex-grow: 1;}#sk-container-id-1 div.sk-label:hover label.sk-toggleable__label {background-color: #d4ebff;}#sk-container-id-1 div.sk-serial::before {content: \"\";position: absolute;border-left: 1px solid gray;box-sizing: border-box;top: 0;bottom: 0;left: 50%;z-index: 0;}#sk-container-id-1 div.sk-serial {display: flex;flex-direction: column;align-items: center;background-color: white;padding-right: 0.2em;padding-left: 0.2em;position: relative;}#sk-container-id-1 div.sk-item {position: relative;z-index: 1;}#sk-container-id-1 div.sk-parallel {display: flex;align-items: stretch;justify-content: center;background-color: white;position: relative;}#sk-container-id-1 div.sk-item::before, #sk-container-id-1 div.sk-parallel-item::before {content: \"\";position: absolute;border-left: 1px solid gray;box-sizing: border-box;top: 0;bottom: 0;left: 50%;z-index: -1;}#sk-container-id-1 div.sk-parallel-item {display: flex;flex-direction: column;z-index: 1;position: relative;background-color: white;}#sk-container-id-1 div.sk-parallel-item:first-child::after {align-self: flex-end;width: 50%;}#sk-container-id-1 div.sk-parallel-item:last-child::after {align-self: flex-start;width: 50%;}#sk-container-id-1 div.sk-parallel-item:only-child::after {width: 0;}#sk-container-id-1 div.sk-dashed-wrapped {border: 1px dashed gray;margin: 0 0.4em 0.5em 0.4em;box-sizing: border-box;padding-bottom: 0.4em;background-color: white;}#sk-container-id-1 div.sk-label label {font-family: monospace;font-weight: bold;display: inline-block;line-height: 1.2em;}#sk-container-id-1 div.sk-label-container {text-align: center;}#sk-container-id-1 div.sk-container {/* jupyter's `normalize.less` sets `[hidden] { display: none; }` but bootstrap.min.css set `[hidden] { display: none !important; }` so we also need the `!important` here to be able to override the default hidden behavior on the sphinx rendered scikit-learn.org. See: https://github.com/scikit-learn/scikit-learn/issues/21755 */display: inline-block !important;position: relative;}#sk-container-id-1 div.sk-text-repr-fallback {display: none;}</style><div id=\"sk-container-id-1\" class=\"sk-top-container\"><div class=\"sk-text-repr-fallback\"><pre>LabelEncoder()</pre><b>In a Jupyter environment, please rerun this cell to show the HTML representation or trust the notebook. <br />On GitHub, the HTML representation is unable to render, please try loading this page with nbviewer.org.</b></div><div class=\"sk-container\" hidden><div class=\"sk-item\"><div class=\"sk-estimator sk-toggleable\"><input class=\"sk-toggleable__control sk-hidden--visually\" id=\"sk-estimator-id-1\" type=\"checkbox\" checked><label for=\"sk-estimator-id-1\" class=\"sk-toggleable__label sk-toggleable__label-arrow\">LabelEncoder</label><div class=\"sk-toggleable__content\"><pre>LabelEncoder()</pre></div></div></div></div></div>"
     },
     "execution_count": 3,
     "metadata": {},
     "output_type": "execute_result"
    }
   ],
   "source": [
    "from sklearn.pipeline import Pipeline\n",
    "from sklearn.compose import ColumnTransformer\n",
    "from sklearn.preprocessing import StandardScaler, OneHotEncoder, LabelEncoder, \\\n",
    "    FunctionTransformer\n",
    "\n",
    "\n",
    "def to_lowercase(df):\n",
    "    \"\"\"\n",
    "    set all strings to lower case to be easier to group\n",
    "    \"\"\"\n",
    "    df_return = df.apply(lambda col: col.str.lower())\n",
    "    return df_return\n",
    "\n",
    "def limit_outlier(df, max_value):\n",
    "    \"\"\"\n",
    "    clamps the max and min value of a series, for prevent outliers\n",
    "    from destroying statistic values\n",
    "    \"\"\"\n",
    "    df_return = df.clip(0, max_value)\n",
    "    return df_return\n",
    "\n",
    "def fix_new_exists(df):\n",
    "    \"\"\"\n",
    "    fixes newExists col to boolean values\n",
    "    \"\"\"\n",
    "    mask = df.iloc[:, 0] == 0\n",
    "    df[mask] = 1\n",
    "    return df\n",
    "\n",
    "def fix_franchise_code(df):\n",
    "    \"\"\"\n",
    "    fixes FranchiseCode to {0, 1}\n",
    "    \"\"\"\n",
    "    df[\"FranchiseCode\"] = df[\"FranchiseCode\"].apply(lambda row: 0 if row <= 1 else 1)\n",
    "    return df\n",
    "\n",
    "def fix_revlinecr(df):\n",
    "    \"\"\"\n",
    "    fixes RevLineCr to {0, 1}\n",
    "    \"\"\"\n",
    "    df[\"RevLineCr\"] = df[\"RevLineCr\"].apply(lambda row: 0 if row in [\"N\", 0] else 1)\n",
    "    return df\n",
    "\n",
    "def fix_lowdoc(df):\n",
    "    \"\"\"\n",
    "    fixes LowDoc to {0, 1}\n",
    "    \"\"\"\n",
    "    df[\"LowDoc\"] = df[\"LowDoc\"].apply(lambda row: 1 if row in [\"Y\", \"S\"] else 0)\n",
    "    return df\n",
    "\n",
    "\n",
    "def fix_disbursment_gross(df):\n",
    "    \"\"\"\n",
    "    fixes disbursment extracting real value from string\n",
    "    \"\"\"\n",
    "    df[\"DisbursementGross\"] = df_train[\"DisbursementGross\"]\\\n",
    "        .str.extract(\"(\\d+(?:,\\d+)*(?:\\.\\d+)?)\")[0]\\\n",
    "        .str.replace(\",\", \"\")\\\n",
    "        .astype(\"float\")\n",
    "    return df\n",
    "\n",
    "\n",
    "\n",
    "preprocessor = ColumnTransformer(\n",
    "    transformers=[\n",
    "\n",
    "        # group 1 -> Set to lower and onehot with in freq 3\n",
    "        (\"group_a\", Pipeline([\n",
    "            (\"a1\", FunctionTransformer(to_lowercase)),\n",
    "            (\"a2\", OneHotEncoder(min_frequency=3, handle_unknown='ignore'))\n",
    "        ]), [\"Name\"]),\n",
    "\n",
    "        # group 2 -> Set to lower and onehot with in freq 300\n",
    "        (\"group_b\", Pipeline([\n",
    "            (\"b1\", FunctionTransformer(to_lowercase)),\n",
    "            (\"b2\", OneHotEncoder(min_frequency=300, handle_unknown='ignore'))\n",
    "        ]), [\"City\", \"Bank\", \"BankState\"]),\n",
    "\n",
    "        # group 3 -> clamps values [0, 155] and scales in standard dist\n",
    "        # si se quiere cambiar por otras opciones crear una función como la de abajo...\n",
    "        (\"group_c\", Pipeline([\n",
    "            (\"c1\", FunctionTransformer(limit_outlier, kw_args={'max_value': 155})),\n",
    "            (\"c2\", StandardScaler()),\n",
    "        ]), [\"NoEmp\"]),\n",
    "\n",
    "        # group 4 -> sustituye {0, 1, 2} por {1, 2}\n",
    "        (\"group_d\", Pipeline([\n",
    "            (\"d1\", FunctionTransformer(fix_new_exists)),\n",
    "        ]), [\"NewExist\"]),\n",
    "\n",
    "        # group 5 -> clamps values [0, 1027] and scales in standard dist\n",
    "        # si se quiere cambiar por otras opciones crear una función como la de abajo...\n",
    "        (\"group_e\", Pipeline([\n",
    "            (\"e1\", FunctionTransformer(limit_outlier, kw_args={'max_value': 1027})),\n",
    "            (\"e2\", StandardScaler()),\n",
    "        ]), [\"CreateJob\"]),\n",
    "\n",
    "        # group 6 -> transforma la columna a bool\n",
    "        (\"group_f\", Pipeline([\n",
    "            (\"f1\", FunctionTransformer(fix_franchise_code)),\n",
    "        ]), [\"FranchiseCode\"]),\n",
    "\n",
    "        # group 7 -> transforma la columna a bool\n",
    "        (\"group_g\", Pipeline([\n",
    "            (\"g1\", FunctionTransformer(fix_revlinecr)),\n",
    "        ]), [\"RevLineCr\"]),\n",
    "\n",
    "        # group 8 -> transforma la columna a bool\n",
    "        (\"group_h\", Pipeline([\n",
    "            (\"h1\", FunctionTransformer(fix_lowdoc)),\n",
    "        ]), [\"LowDoc\"]),\n",
    "\n",
    "        # group 9 -> extrae el valor con un regex y lo escala\n",
    "        (\"group_i\", Pipeline([\n",
    "            (\"i1\", FunctionTransformer(fix_disbursment_gross)),\n",
    "            (\"i2\", StandardScaler()),\n",
    "        ]), [\"DisbursementGross\"]),\n",
    "    ]\n",
    ")\n",
    "\n",
    "preprocessor_label = LabelEncoder()\n",
    "\n",
    "\n",
    "preprocessor.fit(df_train)\n",
    "preprocessor_label.fit(df_train[\"Accept\"])"
   ]
  },
  {
   "cell_type": "code",
   "execution_count": 4,
   "outputs": [],
   "source": [
    "X = preprocessor.transform(df_train)\n",
    "y = preprocessor_label.transform(df_train[\"Accept\"])"
   ],
   "metadata": {
    "collapsed": false
   }
  },
  {
   "cell_type": "code",
   "execution_count": 5,
   "outputs": [
    {
     "name": "stdout",
     "output_type": "stream",
     "text": [
      "[ 0.          0.          0.          0.          0.          0.\n",
      "  0.          0.          0.          0.          0.          0.\n",
      "  0.          0.          0.          0.          0.          0.\n",
      "  0.          0.          0.          0.          0.          0.\n",
      "  0.          0.          0.          0.          0.          0.\n",
      "  0.          0.          0.          0.          0.          0.\n",
      "  0.          0.          0.          0.          0.          0.\n",
      "  0.          0.          0.          0.          0.          0.\n",
      "  0.          0.          0.          0.          0.          0.\n",
      "  0.          0.          0.          0.          0.          0.\n",
      "  0.          0.          0.          0.          0.          0.\n",
      "  0.          0.          0.          0.          0.          0.\n",
      "  0.          0.          0.          0.          0.          0.\n",
      "  0.          0.          0.          0.          0.          0.\n",
      "  0.          0.          0.          0.          0.          0.\n",
      "  0.          0.          0.          0.          0.          0.\n",
      "  0.          0.          0.          0.          0.          0.\n",
      "  0.          0.          0.          0.          0.          0.\n",
      "  0.          0.          0.          0.          0.          0.\n",
      "  0.          0.          0.          0.          0.          0.\n",
      "  0.          0.          0.          0.          0.          0.\n",
      "  0.          0.          0.          0.          0.          0.\n",
      "  0.          0.          0.          0.          0.          0.\n",
      "  0.          0.          0.          0.          0.          0.\n",
      "  0.          0.          0.          0.          0.          0.\n",
      "  0.          0.          0.          0.          0.          0.\n",
      "  0.          0.          0.          0.          0.          0.\n",
      "  0.          0.          0.          0.          0.          0.\n",
      "  0.          0.          0.          0.          0.          0.\n",
      "  0.          0.          0.          0.          0.          0.\n",
      "  0.          0.          0.          0.          0.          0.\n",
      "  0.          0.          0.          0.          0.          0.\n",
      "  0.          0.          0.          0.          0.          0.\n",
      "  0.          0.          0.          0.          0.          0.\n",
      "  0.          0.          0.          0.          0.          0.\n",
      "  0.          0.          0.          0.          0.          0.\n",
      "  0.          0.          0.          0.          0.          0.\n",
      "  0.          0.          0.          0.          0.          0.\n",
      "  0.          0.          0.          0.          0.          0.\n",
      "  0.          0.          0.          0.          0.          0.\n",
      "  0.          0.          0.          0.          0.          0.\n",
      "  0.          0.          0.          0.          0.          0.\n",
      "  0.          0.          0.          0.          0.          0.\n",
      "  0.          0.          0.          0.          0.          0.\n",
      "  0.          0.          0.          0.          0.          0.\n",
      "  0.          0.          0.          0.          0.          0.\n",
      "  0.          0.          0.          0.          0.          0.\n",
      "  0.          0.          0.          0.          0.          0.\n",
      "  0.          0.          0.          0.          0.          0.\n",
      "  0.          0.          0.          0.          0.          0.\n",
      "  0.          0.          0.          0.          0.          0.\n",
      "  0.          0.          0.          0.          0.          0.\n",
      "  0.          0.          1.          0.          0.          1.\n",
      "  0.          0.          0.          0.          0.          0.\n",
      "  0.          0.          0.          0.          0.          0.\n",
      "  0.          0.          0.          0.          0.          0.\n",
      "  0.          0.          0.          1.          0.          0.\n",
      "  0.          0.          0.          0.          0.          0.\n",
      "  0.          0.          0.          0.          0.          0.\n",
      "  0.          1.          0.          0.          0.          0.\n",
      "  0.          0.          0.70101132  1.         -0.09611622  0.\n",
      "  0.          0.          0.93068107]\n",
      "1\n"
     ]
    }
   ],
   "source": [
    "print(X.toarray()[0])\n",
    "print(y[0])"
   ],
   "metadata": {
    "collapsed": false
   }
  },
  {
   "cell_type": "code",
   "execution_count": 6,
   "outputs": [],
   "source": [
    "# empezar a entrenar aquí"
   ],
   "metadata": {
    "collapsed": false
   }
  },
  {
   "cell_type": "code",
   "execution_count": null,
   "outputs": [],
   "source": [],
   "metadata": {
    "collapsed": false
   }
  }
 ],
 "metadata": {
  "kernelspec": {
   "display_name": "Python 3",
   "language": "python",
   "name": "python3"
  },
  "language_info": {
   "codemirror_mode": {
    "name": "ipython",
    "version": 2
   },
   "file_extension": ".py",
   "mimetype": "text/x-python",
   "name": "python",
   "nbconvert_exporter": "python",
   "pygments_lexer": "ipython2",
   "version": "2.7.6"
  }
 },
 "nbformat": 4,
 "nbformat_minor": 0
}
