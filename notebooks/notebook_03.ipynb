{
 "cells": [
  {
   "cell_type": "code",
   "execution_count": 2,
   "metadata": {},
   "outputs": [],
   "source": [
    "import np as np\n",
    "import pandas as pd"
   ]
  },
  {
   "cell_type": "code",
   "execution_count": 3,
   "metadata": {},
   "outputs": [
    {
     "name": "stderr",
     "output_type": "stream",
     "text": [
      "/var/folders/9r/sd92rccj2_xbk8nkg4v7dcm00000gn/T/ipykernel_41413/1399654736.py:1: DtypeWarning: Columns (8) have mixed types. Specify dtype option on import or set low_memory=False.\n",
      "  df_train = pd.read_csv(\"./../data/train.csv\").dropna()\n"
     ]
    }
   ],
   "source": [
    "df_train = pd.read_csv(\"./../data/train.csv\").dropna()\n",
    "df_test_nolabel = pd.read_csv(\"./../data/test_nolabel.csv\").dropna()\n",
    "df_sample_submission = pd.read_csv(\"./../data/sample_submission.csv\").dropna()"
   ]
  },
  {
   "cell_type": "code",
   "execution_count": 3,
   "outputs": [],
   "source": [],
   "metadata": {
    "collapsed": false
   }
  },
  {
   "cell_type": "code",
   "execution_count": 3,
   "outputs": [],
   "source": [],
   "metadata": {
    "collapsed": false
   }
  },
  {
   "cell_type": "code",
   "execution_count": 23,
   "metadata": {},
   "outputs": [
    {
     "ename": "TypeError",
     "evalue": "__init__() got an unexpected keyword argument 'min_frequency'",
     "output_type": "error",
     "traceback": [
      "\u001B[0;31m---------------------------------------------------------------------------\u001B[0m",
      "\u001B[0;31mTypeError\u001B[0m                                 Traceback (most recent call last)",
      "Cell \u001B[0;32mIn[23], line 77\u001B[0m\n\u001B[1;32m     67\u001B[0m     \u001B[38;5;28;01mreturn\u001B[39;00m df\n\u001B[1;32m     70\u001B[0m training_numeric \u001B[38;5;241m=\u001B[39m [\u001B[38;5;124m\"\u001B[39m\u001B[38;5;124mNoEmp\u001B[39m\u001B[38;5;124m\"\u001B[39m, \u001B[38;5;124m\"\u001B[39m\u001B[38;5;124mNewExist\u001B[39m\u001B[38;5;124m\"\u001B[39m, \u001B[38;5;124m\"\u001B[39m\u001B[38;5;124mCreateJob\u001B[39m\u001B[38;5;124m\"\u001B[39m, \u001B[38;5;124m\"\u001B[39m\u001B[38;5;124mFranchiseCode\u001B[39m\u001B[38;5;124m\"\u001B[39m, \u001B[38;5;124m\"\u001B[39m\u001B[38;5;124mRevLineCr\u001B[39m\u001B[38;5;124m\"\u001B[39m, \u001B[38;5;124m\"\u001B[39m\u001B[38;5;124mLowDoc\u001B[39m\u001B[38;5;124m\"\u001B[39m, \u001B[38;5;124m\"\u001B[39m\u001B[38;5;124mDisbursementGross\u001B[39m\u001B[38;5;124m\"\u001B[39m]\n\u001B[1;32m     72\u001B[0m preprocessor \u001B[38;5;241m=\u001B[39m ColumnTransformer(\n\u001B[1;32m     73\u001B[0m     transformers\u001B[38;5;241m=\u001B[39m[\n\u001B[1;32m     74\u001B[0m         \u001B[38;5;66;03m# group 1 -> Set to lower and onehot with in freq 3\u001B[39;00m\n\u001B[1;32m     75\u001B[0m         (\u001B[38;5;124m\"\u001B[39m\u001B[38;5;124mgroup_a\u001B[39m\u001B[38;5;124m\"\u001B[39m, Pipeline([\n\u001B[1;32m     76\u001B[0m             (\u001B[38;5;124m\"\u001B[39m\u001B[38;5;124ma1\u001B[39m\u001B[38;5;124m\"\u001B[39m, FunctionTransformer(to_lowercase)),\n\u001B[0;32m---> 77\u001B[0m             (\u001B[38;5;124m\"\u001B[39m\u001B[38;5;124ma2\u001B[39m\u001B[38;5;124m\"\u001B[39m, \u001B[43mOneHotEncoder\u001B[49m\u001B[43m(\u001B[49m\u001B[43mhandle_unknown\u001B[49m\u001B[38;5;241;43m=\u001B[39;49m\u001B[38;5;124;43m'\u001B[39;49m\u001B[38;5;124;43mignore\u001B[39;49m\u001B[38;5;124;43m'\u001B[39;49m\u001B[43m,\u001B[49m\u001B[43m \u001B[49m\u001B[43msparse\u001B[49m\u001B[38;5;241;43m=\u001B[39;49m\u001B[38;5;28;43;01mTrue\u001B[39;49;00m\u001B[43m,\u001B[49m\u001B[43m \u001B[49m\u001B[43mmin_frequency\u001B[49m\u001B[38;5;241;43m=\u001B[39;49m\u001B[38;5;241;43m3\u001B[39;49m\u001B[43m)\u001B[49m)\n\u001B[1;32m     78\u001B[0m         ]), [\u001B[38;5;124m\"\u001B[39m\u001B[38;5;124mName\u001B[39m\u001B[38;5;124m\"\u001B[39m]),\n\u001B[1;32m     79\u001B[0m \n\u001B[1;32m     80\u001B[0m         \u001B[38;5;66;03m# group 2 -> Set to lower and onehot with in freq 300\u001B[39;00m\n\u001B[1;32m     81\u001B[0m         (\u001B[38;5;124m\"\u001B[39m\u001B[38;5;124mgroup_b\u001B[39m\u001B[38;5;124m\"\u001B[39m, Pipeline([\n\u001B[1;32m     82\u001B[0m             (\u001B[38;5;124m\"\u001B[39m\u001B[38;5;124mb1\u001B[39m\u001B[38;5;124m\"\u001B[39m, FunctionTransformer(to_lowercase)),\n\u001B[1;32m     83\u001B[0m             (\u001B[38;5;124m\"\u001B[39m\u001B[38;5;124mb2\u001B[39m\u001B[38;5;124m\"\u001B[39m, OneHotEncoder(handle_unknown\u001B[38;5;241m=\u001B[39m\u001B[38;5;124m'\u001B[39m\u001B[38;5;124mignore\u001B[39m\u001B[38;5;124m'\u001B[39m, sparse\u001B[38;5;241m=\u001B[39m\u001B[38;5;28;01mTrue\u001B[39;00m, min_frequency\u001B[38;5;241m=\u001B[39m\u001B[38;5;241m300\u001B[39m))\n\u001B[1;32m     84\u001B[0m         ]), [\u001B[38;5;124m\"\u001B[39m\u001B[38;5;124mCity\u001B[39m\u001B[38;5;124m\"\u001B[39m, \u001B[38;5;124m\"\u001B[39m\u001B[38;5;124mBank\u001B[39m\u001B[38;5;124m\"\u001B[39m, \u001B[38;5;124m\"\u001B[39m\u001B[38;5;124mBankState\u001B[39m\u001B[38;5;124m\"\u001B[39m]),\n\u001B[1;32m     85\u001B[0m \n\u001B[1;32m     86\u001B[0m         \u001B[38;5;66;03m# group 3 -> clamps values [0, 155] and scales in standard dist\u001B[39;00m\n\u001B[1;32m     87\u001B[0m         \u001B[38;5;66;03m# si se quiere cambiar por otras opciones crear una función como la de abajo...\u001B[39;00m\n\u001B[1;32m     88\u001B[0m         (\u001B[38;5;124m\"\u001B[39m\u001B[38;5;124mgroup_c\u001B[39m\u001B[38;5;124m\"\u001B[39m, Pipeline([\n\u001B[1;32m     89\u001B[0m             (\u001B[38;5;124m\"\u001B[39m\u001B[38;5;124mc1\u001B[39m\u001B[38;5;124m\"\u001B[39m, FunctionTransformer(limit_outlier, kw_args\u001B[38;5;241m=\u001B[39m{\u001B[38;5;124m'\u001B[39m\u001B[38;5;124mmax_value\u001B[39m\u001B[38;5;124m'\u001B[39m: \u001B[38;5;241m155\u001B[39m})),\n\u001B[1;32m     90\u001B[0m             (\u001B[38;5;124m\"\u001B[39m\u001B[38;5;124mc2\u001B[39m\u001B[38;5;124m\"\u001B[39m, StandardScaler()),\n\u001B[1;32m     91\u001B[0m         ]), [\u001B[38;5;124m\"\u001B[39m\u001B[38;5;124mNoEmp\u001B[39m\u001B[38;5;124m\"\u001B[39m]),\n\u001B[1;32m     92\u001B[0m \n\u001B[1;32m     93\u001B[0m         \u001B[38;5;66;03m# # group 4 -> sustituye {0, 1, 2} por {1, 2}\u001B[39;00m\n\u001B[1;32m     94\u001B[0m         (\u001B[38;5;124m\"\u001B[39m\u001B[38;5;124mgroup_d\u001B[39m\u001B[38;5;124m\"\u001B[39m, Pipeline([\n\u001B[1;32m     95\u001B[0m             (\u001B[38;5;124m\"\u001B[39m\u001B[38;5;124md1\u001B[39m\u001B[38;5;124m\"\u001B[39m, FunctionTransformer(fix_new_exists)),\n\u001B[1;32m     96\u001B[0m             (\u001B[38;5;124m\"\u001B[39m\u001B[38;5;124md2\u001B[39m\u001B[38;5;124m\"\u001B[39m, SimpleImputer(strategy\u001B[38;5;241m=\u001B[39m\u001B[38;5;124m\"\u001B[39m\u001B[38;5;124mmost_frequent\u001B[39m\u001B[38;5;124m\"\u001B[39m)),\n\u001B[1;32m     97\u001B[0m         ]), [\u001B[38;5;124m\"\u001B[39m\u001B[38;5;124mNewExist\u001B[39m\u001B[38;5;124m\"\u001B[39m]),\n\u001B[1;32m     98\u001B[0m \n\u001B[1;32m     99\u001B[0m         \u001B[38;5;66;03m# group 5 -> clamps values [0, 1027] and scales in standard dist\u001B[39;00m\n\u001B[1;32m    100\u001B[0m         \u001B[38;5;66;03m# si se quiere cambiar por otras opciones crear una función como la de abajo...\u001B[39;00m\n\u001B[1;32m    101\u001B[0m         (\u001B[38;5;124m\"\u001B[39m\u001B[38;5;124mgroup_e\u001B[39m\u001B[38;5;124m\"\u001B[39m, Pipeline([\n\u001B[1;32m    102\u001B[0m             (\u001B[38;5;124m\"\u001B[39m\u001B[38;5;124me1\u001B[39m\u001B[38;5;124m\"\u001B[39m, FunctionTransformer(limit_outlier, kw_args\u001B[38;5;241m=\u001B[39m{\u001B[38;5;124m'\u001B[39m\u001B[38;5;124mmax_value\u001B[39m\u001B[38;5;124m'\u001B[39m: \u001B[38;5;241m1027\u001B[39m})),\n\u001B[1;32m    103\u001B[0m             (\u001B[38;5;124m\"\u001B[39m\u001B[38;5;124me2\u001B[39m\u001B[38;5;124m\"\u001B[39m, StandardScaler()),\n\u001B[1;32m    104\u001B[0m         ]), [\u001B[38;5;124m\"\u001B[39m\u001B[38;5;124mCreateJob\u001B[39m\u001B[38;5;124m\"\u001B[39m]),\n\u001B[1;32m    105\u001B[0m \n\u001B[1;32m    106\u001B[0m         \u001B[38;5;66;03m# group 6 -> transforma la columna a bool\u001B[39;00m\n\u001B[1;32m    107\u001B[0m         (\u001B[38;5;124m\"\u001B[39m\u001B[38;5;124mgroup_f\u001B[39m\u001B[38;5;124m\"\u001B[39m, Pipeline([\n\u001B[1;32m    108\u001B[0m             (\u001B[38;5;124m\"\u001B[39m\u001B[38;5;124mf1\u001B[39m\u001B[38;5;124m\"\u001B[39m, FunctionTransformer(fix_franchise_code)),\n\u001B[1;32m    109\u001B[0m         ]), [\u001B[38;5;124m\"\u001B[39m\u001B[38;5;124mFranchiseCode\u001B[39m\u001B[38;5;124m\"\u001B[39m]),\n\u001B[1;32m    110\u001B[0m \n\u001B[1;32m    111\u001B[0m         \u001B[38;5;66;03m# group 7 -> transforma la columna a bool\u001B[39;00m\n\u001B[1;32m    112\u001B[0m         (\u001B[38;5;124m\"\u001B[39m\u001B[38;5;124mgroup_g\u001B[39m\u001B[38;5;124m\"\u001B[39m, Pipeline([\n\u001B[1;32m    113\u001B[0m             (\u001B[38;5;124m\"\u001B[39m\u001B[38;5;124mg1\u001B[39m\u001B[38;5;124m\"\u001B[39m, FunctionTransformer(fix_revlinecr)),\n\u001B[1;32m    114\u001B[0m         ]), [\u001B[38;5;124m\"\u001B[39m\u001B[38;5;124mRevLineCr\u001B[39m\u001B[38;5;124m\"\u001B[39m]),\n\u001B[1;32m    115\u001B[0m \n\u001B[1;32m    116\u001B[0m         \u001B[38;5;66;03m# group 8 -> transforma la columna a bool\u001B[39;00m\n\u001B[1;32m    117\u001B[0m         (\u001B[38;5;124m\"\u001B[39m\u001B[38;5;124mgroup_h\u001B[39m\u001B[38;5;124m\"\u001B[39m, Pipeline([\n\u001B[1;32m    118\u001B[0m             (\u001B[38;5;124m\"\u001B[39m\u001B[38;5;124mh1\u001B[39m\u001B[38;5;124m\"\u001B[39m, FunctionTransformer(fix_lowdoc)),\n\u001B[1;32m    119\u001B[0m         ]), [\u001B[38;5;124m\"\u001B[39m\u001B[38;5;124mLowDoc\u001B[39m\u001B[38;5;124m\"\u001B[39m]),\n\u001B[1;32m    120\u001B[0m \n\u001B[1;32m    121\u001B[0m         \u001B[38;5;66;03m# group 9 -> extrae el valor con un regex y lo escala\u001B[39;00m\n\u001B[1;32m    122\u001B[0m         (\u001B[38;5;124m\"\u001B[39m\u001B[38;5;124mgroup_i\u001B[39m\u001B[38;5;124m\"\u001B[39m, Pipeline([\n\u001B[1;32m    123\u001B[0m             (\u001B[38;5;124m\"\u001B[39m\u001B[38;5;124mi1\u001B[39m\u001B[38;5;124m\"\u001B[39m, FunctionTransformer(fix_disbursment_gross)),\n\u001B[1;32m    124\u001B[0m             (\u001B[38;5;124m\"\u001B[39m\u001B[38;5;124md2\u001B[39m\u001B[38;5;124m\"\u001B[39m, SimpleImputer(strategy\u001B[38;5;241m=\u001B[39m\u001B[38;5;124m\"\u001B[39m\u001B[38;5;124mmean\u001B[39m\u001B[38;5;124m\"\u001B[39m)),\n\u001B[1;32m    125\u001B[0m             (\u001B[38;5;124m\"\u001B[39m\u001B[38;5;124mi2\u001B[39m\u001B[38;5;124m\"\u001B[39m, StandardScaler()),\n\u001B[1;32m    126\u001B[0m         ]), [\u001B[38;5;124m\"\u001B[39m\u001B[38;5;124mDisbursementGross\u001B[39m\u001B[38;5;124m\"\u001B[39m]),\n\u001B[1;32m    127\u001B[0m \n\u001B[1;32m    128\u001B[0m         \u001B[38;5;66;03m# group 10 -> transforma la columna a bool\u001B[39;00m\n\u001B[1;32m    129\u001B[0m         (\u001B[38;5;124m\"\u001B[39m\u001B[38;5;124mgroup_j\u001B[39m\u001B[38;5;124m\"\u001B[39m, Pipeline([\n\u001B[1;32m    130\u001B[0m             (\u001B[38;5;124m\"\u001B[39m\u001B[38;5;124mfj\u001B[39m\u001B[38;5;124m\"\u001B[39m, FunctionTransformer(fix_urban_rural)),\n\u001B[1;32m    131\u001B[0m         ]), [\u001B[38;5;124m\"\u001B[39m\u001B[38;5;124mUrbanRural\u001B[39m\u001B[38;5;124m\"\u001B[39m]),\n\u001B[1;32m    132\u001B[0m     ],\n\u001B[1;32m    133\u001B[0m )\n\u001B[1;32m    135\u001B[0m preprocessor_label \u001B[38;5;241m=\u001B[39m LabelEncoder()\n\u001B[1;32m    136\u001B[0m preprocessor\u001B[38;5;241m.\u001B[39mfit(df_train)\n",
      "\u001B[0;31mTypeError\u001B[0m: __init__() got an unexpected keyword argument 'min_frequency'"
     ]
    }
   ],
   "source": [
    "from sklearn.impute import SimpleImputer\n",
    "from sklearn.pipeline import Pipeline\n",
    "from sklearn.compose import ColumnTransformer\n",
    "from sklearn.preprocessing import StandardScaler, OneHotEncoder, LabelEncoder, \\\n",
    "    FunctionTransformer\n",
    "\n",
    "\n",
    "def to_lowercase(df):\n",
    "    \"\"\"\n",
    "    set all strings to lower case to be easier to group\n",
    "    \"\"\"\n",
    "    df_return = df.apply(lambda col: col.str.lower())\n",
    "    return df_return\n",
    "\n",
    "def limit_outlier(df, max_value):\n",
    "    \"\"\"\n",
    "    clamps the max and min value of a series, for prevent outliers\n",
    "    from destroying statistic values\n",
    "    \"\"\"\n",
    "    df_return = df.clip(0, max_value)\n",
    "    return df_return\n",
    "\n",
    "def fix_new_exists(df):\n",
    "    \"\"\"\n",
    "    fixes newExists col to boolean values\n",
    "    \"\"\"\n",
    "    df[\"NewExist\"] = df[\"NewExist\"].apply(lambda row: 1 if row in [0, 1] else 2)\n",
    "    return df\n",
    "\n",
    "def fix_franchise_code(df):\n",
    "    \"\"\"\n",
    "    fixes FranchiseCode to {0, 1}\n",
    "    \"\"\"\n",
    "    df[\"FranchiseCode\"] = df[\"FranchiseCode\"].apply(lambda row: 0 if row <= 1 else 1)\n",
    "    return df\n",
    "\n",
    "def fix_revlinecr(df):\n",
    "    \"\"\"\n",
    "    fixes RevLineCr to {0, 1}\n",
    "    \"\"\"\n",
    "    df[\"RevLineCr\"] = df[\"RevLineCr\"].apply(lambda row: 0 if row in [\"N\", 0] else 1)\n",
    "    return df.astype(np.int64)\n",
    "\n",
    "def fix_lowdoc(df):\n",
    "    \"\"\"\n",
    "    fixes LowDoc to {0, 1}\n",
    "    \"\"\"\n",
    "    df[\"LowDoc\"] = df[\"LowDoc\"].apply(lambda row: 1 if row in [\"Y\", \"S\"] else 0)\n",
    "    return df.astype(np.int64)\n",
    "\n",
    "\n",
    "def fix_disbursment_gross(df):\n",
    "    \"\"\"\n",
    "    fixes disbursment extracting real value from string\n",
    "    \"\"\"\n",
    "    df[\"DisbursementGross\"] = df_train[\"DisbursementGross\"]\\\n",
    "        .str.extract(\"(\\d+(?:,\\d+)*(?:\\.\\d+)?)\")[0]\\\n",
    "        .str.replace(\",\", \"\")\\\n",
    "        .astype(\"float\")\n",
    "    return df\n",
    "\n",
    "def fix_urban_rural(df):\n",
    "    \"\"\"\n",
    "    fixes UrbanRural to {0, 1}\n",
    "    \"\"\"\n",
    "    df_return = df[df[\"UrbanRural\"] == 0]\n",
    "    return df\n",
    "\n",
    "\n",
    "training_numeric = [\"NoEmp\", \"NewExist\", \"CreateJob\", \"FranchiseCode\", \"RevLineCr\", \"LowDoc\", \"DisbursementGross\"]\n",
    "\n",
    "preprocessor = ColumnTransformer(\n",
    "    transformers=[\n",
    "        # group 1 -> Set to lower and onehot with in freq 3\n",
    "        (\"group_a\", Pipeline([\n",
    "            (\"a1\", FunctionTransformer(to_lowercase)),\n",
    "            (\"a2\", OneHotEncoder(handle_unknown='ignore', sparse=True, min_frequency=3))\n",
    "        ]), [\"Name\"]),\n",
    "\n",
    "        # group 2 -> Set to lower and onehot with in freq 300\n",
    "        (\"group_b\", Pipeline([\n",
    "            (\"b1\", FunctionTransformer(to_lowercase)),\n",
    "            (\"b2\", OneHotEncoder(handle_unknown='ignore', sparse=True, min_frequency=300))\n",
    "        ]), [\"City\", \"Bank\", \"BankState\"]),\n",
    "\n",
    "        # group 3 -> clamps values [0, 155] and scales in standard dist\n",
    "        # si se quiere cambiar por otras opciones crear una función como la de abajo...\n",
    "        (\"group_c\", Pipeline([\n",
    "            (\"c1\", FunctionTransformer(limit_outlier, kw_args={'max_value': 155})),\n",
    "            (\"c2\", StandardScaler()),\n",
    "        ]), [\"NoEmp\"]),\n",
    "\n",
    "        # # group 4 -> sustituye {0, 1, 2} por {1, 2}\n",
    "        (\"group_d\", Pipeline([\n",
    "            (\"d1\", FunctionTransformer(fix_new_exists)),\n",
    "            (\"d2\", SimpleImputer(strategy=\"most_frequent\")),\n",
    "        ]), [\"NewExist\"]),\n",
    "\n",
    "        # group 5 -> clamps values [0, 1027] and scales in standard dist\n",
    "        # si se quiere cambiar por otras opciones crear una función como la de abajo...\n",
    "        (\"group_e\", Pipeline([\n",
    "            (\"e1\", FunctionTransformer(limit_outlier, kw_args={'max_value': 1027})),\n",
    "            (\"e2\", StandardScaler()),\n",
    "        ]), [\"CreateJob\"]),\n",
    "\n",
    "        # group 6 -> transforma la columna a bool\n",
    "        (\"group_f\", Pipeline([\n",
    "            (\"f1\", FunctionTransformer(fix_franchise_code)),\n",
    "        ]), [\"FranchiseCode\"]),\n",
    "\n",
    "        # group 7 -> transforma la columna a bool\n",
    "        (\"group_g\", Pipeline([\n",
    "            (\"g1\", FunctionTransformer(fix_revlinecr)),\n",
    "        ]), [\"RevLineCr\"]),\n",
    "\n",
    "        # group 8 -> transforma la columna a bool\n",
    "        (\"group_h\", Pipeline([\n",
    "            (\"h1\", FunctionTransformer(fix_lowdoc)),\n",
    "        ]), [\"LowDoc\"]),\n",
    "\n",
    "        # group 9 -> extrae el valor con un regex y lo escala\n",
    "        (\"group_i\", Pipeline([\n",
    "            (\"i1\", FunctionTransformer(fix_disbursment_gross)),\n",
    "            (\"d2\", SimpleImputer(strategy=\"mean\")),\n",
    "            (\"i2\", StandardScaler()),\n",
    "        ]), [\"DisbursementGross\"]),\n",
    "\n",
    "        # group 10 -> transforma la columna a bool\n",
    "        (\"group_j\", Pipeline([\n",
    "            (\"fj\", FunctionTransformer(fix_urban_rural)),\n",
    "        ]), [\"UrbanRural\"]),\n",
    "    ],\n",
    ")\n",
    "\n",
    "preprocessor_label = LabelEncoder()\n",
    "preprocessor.fit(df_train)\n",
    "preprocessor_label.fit(df_train[\"Accept\"])"
   ]
  },
  {
   "cell_type": "code",
   "execution_count": 14,
   "metadata": {},
   "outputs": [],
   "source": [
    "training_cols = [\"Name\", \"City\", \"Bank\", \"BankState\", \"NoEmp\", \"NewExist\", \"CreateJob\", \"FranchiseCode\", \"RevLineCr\", \"LowDoc\", \"DisbursementGross\"]"
   ]
  },
  {
   "cell_type": "code",
   "execution_count": 15,
   "metadata": {},
   "outputs": [],
   "source": [
    "X_train = preprocessor.transform(df_train)\n",
    "y_train = preprocessor_label.transform(df_train[\"Accept\"])"
   ]
  },
  {
   "cell_type": "code",
   "execution_count": 20,
   "outputs": [
    {
     "data": {
      "text/plain": "array([[0.        , 0.        , 0.        , ..., 0.        , 0.93089489,\n        0.        ]])"
     },
     "execution_count": 20,
     "metadata": {},
     "output_type": "execute_result"
    }
   ],
   "source": [
    "X_train[0].toarray()"
   ],
   "metadata": {
    "collapsed": false
   }
  },
  {
   "cell_type": "code",
   "execution_count": 1,
   "metadata": {},
   "outputs": [
    {
     "ename": "NameError",
     "evalue": "name 'X_train' is not defined",
     "output_type": "error",
     "traceback": [
      "\u001B[0;31m---------------------------------------------------------------------------\u001B[0m",
      "\u001B[0;31mNameError\u001B[0m                                 Traceback (most recent call last)",
      "Cell \u001B[0;32mIn[1], line 6\u001B[0m\n\u001B[1;32m      3\u001B[0m \u001B[38;5;28;01mfrom\u001B[39;00m \u001B[38;5;21;01msklearn\u001B[39;00m \u001B[38;5;28;01mimport\u001B[39;00m metrics\n\u001B[1;32m      5\u001B[0m model \u001B[38;5;241m=\u001B[39m DecisionTreeClassifier(max_depth\u001B[38;5;241m=\u001B[39m\u001B[38;5;241m10\u001B[39m, min_samples_leaf\u001B[38;5;241m=\u001B[39m\u001B[38;5;241m3\u001B[39m)\n\u001B[0;32m----> 6\u001B[0m model\u001B[38;5;241m.\u001B[39mfit(\u001B[43mX_train\u001B[49m, y_train)\n",
      "\u001B[0;31mNameError\u001B[0m: name 'X_train' is not defined"
     ]
    }
   ],
   "source": [
    "from sklearn.tree import DecisionTreeClassifier\n",
    "from sklearn.ensemble import RandomForestClassifier\n",
    "from sklearn import metrics\n",
    "\n",
    "model = DecisionTreeClassifier(max_depth=10, min_samples_leaf=3)\n",
    "model.fit(X_train, y_train)"
   ]
  },
  {
   "cell_type": "code",
   "execution_count": 69,
   "outputs": [
    {
     "name": "stdout",
     "output_type": "stream",
     "text": [
      "Accuracy in training  0.8018445849683821\n"
     ]
    }
   ],
   "source": [
    "y_train_pred = model.predict(X_train)\n",
    "print(\"Accuracy in training \", metrics.accuracy_score(y_train, y_train_pred))"
   ],
   "metadata": {
    "collapsed": false
   }
  },
  {
   "cell_type": "code",
   "execution_count": 70,
   "outputs": [
    {
     "name": "stdout",
     "output_type": "stream",
     "text": [
      "Accuracy in testing  0.5068669527896996\n"
     ]
    },
    {
     "data": {
      "text/plain": "<sklearn.metrics._plot.roc_curve.RocCurveDisplay at 0x286fa90a0>"
     },
     "execution_count": 70,
     "metadata": {},
     "output_type": "execute_result"
    },
    {
     "data": {
      "text/plain": "<Figure size 640x480 with 1 Axes>",
      "image/png": "[encoded data removed]"
     },
     "metadata": {},
     "output_type": "display_data"
    }
   ],
   "source": [
    "from sklearn.metrics import RocCurveDisplay\n",
    "\n",
    "y_test_pred = model.predict(X_test)\n",
    "print(\"Accuracy in testing \", metrics.accuracy_score(y_test, y_test_pred))\n",
    "RocCurveDisplay.from_estimator(model, X_test, y_test)"
   ],
   "metadata": {
    "collapsed": false
   }
  },
  {
   "cell_type": "code",
   "execution_count": 10,
   "outputs": [],
   "source": [],
   "metadata": {
    "collapsed": false
   }
  }
 ],
 "metadata": {
  "kernelspec": {
   "display_name": "Python 3 (ipykernel)",
   "language": "python",
   "name": "python3"
  },
  "language_info": {
   "codemirror_mode": {
    "name": "ipython",
    "version": 3
   },
   "file_extension": ".py",
   "mimetype": "text/x-python",
   "name": "python",
   "nbconvert_exporter": "python",
   "pygments_lexer": "ipython3",
   "version": "3.8.9"
  }
 },
 "nbformat": 4,
 "nbformat_minor": 1
}
