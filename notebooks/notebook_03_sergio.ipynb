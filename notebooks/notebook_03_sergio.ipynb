{
 "cells": [
  {
   "cell_type": "code",
   "execution_count": 2,
   "outputs": [],
   "source": [
    "import pandas as pd\n",
    "import numpy as np"
   ],
   "metadata": {
    "id": "okPSRymrYruG"
   }
  },
  {
   "cell_type": "code",
   "execution_count": 50,
   "outputs": [
    {
     "name": "stderr",
     "output_type": "stream",
     "text": [
      "/var/folders/9r/sd92rccj2_xbk8nkg4v7dcm00000gn/T/ipykernel_31833/1399654736.py:1: DtypeWarning: Columns (8) have mixed types. Specify dtype option on import or set low_memory=False.\n",
      "  df_train = pd.read_csv(\"./../data/train.csv\").dropna()\n"
     ]
    }
   ],
   "source": [
    "df_train = pd.read_csv(\"./../data/train.csv\").dropna()\n",
    "df_test_nolabel = pd.read_csv(\"./../data/test_nolabel.csv\").dropna()\n",
    "df_sample_submission = pd.read_csv(\"./../data/sample_submission.csv\").dropna()"
   ],
   "metadata": {
    "id": "N539q_rNYruX",
    "outputId": "c2f8bee2-5922-4bb9-a67d-290e39efe3b0",
    "colab": {
     "base_uri": "https://localhost:8080/"
    }
   }
  },
  {
   "cell_type": "code",
   "source": [
    "df_test_nolabel.info()"
   ],
   "metadata": {
    "id": "MLitQDBi4HZ8",
    "outputId": "64c286a8-fc4b-4d6d-e43a-01d97941e3b3",
    "colab": {
     "base_uri": "https://localhost:8080/"
    }
   },
   "execution_count": 51,
   "outputs": [
    {
     "name": "stdout",
     "output_type": "stream",
     "text": [
      "<class 'pandas.core.frame.DataFrame'>\n",
      "Int64Index: 6990 entries, 0 to 7049\n",
      "Data columns (total 20 columns):\n",
      " #   Column             Non-Null Count  Dtype  \n",
      "---  ------             --------------  -----  \n",
      " 0   id                 6990 non-null   object \n",
      " 1   LoanNr_ChkDgt      6990 non-null   int64  \n",
      " 2   Name               6990 non-null   object \n",
      " 3   City               6990 non-null   object \n",
      " 4   State              6990 non-null   object \n",
      " 5   Bank               6990 non-null   object \n",
      " 6   BankState          6990 non-null   object \n",
      " 7   ApprovalDate       6990 non-null   object \n",
      " 8   ApprovalFY         6990 non-null   object \n",
      " 9   NoEmp              6990 non-null   int64  \n",
      " 10  NewExist           6990 non-null   float64\n",
      " 11  CreateJob          6990 non-null   int64  \n",
      " 12  RetainedJob        6990 non-null   int64  \n",
      " 13  FranchiseCode      6990 non-null   int64  \n",
      " 14  UrbanRural         6990 non-null   int64  \n",
      " 15  RevLineCr          6990 non-null   object \n",
      " 16  LowDoc             6990 non-null   object \n",
      " 17  DisbursementDate   6990 non-null   object \n",
      " 18  DisbursementGross  6990 non-null   object \n",
      " 19  BalanceGross       6990 non-null   object \n",
      "dtypes: float64(1), int64(6), object(13)\n",
      "memory usage: 1.1+ MB\n"
     ]
    }
   ]
  },
  {
   "cell_type": "code",
   "source": [
    "df_train.info()"
   ],
   "metadata": {
    "id": "75MlnTlt4J-0",
    "outputId": "84c4fd3f-7d30-43f3-ceda-59334b4190ca",
    "colab": {
     "base_uri": "https://localhost:8080/"
    }
   },
   "execution_count": 52,
   "outputs": [
    {
     "name": "stdout",
     "output_type": "stream",
     "text": [
      "<class 'pandas.core.frame.DataFrame'>\n",
      "Int64Index: 40009 entries, 0 to 40384\n",
      "Data columns (total 21 columns):\n",
      " #   Column             Non-Null Count  Dtype  \n",
      "---  ------             --------------  -----  \n",
      " 0   id                 40009 non-null  object \n",
      " 1   LoanNr_ChkDgt      40009 non-null  int64  \n",
      " 2   Name               40009 non-null  object \n",
      " 3   City               40009 non-null  object \n",
      " 4   State              40009 non-null  object \n",
      " 5   Bank               40009 non-null  object \n",
      " 6   BankState          40009 non-null  object \n",
      " 7   ApprovalDate       40009 non-null  object \n",
      " 8   ApprovalFY         40009 non-null  object \n",
      " 9   NoEmp              40009 non-null  int64  \n",
      " 10  NewExist           40009 non-null  float64\n",
      " 11  CreateJob          40009 non-null  int64  \n",
      " 12  RetainedJob        40009 non-null  int64  \n",
      " 13  FranchiseCode      40009 non-null  int64  \n",
      " 14  UrbanRural         40009 non-null  int64  \n",
      " 15  RevLineCr          40009 non-null  object \n",
      " 16  LowDoc             40009 non-null  object \n",
      " 17  DisbursementDate   40009 non-null  object \n",
      " 18  DisbursementGross  40009 non-null  object \n",
      " 19  BalanceGross       40009 non-null  object \n",
      " 20  Accept             40009 non-null  int64  \n",
      "dtypes: float64(1), int64(7), object(13)\n",
      "memory usage: 6.7+ MB\n"
     ]
    }
   ]
  },
  {
   "cell_type": "code",
   "execution_count": 53,
   "metadata": {
    "collapsed": true,
    "colab": {
     "base_uri": "https://localhost:8080/"
    },
    "id": "8TM8y_R3YruZ",
    "outputId": "e88894e1-8f85-42e7-e9fd-75ba162f54ff"
   },
   "outputs": [
    {
     "data": {
      "text/plain": "NoEmp                  int64\nNewExist             float64\nCreateJob              int64\nRetainedJob            int64\nFranchiseCode          int64\nUrbanRural             int64\nRevLineCr              int64\nLowDoc                 int64\nDisbursementGross    float64\ndtype: object"
     },
     "execution_count": 53,
     "metadata": {},
     "output_type": "execute_result"
    }
   ],
   "source": [
    "\n",
    "df_train['Name'] = df_train['Name'].apply(lambda str: str.lower())\n",
    "df_train['City'] = df_train['City'].apply(lambda str: str.lower())\n",
    "df_train['Bank'] = df_train['Bank'].apply(lambda str: str.lower())\n",
    "df_train['BankState'] = df_train['BankState'].apply(lambda str: str.lower())\n",
    "\n",
    "df_train['NoEmp'] = df_train['NoEmp'].clip(0, 155)\n",
    "df_train['CreateJob'] = df_train['CreateJob'].clip(0, 1027)\n",
    "\n",
    "df_train.loc[df_train['NewExist'] == 0, \"NewExist\"] = 1\n",
    "\n",
    "df_train.loc[df_train['FranchiseCode'] <= 1, \"FranchiseCode\"] = 0\n",
    "df_train.loc[df_train['FranchiseCode'] > 1, \"FranchiseCode\"] = 1\n",
    "\n",
    "df_train.loc[df_train['RevLineCr'].isin([\"N\", 0]), \"RevLineCr\"] = 0\n",
    "df_train.loc[~df_train['RevLineCr'].isin([\"N\", 0]), \"RevLineCr\"] = 1\n",
    "\n",
    "df_train.loc[df_train['LowDoc'].isin([\"Y\", \"S\"]), \"LowDoc\"] = 1\n",
    "df_train.loc[~df_train['LowDoc'].isin([\"Y\", \"S\"]), \"LowDoc\"] = 0\n",
    "\n",
    "df_train[\"DisbursementGross\"] = df_train[\"DisbursementGross\"]\\\n",
    "        .str.extract(\"(\\d+(?:,\\d+)*(?:\\.\\d+)?)\")[0]\\\n",
    "        .str.replace(\",\", \"\")\\\n",
    "        .astype(\"float\")\n",
    "\n",
    "#df_train['ApprovalFY'] = df_train['ApprovalFY'].astype(np.int64)\n",
    "df_train['RevLineCr'] = df_train['RevLineCr'].astype(np.int64)\n",
    "df_train['LowDoc'] = df_train['LowDoc'].astype(np.int64)\n",
    "\n",
    "df_train_accept = df_train[\"Accept\"]\n",
    "df_train.drop(['Name', 'Bank', 'BankState', 'State', 'City', 'id', 'LoanNr_ChkDgt', 'ApprovalDate', 'ApprovalFY', 'DisbursementDate', 'BalanceGross', \"Accept\"], axis=1, inplace=True)\n",
    "\n",
    "#one_hot = pd.get_dummies(df_train['Name'])\n",
    "#df_train = df_train.drop('Name',axis = 1)\n",
    "#df_train = df_train.join(one_hot)\n",
    "\n",
    "#one_hot2 = pd.get_dummies(df_train['Bank'])\n",
    "#df_train = df_train.drop('Bank',axis = 1)\n",
    "#df_train = df_train.join(one_hot2)\n",
    "\n",
    "#one_hot3 = pd.get_dummies(df_train['City'])\n",
    "#df_train = df_train.drop('City',axis = 1)\n",
    "#df_train = df_train.join(one_hot3, lsuffix='city')\n",
    "\n",
    "#one_hot4 = pd.get_dummies(df_train['BankState'])\n",
    "#df_train = df_train.drop('BankState',axis = 1)\n",
    "#df_train = df_train.join(one_hot4)\n",
    "\n",
    "df_train.dtypes"
   ]
  },
  {
   "cell_type": "code",
   "source": [
    "df_test_nolabel = df_test_nolabel.merge(df_sample_submission)\n",
    "df_test_nolabel.head"
   ],
   "metadata": {
    "id": "x5BtTFA2-Fkq",
    "outputId": "ff38320b-f597-4c78-9a09-aa3c1919bb74",
    "colab": {
     "base_uri": "https://localhost:8080/"
    }
   },
   "execution_count": 54,
   "outputs": [
    {
     "data": {
      "text/plain": "<bound method NDFrame.head of                id  LoanNr_ChkDgt                            Name  \\\n0     63ef5dfc62f     1787644007                   ERIC P. HAILE   \n1     65ee0569c05     6209123009               TANNING BED, LTD.   \n2     19058f4da52     5033174010   BREITO COMPUTER SOLUTIONS INC   \n3     a0f1299afe4     1578685008          Rasol Food Corporation   \n4     e47da0be9fc     7146054004   MCKAY ARCHITECTURE AND DESIGN   \n...           ...            ...                             ...   \n6985  78c2f0067d8     5583904009            NASCO STONEWORKS INC   \n6986  279c7d23eb7     3264695007                Yaworski's, Inc.   \n6987  d67af0ec109     1890735004  RAWSON VALLEY FARMS LANDSCAPES   \n6988  7d2e8114e9a     8939464003               RAJ REALTY PA LLC   \n6989  f479ed04b66     1527695000                  Heather Adelle   \n\n                                City State                            Bank  \\\n0                           STAFFORD    NY   MANUFACTURERS & TRADERS TR CO   \n1                        WEST SENECA    NY   MANUFACTURERS & TRADERS TR CO   \n2             WOOD HAVEN (WOODHAVEN)    NY      BANK OF AMERICA NATL ASSOC   \n3                              BRONX    NY  JPMORGAN CHASE BANK NATL ASSOC   \n4                           NEW YORK    NY                   FLUSHING BANK   \n...                              ...   ...                             ...   \n6985  HUNTINGTON STATION (HUNTINGTON    NY      BANK OF AMERICA NATL ASSOC   \n6986                            ROME    NY   FIRST NIAGARA BANK NATL ASSOC   \n6987                        WALWORTH    NY        CITIZENS BANK NATL ASSOC   \n6988                        BROOKLYN    NY   FIRST NIAGARA BANK NATL ASSOC   \n6989                        BROOKLYN    NY          HSBC BK USA NATL ASSOC   \n\n     BankState ApprovalDate ApprovalFY  NoEmp  ...  CreateJob  RetainedJob  \\\n0           NY    16-Jan-98       1998      1  ...          0            0   \n1           NY     9-Feb-94       1994     81  ...          0            0   \n2           RI     7-Nov-01       2002      4  ...          1            5   \n3           IL    13-Dec-05       2006      6  ...          3            6   \n4           NY    30-Jan-04       2004      3  ...          0            3   \n...        ...          ...        ...    ...  ...        ...          ...   \n6985        RI     2-Aug-02       2002      2  ...          0            2   \n6986        NY    14-Nov-08       2009      5  ...          0            5   \n6987        RI    23-Jun-06       2006      1  ...          0            1   \n6988        NY    20-Jun-05       2005      2  ...          0            2   \n6989        VA     3-Nov-05       2006      1  ...          0            1   \n\n      FranchiseCode  UrbanRural  RevLineCr LowDoc DisbursementDate  \\\n0                 1           0          N      Y         3-Apr-98   \n1                 1           0          N      N        31-Jul-94   \n2                 1           1          Y      N        31-Dec-01   \n3                 0           1          Y      N        31-Jan-06   \n4                 1           1          Y      N        29-Feb-04   \n...             ...         ...        ...    ...              ...   \n6985              1           1          0      N        31-Oct-02   \n6986              0           1          N      N        31-Dec-08   \n6987              0           2          Y      N        31-Aug-06   \n6988              1           1          Y      N        31-Mar-08   \n6989              0           1          Y      N        30-Nov-05   \n\n     DisbursementGross BalanceGross Accept  \n0          $35,000.00        $0.00       0  \n1         $145,000.00        $0.00       0  \n2          $52,174.00        $0.00       0  \n3         $194,316.00        $0.00       0  \n4          $75,000.00        $0.00       0  \n...                ...          ...    ...  \n6985       $30,000.00        $0.00       1  \n6986           $18.00        $0.00       0  \n6987       $23,762.00        $0.00       0  \n6988       $30,000.00        $0.00       1  \n6989       $25,247.00        $0.00       0  \n\n[6990 rows x 21 columns]>"
     },
     "execution_count": 54,
     "metadata": {},
     "output_type": "execute_result"
    }
   ]
  },
  {
   "cell_type": "code",
   "execution_count": 55,
   "metadata": {
    "collapsed": true,
    "outputId": "1ba7d59c-a44a-4656-e08d-105ffd2df8a3",
    "colab": {
     "base_uri": "https://localhost:8080/"
    },
    "id": "DAHcyhJF3vbr"
   },
   "outputs": [
    {
     "data": {
      "text/plain": "NoEmp                  int64\nNewExist             float64\nCreateJob              int64\nRetainedJob            int64\nFranchiseCode          int64\nUrbanRural             int64\nRevLineCr              int64\nLowDoc                 int64\nDisbursementGross    float64\ndtype: object"
     },
     "execution_count": 55,
     "metadata": {},
     "output_type": "execute_result"
    }
   ],
   "source": [
    "\n",
    "df_test_nolabel['Name'] = df_test_nolabel['Name'].apply(lambda str: str.lower())\n",
    "df_test_nolabel['City'] = df_test_nolabel['City'].apply(lambda str: str.lower())\n",
    "df_test_nolabel['Bank'] = df_test_nolabel['Bank'].apply(lambda str: str.lower())\n",
    "df_test_nolabel['BankState'] = df_test_nolabel['BankState'].apply(lambda str: str.lower())\n",
    "\n",
    "df_test_nolabel['NoEmp'] = df_test_nolabel['NoEmp'].clip(0, 155)\n",
    "df_test_nolabel['CreateJob'] = df_test_nolabel['CreateJob'].clip(0, 1027)\n",
    "\n",
    "df_test_nolabel.loc[df_test_nolabel['NewExist'] == 0, \"NewExist\"] = 1\n",
    "\n",
    "df_test_nolabel.loc[df_test_nolabel['FranchiseCode'] <= 1, \"FranchiseCode\"] = 0\n",
    "df_test_nolabel.loc[df_test_nolabel['FranchiseCode'] > 1, \"FranchiseCode\"] = 1\n",
    "\n",
    "df_test_nolabel.loc[df_test_nolabel['RevLineCr'].isin([\"N\", 0]), \"RevLineCr\"] = 0\n",
    "df_test_nolabel.loc[~df_test_nolabel['RevLineCr'].isin([\"N\", 0]), \"RevLineCr\"] = 1\n",
    "\n",
    "df_test_nolabel.loc[df_test_nolabel['LowDoc'].isin([\"Y\", \"S\"]), \"LowDoc\"] = 1\n",
    "df_test_nolabel.loc[~df_test_nolabel['LowDoc'].isin([\"Y\", \"S\"]), \"LowDoc\"] = 0\n",
    "\n",
    "df_test_nolabel[\"DisbursementGross\"] = df_test_nolabel[\"DisbursementGross\"]\\\n",
    "        .str.extract(\"(\\d+(?:,\\d+)*(?:\\.\\d+)?)\")[0]\\\n",
    "        .str.replace(\",\", \"\")\\\n",
    "        .astype(\"float\")\n",
    "\n",
    "#df_train['ApprovalFY'] = df_train['ApprovalFY'].astype(np.int64)\n",
    "df_test_nolabel['RevLineCr'] = df_test_nolabel['RevLineCr'].astype(np.int64)\n",
    "df_test_nolabel['LowDoc'] = df_test_nolabel['LowDoc'].astype(np.int64)\n",
    "\n",
    "df_test_nolabel_accept = df_test_nolabel[\"Accept\"]\n",
    "df_test_nolabel.drop(['Name', 'Bank', 'BankState', 'State', 'City', 'id', 'LoanNr_ChkDgt', 'ApprovalDate', 'ApprovalFY', 'DisbursementDate', 'BalanceGross', \"Accept\"], axis=1, inplace=True)\n",
    "\n",
    "#one_hot = pd.get_dummies(df_test_nolabel['Name'])\n",
    "#df_test_nolabel = df_test_nolabel.drop('Name',axis = 1)\n",
    "#df_test_nolabel = df_test_nolabel.join(one_hot)\n",
    "\n",
    "#one_hot2 = pd.get_dummies(df_test_nolabel['Bank'])\n",
    "#df_test_nolabel = df_test_nolabel.drop('Bank',axis = 1)\n",
    "#df_test_nolabel = df_test_nolabel.join(one_hot2)\n",
    "\n",
    "#one_hot3 = pd.get_dummies(df_train['City'])\n",
    "#df_train = df_train.drop('City',axis = 1)\n",
    "#df_train = df_train.join(one_hot3, lsuffix='city')\n",
    "\n",
    "#one_hot4 = pd.get_dummies(df_test_nolabel['BankState'])\n",
    "#df_test_nolabel = df_test_nolabel.drop('BankState',axis = 1)\n",
    "#df_test_nolabel = df_test_nolabel.join(one_hot4)\n",
    "\n",
    "df_test_nolabel.dtypes"
   ]
  },
  {
   "cell_type": "code",
   "execution_count": 56,
   "outputs": [
    {
     "data": {
      "text/plain": "      NoEmp  NewExist  CreateJob  RetainedJob  FranchiseCode  UrbanRural  \\\n0         1       2.0          0            0              0           0   \n1        81       1.0          0            0              0           0   \n2         4       1.0          1            5              0           1   \n3         6       2.0          3            6              0           1   \n4         3       1.0          0            3              0           1   \n...     ...       ...        ...          ...            ...         ...   \n6985      2       1.0          0            2              0           1   \n6986      5       2.0          0            5              0           1   \n6987      1       1.0          0            1              0           2   \n6988      2       1.0          0            2              0           1   \n6989      1       2.0          0            1              0           1   \n\n      RevLineCr  LowDoc  DisbursementGross  \n0             0       0            35000.0  \n1             0       0           145000.0  \n2             1       0            52174.0  \n3             1       0           194316.0  \n4             1       0            75000.0  \n...         ...     ...                ...  \n6985          1       0            30000.0  \n6986          0       0               18.0  \n6987          1       0            23762.0  \n6988          1       0            30000.0  \n6989          1       0            25247.0  \n\n[6990 rows x 9 columns]",
      "text/html": "<div>\n<style scoped>\n    .dataframe tbody tr th:only-of-type {\n        vertical-align: middle;\n    }\n\n    .dataframe tbody tr th {\n        vertical-align: top;\n    }\n\n    .dataframe thead th {\n        text-align: right;\n    }\n</style>\n<table border=\"1\" class=\"dataframe\">\n  <thead>\n    <tr style=\"text-align: right;\">\n      <th></th>\n      <th>NoEmp</th>\n      <th>NewExist</th>\n      <th>CreateJob</th>\n      <th>RetainedJob</th>\n      <th>FranchiseCode</th>\n      <th>UrbanRural</th>\n      <th>RevLineCr</th>\n      <th>LowDoc</th>\n      <th>DisbursementGross</th>\n    </tr>\n  </thead>\n  <tbody>\n    <tr>\n      <th>0</th>\n      <td>1</td>\n      <td>2.0</td>\n      <td>0</td>\n      <td>0</td>\n      <td>0</td>\n      <td>0</td>\n      <td>0</td>\n      <td>0</td>\n      <td>35000.0</td>\n    </tr>\n    <tr>\n      <th>1</th>\n      <td>81</td>\n      <td>1.0</td>\n      <td>0</td>\n      <td>0</td>\n      <td>0</td>\n      <td>0</td>\n      <td>0</td>\n      <td>0</td>\n      <td>145000.0</td>\n    </tr>\n    <tr>\n      <th>2</th>\n      <td>4</td>\n      <td>1.0</td>\n      <td>1</td>\n      <td>5</td>\n      <td>0</td>\n      <td>1</td>\n      <td>1</td>\n      <td>0</td>\n      <td>52174.0</td>\n    </tr>\n    <tr>\n      <th>3</th>\n      <td>6</td>\n      <td>2.0</td>\n      <td>3</td>\n      <td>6</td>\n      <td>0</td>\n      <td>1</td>\n      <td>1</td>\n      <td>0</td>\n      <td>194316.0</td>\n    </tr>\n    <tr>\n      <th>4</th>\n      <td>3</td>\n      <td>1.0</td>\n      <td>0</td>\n      <td>3</td>\n      <td>0</td>\n      <td>1</td>\n      <td>1</td>\n      <td>0</td>\n      <td>75000.0</td>\n    </tr>\n    <tr>\n      <th>...</th>\n      <td>...</td>\n      <td>...</td>\n      <td>...</td>\n      <td>...</td>\n      <td>...</td>\n      <td>...</td>\n      <td>...</td>\n      <td>...</td>\n      <td>...</td>\n    </tr>\n    <tr>\n      <th>6985</th>\n      <td>2</td>\n      <td>1.0</td>\n      <td>0</td>\n      <td>2</td>\n      <td>0</td>\n      <td>1</td>\n      <td>1</td>\n      <td>0</td>\n      <td>30000.0</td>\n    </tr>\n    <tr>\n      <th>6986</th>\n      <td>5</td>\n      <td>2.0</td>\n      <td>0</td>\n      <td>5</td>\n      <td>0</td>\n      <td>1</td>\n      <td>0</td>\n      <td>0</td>\n      <td>18.0</td>\n    </tr>\n    <tr>\n      <th>6987</th>\n      <td>1</td>\n      <td>1.0</td>\n      <td>0</td>\n      <td>1</td>\n      <td>0</td>\n      <td>2</td>\n      <td>1</td>\n      <td>0</td>\n      <td>23762.0</td>\n    </tr>\n    <tr>\n      <th>6988</th>\n      <td>2</td>\n      <td>1.0</td>\n      <td>0</td>\n      <td>2</td>\n      <td>0</td>\n      <td>1</td>\n      <td>1</td>\n      <td>0</td>\n      <td>30000.0</td>\n    </tr>\n    <tr>\n      <th>6989</th>\n      <td>1</td>\n      <td>2.0</td>\n      <td>0</td>\n      <td>1</td>\n      <td>0</td>\n      <td>1</td>\n      <td>1</td>\n      <td>0</td>\n      <td>25247.0</td>\n    </tr>\n  </tbody>\n</table>\n<p>6990 rows × 9 columns</p>\n</div>"
     },
     "execution_count": 56,
     "metadata": {},
     "output_type": "execute_result"
    }
   ],
   "source": [
    "df_test_nolabel"
   ],
   "metadata": {
    "collapsed": false
   }
  },
  {
   "cell_type": "code",
   "source": [
    "from sklearn import preprocessing\n",
    "scaler = preprocessing.StandardScaler().fit(df_train)\n",
    "X_train = scaler.transform(df_train)\n",
    "X_test = scaler.transform(df_test_nolabel)\n",
    "Y_train = df_train_accept.values\n",
    "Y_test = df_test_nolabel_accept.values"
   ],
   "metadata": {
    "id": "b-CpcpKA3iwy"
   },
   "execution_count": 61,
   "outputs": []
  },
  {
   "cell_type": "code",
   "execution_count": 62,
   "outputs": [
    {
     "data": {
      "text/plain": "array([[ 0.70352467, -0.62339618, -0.09589763, ..., -1.13856596,\n         0.        ,  0.93089489],\n       [-0.3694442 , -0.62339618, -0.04717429, ..., -1.13856596,\n         0.        , -0.51378835],\n       [-0.24321256, -0.62339618, -0.09589763, ...,  0.87829782,\n         0.        , -0.44499391],\n       ...,\n       [-0.49567583,  1.60411634, -0.09589763, ..., -1.13856596,\n         0.        , -0.55965131],\n       [-0.49567583,  1.60411634, -0.09589763, ...,  0.87829782,\n         0.        , -0.33784428],\n       [-0.3694442 , -0.62339618, -0.09589763, ...,  0.87829782,\n         0.        , -0.44499391]])"
     },
     "execution_count": 62,
     "metadata": {},
     "output_type": "execute_result"
    }
   ],
   "source": [
    "X_train"
   ],
   "metadata": {
    "collapsed": false
   }
  },
  {
   "cell_type": "code",
   "execution_count": 63,
   "outputs": [],
   "source": [
    "# empezar a entrenar aquí"
   ],
   "metadata": {
    "id": "HAevLsCaYruh"
   }
  },
  {
   "cell_type": "code",
   "execution_count": 64,
   "outputs": [
    {
     "data": {
      "text/plain": "KNeighborsClassifier(n_neighbors=3)",
      "text/html": "<style>#sk-container-id-2 {color: black;background-color: white;}#sk-container-id-2 pre{padding: 0;}#sk-container-id-2 div.sk-toggleable {background-color: white;}#sk-container-id-2 label.sk-toggleable__label {cursor: pointer;display: block;width: 100%;margin-bottom: 0;padding: 0.3em;box-sizing: border-box;text-align: center;}#sk-container-id-2 label.sk-toggleable__label-arrow:before {content: \"▸\";float: left;margin-right: 0.25em;color: #696969;}#sk-container-id-2 label.sk-toggleable__label-arrow:hover:before {color: black;}#sk-container-id-2 div.sk-estimator:hover label.sk-toggleable__label-arrow:before {color: black;}#sk-container-id-2 div.sk-toggleable__content {max-height: 0;max-width: 0;overflow: hidden;text-align: left;background-color: #f0f8ff;}#sk-container-id-2 div.sk-toggleable__content pre {margin: 0.2em;color: black;border-radius: 0.25em;background-color: #f0f8ff;}#sk-container-id-2 input.sk-toggleable__control:checked~div.sk-toggleable__content {max-height: 200px;max-width: 100%;overflow: auto;}#sk-container-id-2 input.sk-toggleable__control:checked~label.sk-toggleable__label-arrow:before {content: \"▾\";}#sk-container-id-2 div.sk-estimator input.sk-toggleable__control:checked~label.sk-toggleable__label {background-color: #d4ebff;}#sk-container-id-2 div.sk-label input.sk-toggleable__control:checked~label.sk-toggleable__label {background-color: #d4ebff;}#sk-container-id-2 input.sk-hidden--visually {border: 0;clip: rect(1px 1px 1px 1px);clip: rect(1px, 1px, 1px, 1px);height: 1px;margin: -1px;overflow: hidden;padding: 0;position: absolute;width: 1px;}#sk-container-id-2 div.sk-estimator {font-family: monospace;background-color: #f0f8ff;border: 1px dotted black;border-radius: 0.25em;box-sizing: border-box;margin-bottom: 0.5em;}#sk-container-id-2 div.sk-estimator:hover {background-color: #d4ebff;}#sk-container-id-2 div.sk-parallel-item::after {content: \"\";width: 100%;border-bottom: 1px solid gray;flex-grow: 1;}#sk-container-id-2 div.sk-label:hover label.sk-toggleable__label {background-color: #d4ebff;}#sk-container-id-2 div.sk-serial::before {content: \"\";position: absolute;border-left: 1px solid gray;box-sizing: border-box;top: 0;bottom: 0;left: 50%;z-index: 0;}#sk-container-id-2 div.sk-serial {display: flex;flex-direction: column;align-items: center;background-color: white;padding-right: 0.2em;padding-left: 0.2em;position: relative;}#sk-container-id-2 div.sk-item {position: relative;z-index: 1;}#sk-container-id-2 div.sk-parallel {display: flex;align-items: stretch;justify-content: center;background-color: white;position: relative;}#sk-container-id-2 div.sk-item::before, #sk-container-id-2 div.sk-parallel-item::before {content: \"\";position: absolute;border-left: 1px solid gray;box-sizing: border-box;top: 0;bottom: 0;left: 50%;z-index: -1;}#sk-container-id-2 div.sk-parallel-item {display: flex;flex-direction: column;z-index: 1;position: relative;background-color: white;}#sk-container-id-2 div.sk-parallel-item:first-child::after {align-self: flex-end;width: 50%;}#sk-container-id-2 div.sk-parallel-item:last-child::after {align-self: flex-start;width: 50%;}#sk-container-id-2 div.sk-parallel-item:only-child::after {width: 0;}#sk-container-id-2 div.sk-dashed-wrapped {border: 1px dashed gray;margin: 0 0.4em 0.5em 0.4em;box-sizing: border-box;padding-bottom: 0.4em;background-color: white;}#sk-container-id-2 div.sk-label label {font-family: monospace;font-weight: bold;display: inline-block;line-height: 1.2em;}#sk-container-id-2 div.sk-label-container {text-align: center;}#sk-container-id-2 div.sk-container {/* jupyter's `normalize.less` sets `[hidden] { display: none; }` but bootstrap.min.css set `[hidden] { display: none !important; }` so we also need the `!important` here to be able to override the default hidden behavior on the sphinx rendered scikit-learn.org. See: https://github.com/scikit-learn/scikit-learn/issues/21755 */display: inline-block !important;position: relative;}#sk-container-id-2 div.sk-text-repr-fallback {display: none;}</style><div id=\"sk-container-id-2\" class=\"sk-top-container\"><div class=\"sk-text-repr-fallback\"><pre>KNeighborsClassifier(n_neighbors=3)</pre><b>In a Jupyter environment, please rerun this cell to show the HTML representation or trust the notebook. <br />On GitHub, the HTML representation is unable to render, please try loading this page with nbviewer.org.</b></div><div class=\"sk-container\" hidden><div class=\"sk-item\"><div class=\"sk-estimator sk-toggleable\"><input class=\"sk-toggleable__control sk-hidden--visually\" id=\"sk-estimator-id-2\" type=\"checkbox\" checked><label for=\"sk-estimator-id-2\" class=\"sk-toggleable__label sk-toggleable__label-arrow\">KNeighborsClassifier</label><div class=\"sk-toggleable__content\"><pre>KNeighborsClassifier(n_neighbors=3)</pre></div></div></div></div></div>"
     },
     "execution_count": 64,
     "metadata": {},
     "output_type": "execute_result"
    }
   ],
   "source": [
    "from sklearn.neighbors import KNeighborsClassifier\n",
    "import numpy as np\n",
    "\n",
    "# configuramos k a 15 inicialmente\n",
    "model = KNeighborsClassifier(n_neighbors=3)\n",
    "\n",
    "model.fit(X_train, Y_train)"
   ],
   "metadata": {
    "id": "NfMucwjdYrui",
    "outputId": "7197cb4d-10a0-47cc-f954-f9b01cf373b2",
    "colab": {
     "base_uri": "https://localhost:8080/",
     "height": 75
    }
   }
  },
  {
   "cell_type": "code",
   "source": [
    "from sklearn import metrics\n",
    "\n",
    "# vemos qué de acierto tiene con el fragmento del dataset para testeado\n",
    "Y_test_pred = model.predict(X_test)\n",
    "print(Y_test_pred)\n",
    "print(\"Accuracy in testing \", metrics.accuracy_score(Y_test, Y_test_pred))"
   ],
   "metadata": {
    "id": "iF_1LbKIhyUz",
    "outputId": "070d27c9-2163-47f6-c563-00a0693e08d2",
    "colab": {
     "base_uri": "https://localhost:8080/"
    }
   },
   "execution_count": 65,
   "outputs": [
    {
     "name": "stdout",
     "output_type": "stream",
     "text": [
      "[1 1 1 ... 1 1 1]\n",
      "Accuracy in testing  0.5021459227467812\n"
     ]
    }
   ]
  },
  {
   "cell_type": "code",
   "execution_count": 66,
   "outputs": [
    {
     "data": {
      "text/plain": "<sklearn.metrics._plot.roc_curve.RocCurveDisplay at 0x164d66940>"
     },
     "execution_count": 66,
     "metadata": {},
     "output_type": "execute_result"
    },
    {
     "data": {
      "text/plain": "<Figure size 640x480 with 1 Axes>",
      "image/png": "[encoded data removed]"
     },
     "metadata": {},
     "output_type": "display_data"
    }
   ],
   "source": [
    "from sklearn.metrics import RocCurveDisplay\n",
    "\n",
    "RocCurveDisplay.from_estimator(model, X_test, Y_test)"
   ],
   "metadata": {
    "collapsed": false
   }
  },
  {
   "cell_type": "code",
   "execution_count": null,
   "outputs": [],
   "source": [],
   "metadata": {
    "collapsed": false
   }
  }
 ],
 "metadata": {
  "kernelspec": {
   "display_name": "Python 3",
   "language": "python",
   "name": "python3"
  },
  "language_info": {
   "codemirror_mode": {
    "name": "ipython",
    "version": 2
   },
   "file_extension": ".py",
   "mimetype": "text/x-python",
   "name": "python",
   "nbconvert_exporter": "python",
   "pygments_lexer": "ipython2",
   "version": "2.7.6"
  },
  "colab": {
   "provenance": []
  }
 },
 "nbformat": 4,
 "nbformat_minor": 0
}
