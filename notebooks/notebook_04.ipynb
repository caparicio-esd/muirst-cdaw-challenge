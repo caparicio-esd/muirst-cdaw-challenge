{
 "cells": [
  {
   "cell_type": "code",
   "execution_count": 2,
   "metadata": {},
   "outputs": [],
   "source": [
    "import np as np\n",
    "import pandas as pd"
   ]
  },
  {
   "cell_type": "code",
   "execution_count": 3,
   "metadata": {},
   "outputs": [],
   "source": [
    "df_train = pd.read_csv(\"./../data/train.csv\").dropna()\n",
    "df_test_nolabel = pd.read_csv(\"./../data/test_nolabel.csv\")\n",
    "df_sample_submission = pd.read_csv(\"./../data/sample_submission.csv\").dropna()"
   ]
  },
  {
   "cell_type": "code",
   "execution_count": 4,
   "outputs": [
    {
     "data": {
      "text/plain": "                id  LoanNr_ChkDgt                            Name  \\\n0      2fa57387ae1     6213754009                 SETANTA SETTERS   \n1      a66f9849d7f     1751224008            DURACLEAN BY SEITZER   \n2      fb6a6d89487     6979444003  PC HAINES WALL & CEILING CONTR   \n3      0ac44b54067     5825754005                 LESLIE A LANDIS   \n4      3a5ff625fa3     8989333001                 MAILBOXES, ETC.   \n...            ...            ...                             ...   \n24614  ae972125b13     7387374007             HUNTINGDON CREAMERY   \n24615  95d6fb854b9     1175195009        MAJIK D.J. ENTERTAINMENT   \n24616  5e446a47a0f     1797704005     MCCULLOUGH TOWING & STORAGE   \n24617  549dcfeb04e     3816914004                   HALLS FLORIST   \n24618  81c5faf8439     4149724006    INTERNT'L HARDWOOD RESOURCES   \n\n                City State                            Bank BankState  \\\n0         PITTSBURGH    PA        CITIZENS BANK NATL ASSOC        MA   \n1      MONTOURSVILLE    PA   MANUFACTURERS & TRADERS TR CO        NY   \n2            SALUNGA    PA        CITIZENS BANK NATL ASSOC        RI   \n3               YORK    PA   MANUFACTURERS & TRADERS TR CO        MD   \n4       PHILADELPHIA    PA  NEWTEK SMALL BUS. FINANCE INC.        NY   \n...              ...   ...                             ...       ...   \n24614     HUNTINGDON    PA                       KISH BANK        PA   \n24615      FLEETWOOD    PA        CITIZENS BANK NATL ASSOC        RI   \n24616          PHILA    PA                SUSQUEHANNA BANK        PA   \n24617   WILLIAMSPORT    PA   MANUFACTURERS & TRADERS TR CO        NY   \n24618     DOYLESTOWN    PA      BANK OF AMERICA NATL ASSOC        NC   \n\n      ApprovalDate  ApprovalFY  NoEmp  ...  CreateJob  RetainedJob  \\\n0         1-Apr-03        2003      1  ...          1            2   \n1        19-Dec-97        1998     20  ...          0            0   \n2         1-Dec-03        2004      9  ...          0            9   \n3        31-Oct-02        2003      3  ...          2            5   \n4         7-Feb-96        1996      3  ...          0            0   \n...            ...         ...    ...  ...        ...          ...   \n24614    27-Apr-04        2004      2  ...          2            0   \n24615    31-Jan-05        2005      2  ...          0            2   \n24616    22-Jan-98        1998      3  ...          0            0   \n24617    29-Jun-00        2000      4  ...          0            3   \n24618    21-Dec-00        2001      7  ...          0            0   \n\n       FranchiseCode  UrbanRural  RevLineCr LowDoc DisbursementDate  \\\n0                  1           1          Y      N        30-Jun-03   \n1              25850           0          N      Y        28-Feb-98   \n2                  1           2          Y      N        29-Feb-04   \n3                  1           1          0      N        31-Jan-03   \n4              50564           0          N      Y        31-Oct-96   \n...              ...         ...        ...    ...              ...   \n24614              1           1          0      N        31-May-04   \n24615              1           1          N      N        30-Apr-06   \n24616              1           0          N      Y        31-Mar-98   \n24617              1           1          Y      N        31-Aug-04   \n24618              1           1          N      N        31-May-01   \n\n      DisbursementGross BalanceGross Accept  \n0            $5,440.00        $0.00       1  \n1           $33,800.00        $0.00       1  \n2          $156,599.00        $0.00       1  \n3           $40,000.00        $0.00       1  \n4          $100,000.00        $0.00       1  \n...                 ...          ...    ...  \n24614       $20,000.00        $0.00       1  \n24615       $10,000.00        $0.00       1  \n24616       $60,000.00        $0.00       1  \n24617       $10,000.00        $0.00       1  \n24618      $850,000.00        $0.00       0  \n\n[24298 rows x 21 columns]",
      "text/html": "<div>\n<style scoped>\n    .dataframe tbody tr th:only-of-type {\n        vertical-align: middle;\n    }\n\n    .dataframe tbody tr th {\n        vertical-align: top;\n    }\n\n    .dataframe thead th {\n        text-align: right;\n    }\n</style>\n<table border=\"1\" class=\"dataframe\">\n  <thead>\n    <tr style=\"text-align: right;\">\n      <th></th>\n      <th>id</th>\n      <th>LoanNr_ChkDgt</th>\n      <th>Name</th>\n      <th>City</th>\n      <th>State</th>\n      <th>Bank</th>\n      <th>BankState</th>\n      <th>ApprovalDate</th>\n      <th>ApprovalFY</th>\n      <th>NoEmp</th>\n      <th>...</th>\n      <th>CreateJob</th>\n      <th>RetainedJob</th>\n      <th>FranchiseCode</th>\n      <th>UrbanRural</th>\n      <th>RevLineCr</th>\n      <th>LowDoc</th>\n      <th>DisbursementDate</th>\n      <th>DisbursementGross</th>\n      <th>BalanceGross</th>\n      <th>Accept</th>\n    </tr>\n  </thead>\n  <tbody>\n    <tr>\n      <th>0</th>\n      <td>2fa57387ae1</td>\n      <td>6213754009</td>\n      <td>SETANTA SETTERS</td>\n      <td>PITTSBURGH</td>\n      <td>PA</td>\n      <td>CITIZENS BANK NATL ASSOC</td>\n      <td>MA</td>\n      <td>1-Apr-03</td>\n      <td>2003</td>\n      <td>1</td>\n      <td>...</td>\n      <td>1</td>\n      <td>2</td>\n      <td>1</td>\n      <td>1</td>\n      <td>Y</td>\n      <td>N</td>\n      <td>30-Jun-03</td>\n      <td>$5,440.00</td>\n      <td>$0.00</td>\n      <td>1</td>\n    </tr>\n    <tr>\n      <th>1</th>\n      <td>a66f9849d7f</td>\n      <td>1751224008</td>\n      <td>DURACLEAN BY SEITZER</td>\n      <td>MONTOURSVILLE</td>\n      <td>PA</td>\n      <td>MANUFACTURERS &amp; TRADERS TR CO</td>\n      <td>NY</td>\n      <td>19-Dec-97</td>\n      <td>1998</td>\n      <td>20</td>\n      <td>...</td>\n      <td>0</td>\n      <td>0</td>\n      <td>25850</td>\n      <td>0</td>\n      <td>N</td>\n      <td>Y</td>\n      <td>28-Feb-98</td>\n      <td>$33,800.00</td>\n      <td>$0.00</td>\n      <td>1</td>\n    </tr>\n    <tr>\n      <th>2</th>\n      <td>fb6a6d89487</td>\n      <td>6979444003</td>\n      <td>PC HAINES WALL &amp; CEILING CONTR</td>\n      <td>SALUNGA</td>\n      <td>PA</td>\n      <td>CITIZENS BANK NATL ASSOC</td>\n      <td>RI</td>\n      <td>1-Dec-03</td>\n      <td>2004</td>\n      <td>9</td>\n      <td>...</td>\n      <td>0</td>\n      <td>9</td>\n      <td>1</td>\n      <td>2</td>\n      <td>Y</td>\n      <td>N</td>\n      <td>29-Feb-04</td>\n      <td>$156,599.00</td>\n      <td>$0.00</td>\n      <td>1</td>\n    </tr>\n    <tr>\n      <th>3</th>\n      <td>0ac44b54067</td>\n      <td>5825754005</td>\n      <td>LESLIE A LANDIS</td>\n      <td>YORK</td>\n      <td>PA</td>\n      <td>MANUFACTURERS &amp; TRADERS TR CO</td>\n      <td>MD</td>\n      <td>31-Oct-02</td>\n      <td>2003</td>\n      <td>3</td>\n      <td>...</td>\n      <td>2</td>\n      <td>5</td>\n      <td>1</td>\n      <td>1</td>\n      <td>0</td>\n      <td>N</td>\n      <td>31-Jan-03</td>\n      <td>$40,000.00</td>\n      <td>$0.00</td>\n      <td>1</td>\n    </tr>\n    <tr>\n      <th>4</th>\n      <td>3a5ff625fa3</td>\n      <td>8989333001</td>\n      <td>MAILBOXES, ETC.</td>\n      <td>PHILADELPHIA</td>\n      <td>PA</td>\n      <td>NEWTEK SMALL BUS. FINANCE INC.</td>\n      <td>NY</td>\n      <td>7-Feb-96</td>\n      <td>1996</td>\n      <td>3</td>\n      <td>...</td>\n      <td>0</td>\n      <td>0</td>\n      <td>50564</td>\n      <td>0</td>\n      <td>N</td>\n      <td>Y</td>\n      <td>31-Oct-96</td>\n      <td>$100,000.00</td>\n      <td>$0.00</td>\n      <td>1</td>\n    </tr>\n    <tr>\n      <th>...</th>\n      <td>...</td>\n      <td>...</td>\n      <td>...</td>\n      <td>...</td>\n      <td>...</td>\n      <td>...</td>\n      <td>...</td>\n      <td>...</td>\n      <td>...</td>\n      <td>...</td>\n      <td>...</td>\n      <td>...</td>\n      <td>...</td>\n      <td>...</td>\n      <td>...</td>\n      <td>...</td>\n      <td>...</td>\n      <td>...</td>\n      <td>...</td>\n      <td>...</td>\n      <td>...</td>\n    </tr>\n    <tr>\n      <th>24614</th>\n      <td>ae972125b13</td>\n      <td>7387374007</td>\n      <td>HUNTINGDON CREAMERY</td>\n      <td>HUNTINGDON</td>\n      <td>PA</td>\n      <td>KISH BANK</td>\n      <td>PA</td>\n      <td>27-Apr-04</td>\n      <td>2004</td>\n      <td>2</td>\n      <td>...</td>\n      <td>2</td>\n      <td>0</td>\n      <td>1</td>\n      <td>1</td>\n      <td>0</td>\n      <td>N</td>\n      <td>31-May-04</td>\n      <td>$20,000.00</td>\n      <td>$0.00</td>\n      <td>1</td>\n    </tr>\n    <tr>\n      <th>24615</th>\n      <td>95d6fb854b9</td>\n      <td>1175195009</td>\n      <td>MAJIK D.J. ENTERTAINMENT</td>\n      <td>FLEETWOOD</td>\n      <td>PA</td>\n      <td>CITIZENS BANK NATL ASSOC</td>\n      <td>RI</td>\n      <td>31-Jan-05</td>\n      <td>2005</td>\n      <td>2</td>\n      <td>...</td>\n      <td>0</td>\n      <td>2</td>\n      <td>1</td>\n      <td>1</td>\n      <td>N</td>\n      <td>N</td>\n      <td>30-Apr-06</td>\n      <td>$10,000.00</td>\n      <td>$0.00</td>\n      <td>1</td>\n    </tr>\n    <tr>\n      <th>24616</th>\n      <td>5e446a47a0f</td>\n      <td>1797704005</td>\n      <td>MCCULLOUGH TOWING &amp; STORAGE</td>\n      <td>PHILA</td>\n      <td>PA</td>\n      <td>SUSQUEHANNA BANK</td>\n      <td>PA</td>\n      <td>22-Jan-98</td>\n      <td>1998</td>\n      <td>3</td>\n      <td>...</td>\n      <td>0</td>\n      <td>0</td>\n      <td>1</td>\n      <td>0</td>\n      <td>N</td>\n      <td>Y</td>\n      <td>31-Mar-98</td>\n      <td>$60,000.00</td>\n      <td>$0.00</td>\n      <td>1</td>\n    </tr>\n    <tr>\n      <th>24617</th>\n      <td>549dcfeb04e</td>\n      <td>3816914004</td>\n      <td>HALLS FLORIST</td>\n      <td>WILLIAMSPORT</td>\n      <td>PA</td>\n      <td>MANUFACTURERS &amp; TRADERS TR CO</td>\n      <td>NY</td>\n      <td>29-Jun-00</td>\n      <td>2000</td>\n      <td>4</td>\n      <td>...</td>\n      <td>0</td>\n      <td>3</td>\n      <td>1</td>\n      <td>1</td>\n      <td>Y</td>\n      <td>N</td>\n      <td>31-Aug-04</td>\n      <td>$10,000.00</td>\n      <td>$0.00</td>\n      <td>1</td>\n    </tr>\n    <tr>\n      <th>24618</th>\n      <td>81c5faf8439</td>\n      <td>4149724006</td>\n      <td>INTERNT'L HARDWOOD RESOURCES</td>\n      <td>DOYLESTOWN</td>\n      <td>PA</td>\n      <td>BANK OF AMERICA NATL ASSOC</td>\n      <td>NC</td>\n      <td>21-Dec-00</td>\n      <td>2001</td>\n      <td>7</td>\n      <td>...</td>\n      <td>0</td>\n      <td>0</td>\n      <td>1</td>\n      <td>1</td>\n      <td>N</td>\n      <td>N</td>\n      <td>31-May-01</td>\n      <td>$850,000.00</td>\n      <td>$0.00</td>\n      <td>0</td>\n    </tr>\n  </tbody>\n</table>\n<p>24298 rows × 21 columns</p>\n</div>"
     },
     "execution_count": 4,
     "metadata": {},
     "output_type": "execute_result"
    }
   ],
   "source": [
    "df_train"
   ],
   "metadata": {
    "collapsed": false
   }
  },
  {
   "cell_type": "code",
   "execution_count": 4,
   "outputs": [],
   "source": [],
   "metadata": {
    "collapsed": false
   }
  },
  {
   "cell_type": "code",
   "execution_count": 5,
   "metadata": {},
   "outputs": [
    {
     "name": "stderr",
     "output_type": "stream",
     "text": [
      "/Users/apabook/Desktop/muirst/cdaw/sitc/venv/lib/python3.8/site-packages/sklearn/impute/_base.py:49: FutureWarning: Unlike other reduction functions (e.g. `skew`, `kurtosis`), the default behavior of `mode` typically preserves the axis it acts along. In SciPy 1.11.0, this behavior will change: the default value of `keepdims` will become False, the `axis` over which the statistic is taken will be eliminated, and the value None will no longer be accepted. Set `keepdims` to True or False to avoid this warning.\n",
      "  mode = stats.mode(array)\n"
     ]
    },
    {
     "data": {
      "text/plain": "LabelEncoder()"
     },
     "execution_count": 5,
     "metadata": {},
     "output_type": "execute_result"
    }
   ],
   "source": [
    "from sklearn.impute import SimpleImputer\n",
    "from sklearn.pipeline import Pipeline\n",
    "from sklearn.compose import ColumnTransformer\n",
    "from sklearn.preprocessing import StandardScaler, OneHotEncoder, LabelEncoder, \\\n",
    "    FunctionTransformer\n",
    "\n",
    "\n",
    "def to_lowercase(df):\n",
    "    \"\"\"\n",
    "    set all strings to lower case to be easier to group\n",
    "    \"\"\"\n",
    "    df_return = df.apply(lambda col: col.str.lower())\n",
    "    return df_return\n",
    "\n",
    "def limit_outlier(df, max_value):\n",
    "    \"\"\"\n",
    "    clamps the max and min value of a series, for prevent outliers\n",
    "    from destroying statistic values\n",
    "    \"\"\"\n",
    "    df_return = df.clip(0, max_value)\n",
    "    return df_return\n",
    "\n",
    "def fix_new_exists(df):\n",
    "    \"\"\"\n",
    "    fixes newExists col to boolean values\n",
    "    \"\"\"\n",
    "    df[\"NewExist\"] = df[\"NewExist\"].apply(lambda row: 1 if row in [0, 1] else 2)\n",
    "    return df\n",
    "\n",
    "def fix_franchise_code(df):\n",
    "    \"\"\"\n",
    "    fixes FranchiseCode to {0, 1}\n",
    "    \"\"\"\n",
    "    df[\"FranchiseCode\"] = df[\"FranchiseCode\"].apply(lambda row: 0 if row <= 1 else 1)\n",
    "    return df\n",
    "\n",
    "def fix_revlinecr(df):\n",
    "    \"\"\"\n",
    "    fixes RevLineCr to {0, 1}\n",
    "    \"\"\"\n",
    "    df[\"RevLineCr\"] = df[\"RevLineCr\"].apply(lambda row: 0 if row in [\"N\", 0] else 1)\n",
    "    return df.astype(np.int64)\n",
    "\n",
    "def fix_lowdoc(df):\n",
    "    \"\"\"\n",
    "    fixes LowDoc to {0, 1}\n",
    "    \"\"\"\n",
    "    df[\"LowDoc\"] = df[\"LowDoc\"].apply(lambda row: 1 if row in [\"Y\", \"S\"] else 0)\n",
    "    return df.astype(np.int64)\n",
    "\n",
    "\n",
    "def fix_disbursment_gross(df):\n",
    "    \"\"\"\n",
    "    fixes disbursment extracting real value from string\n",
    "    \"\"\"\n",
    "    df[\"DisbursementGross\"] = df_train[\"DisbursementGross\"]\\\n",
    "        .str.extract(\"(\\d+(?:,\\d+)*(?:\\.\\d+)?)\")[0]\\\n",
    "        .str.replace(\",\", \"\")\\\n",
    "        .astype(\"float\")\n",
    "    return df\n",
    "\n",
    "def fix_urban_rural(df):\n",
    "    \"\"\"\n",
    "    fixes UrbanRural to {0, 1}\n",
    "    \"\"\"\n",
    "    df_return = df[df[\"UrbanRural\"] == 0]\n",
    "    return df\n",
    "\n",
    "\n",
    "training_numeric = [\"NoEmp\", \"NewExist\", \"CreateJob\", \"FranchiseCode\", \"RevLineCr\", \"LowDoc\", \"DisbursementGross\"]\n",
    "\n",
    "preprocessor = ColumnTransformer(\n",
    "    transformers=[\n",
    "        # group 1 -> Set to lower and onehot with in freq 3\n",
    "        # (\"group_a\", Pipeline([\n",
    "        #     (\"a1\", FunctionTransformer(to_lowercase)),\n",
    "        #     (\"a2\", OneHotEncoder(handle_unknown='ignore', sparse=True))\n",
    "        # ]), [\"Name\"]),\n",
    "\n",
    "        # group 2 -> Set to lower and onehot with in freq 300\n",
    "        # (\"group_b\", Pipeline([\n",
    "        #     (\"b1\", FunctionTransformer(to_lowercase)),\n",
    "        #     (\"b2\", OneHotEncoder(handle_unknown='ignore', sparse=True))\n",
    "        # ]), [\"City\", \"Bank\", \"BankState\"]),\n",
    "\n",
    "        # group 3 -> clamps values [0, 155] and scales in standard dist\n",
    "        # si se quiere cambiar por otras opciones crear una función como la de abajo...\n",
    "        (\"group_c\", Pipeline([\n",
    "            (\"c1\", FunctionTransformer(limit_outlier, kw_args={'max_value': 155})),\n",
    "            (\"c2\", StandardScaler()),\n",
    "        ]), [\"NoEmp\"]),\n",
    "\n",
    "        # # group 4 -> sustituye {0, 1, 2} por {1, 2}\n",
    "        (\"group_d\", Pipeline([\n",
    "            (\"d1\", FunctionTransformer(fix_new_exists)),\n",
    "            (\"d2\", SimpleImputer(strategy=\"most_frequent\")),\n",
    "        ]), [\"NewExist\"]),\n",
    "\n",
    "        # group 5 -> clamps values [0, 1027] and scales in standard dist\n",
    "        # si se quiere cambiar por otras opciones crear una función como la de abajo...\n",
    "        (\"group_e\", Pipeline([\n",
    "            (\"e1\", FunctionTransformer(limit_outlier, kw_args={'max_value': 1027})),\n",
    "            (\"e2\", StandardScaler()),\n",
    "        ]), [\"CreateJob\"]),\n",
    "\n",
    "        # group 6 -> transforma la columna a bool\n",
    "        (\"group_f\", Pipeline([\n",
    "            (\"f1\", FunctionTransformer(fix_franchise_code)),\n",
    "        ]), [\"FranchiseCode\"]),\n",
    "\n",
    "        # # group 7 -> transforma la columna a bool\n",
    "        # (\"group_g\", Pipeline([\n",
    "        #     (\"g1\", FunctionTransformer(fix_revlinecr)),\n",
    "        # ]), [\"RevLineCr\"]),\n",
    "        #\n",
    "        # # group 8 -> transforma la columna a bool\n",
    "        # (\"group_h\", Pipeline([\n",
    "        #     (\"h1\", FunctionTransformer(fix_lowdoc)),\n",
    "        # ]), [\"LowDoc\"]),\n",
    "\n",
    "        # group 9 -> extrae el valor con un regex y lo escala\n",
    "        (\"group_i\", Pipeline([\n",
    "            (\"i1\", FunctionTransformer(fix_disbursment_gross)),\n",
    "            (\"d2\", SimpleImputer(strategy=\"mean\")),\n",
    "            (\"i2\", StandardScaler()),\n",
    "        ]), [\"DisbursementGross\"]),\n",
    "\n",
    "        # group 10 -> transforma la columna a bool\n",
    "        (\"group_j\", Pipeline([\n",
    "            (\"fj\", FunctionTransformer(fix_urban_rural)),\n",
    "        ]), [\"UrbanRural\"]),\n",
    "    ],\n",
    ")\n",
    "\n",
    "preprocessor_label = LabelEncoder()\n",
    "preprocessor.fit(df_train)\n",
    "preprocessor_label.fit(df_train[\"Accept\"])"
   ]
  },
  {
   "cell_type": "code",
   "execution_count": 6,
   "metadata": {},
   "outputs": [],
   "source": [
    "training_cols = [\"Name\", \"City\", \"Bank\", \"BankState\", \"NoEmp\", \"NewExist\", \"CreateJob\", \"FranchiseCode\", \"RevLineCr\", \"LowDoc\", \"DisbursementGross\"]"
   ]
  },
  {
   "cell_type": "code",
   "execution_count": 7,
   "metadata": {},
   "outputs": [],
   "source": [
    "X_train = preprocessor.transform(df_train)\n",
    "y_train = preprocessor_label.transform(df_train[\"Accept\"])"
   ]
  },
  {
   "cell_type": "code",
   "execution_count": 18,
   "outputs": [
    {
     "name": "stdout",
     "output_type": "stream",
     "text": [
      "[-0.49026163  1.         -0.04053341  0.         -0.61370357  1.        ]\n",
      "1\n"
     ]
    }
   ],
   "source": [
    "print(X_train[0])\n",
    "print(y_train[0])"
   ],
   "metadata": {
    "collapsed": false
   }
  },
  {
   "cell_type": "code",
   "execution_count": 9,
   "metadata": {},
   "outputs": [
    {
     "name": "stdout",
     "output_type": "stream",
     "text": [
      "Accuracy in training  0.8551732652893242\n",
      "f-score in training  0.9210508603863325\n"
     ]
    }
   ],
   "source": [
    "from sklearn.ensemble import RandomForestClassifier\n",
    "from sklearn import metrics\n",
    "\n",
    "model = RandomForestClassifier(max_depth=2, min_samples_leaf=2, n_estimators=80)\n",
    "model.fit(X_train, y_train)\n",
    "\n",
    "y_train_pred = model.predict(X_train)\n",
    "print(\"Accuracy in training \", metrics.accuracy_score(y_train, y_train_pred))\n",
    "print(\"f-score in training \", metrics.f1_score(y_train, y_train_pred))\n"
   ]
  },
  {
   "cell_type": "code",
   "execution_count": 10,
   "outputs": [],
   "source": [
    "# # Define the model architecture\n",
    "# model = tf.keras.models.Sequential([\n",
    "#   tf.keras.layers.Dense(64, activation='relu', input_shape=(X_train.shape[1],)),\n",
    "#   tf.keras.layers.Dropout(0.2),\n",
    "#   tf.keras.layers.Dense(32, activation='relu'),\n",
    "#   tf.keras.layers.Dropout(0.2),\n",
    "#   tf.keras.layers.Dense(1, activation='sigmoid')\n",
    "# ])\n",
    "#\n",
    "# # Compile the model with binary crossentropy loss and accuracy metric\n",
    "# model.compile(optimizer='adam', loss='binary_crossentropy', metrics=['accuracy'])\n",
    "#\n",
    "# # Train the model on the training data\n",
    "# model.fit(X_train, y_train, epochs=10, batch_size=32)\n"
   ],
   "metadata": {
    "collapsed": false
   }
  },
  {
   "cell_type": "code",
   "execution_count": 11,
   "outputs": [
    {
     "name": "stdout",
     "output_type": "stream",
     "text": [
      "Scores in every iteration [0.85843621 0.85308642 0.85802469 0.85390947 0.8563786  0.85432099\n",
      " 0.85473251 0.85061728 0.85837793 0.85384932]\n",
      "Accuracy: 0.86 (+/- 0.00)\n"
     ]
    }
   ],
   "source": [
    "from sklearn.model_selection import cross_val_score\n",
    "\n",
    "scores = cross_val_score(model, X_train, y_train, cv=10)\n",
    "print(\"Scores in every iteration\", scores)\n",
    "print(\"Accuracy: %0.2f (+/- %0.2f)\" % (scores.mean(), scores.std() * 2))"
   ],
   "metadata": {
    "collapsed": false
   }
  },
  {
   "cell_type": "code",
   "execution_count": 12,
   "outputs": [],
   "source": [
    "X_test = df_test_nolabel\n",
    "\n",
    "X_test_transform = preprocessor.transform(X_test)\n",
    "y_test_pred = model.predict(X_test_transform)"
   ],
   "metadata": {
    "collapsed": false
   }
  },
  {
   "cell_type": "code",
   "execution_count": 13,
   "outputs": [],
   "source": [
    "sample_out = pd.DataFrame()\n",
    "sample_out[\"id\"] = X_test[\"id\"]\n",
    "sample_out[\"Accept\"] = y_test_pred"
   ],
   "metadata": {
    "collapsed": false
   }
  },
  {
   "cell_type": "code",
   "execution_count": 14,
   "outputs": [
    {
     "data": {
      "text/plain": "               id  Accept\n0     82e99051e9c       1\n1     df1cfad8fb6       1\n2     2d3d3198980       1\n3     3f56f41d280       1\n4     cca77d2e8a4       1\n...           ...     ...\n3269  19ecb5cd698       1\n3270  d1ac6d902de       1\n3271  e8c19edd044       1\n3272  7139f39bee2       1\n3273  f78fbc8bde7       1\n\n[3274 rows x 2 columns]",
      "text/html": "<div>\n<style scoped>\n    .dataframe tbody tr th:only-of-type {\n        vertical-align: middle;\n    }\n\n    .dataframe tbody tr th {\n        vertical-align: top;\n    }\n\n    .dataframe thead th {\n        text-align: right;\n    }\n</style>\n<table border=\"1\" class=\"dataframe\">\n  <thead>\n    <tr style=\"text-align: right;\">\n      <th></th>\n      <th>id</th>\n      <th>Accept</th>\n    </tr>\n  </thead>\n  <tbody>\n    <tr>\n      <th>0</th>\n      <td>82e99051e9c</td>\n      <td>1</td>\n    </tr>\n    <tr>\n      <th>1</th>\n      <td>df1cfad8fb6</td>\n      <td>1</td>\n    </tr>\n    <tr>\n      <th>2</th>\n      <td>2d3d3198980</td>\n      <td>1</td>\n    </tr>\n    <tr>\n      <th>3</th>\n      <td>3f56f41d280</td>\n      <td>1</td>\n    </tr>\n    <tr>\n      <th>4</th>\n      <td>cca77d2e8a4</td>\n      <td>1</td>\n    </tr>\n    <tr>\n      <th>...</th>\n      <td>...</td>\n      <td>...</td>\n    </tr>\n    <tr>\n      <th>3269</th>\n      <td>19ecb5cd698</td>\n      <td>1</td>\n    </tr>\n    <tr>\n      <th>3270</th>\n      <td>d1ac6d902de</td>\n      <td>1</td>\n    </tr>\n    <tr>\n      <th>3271</th>\n      <td>e8c19edd044</td>\n      <td>1</td>\n    </tr>\n    <tr>\n      <th>3272</th>\n      <td>7139f39bee2</td>\n      <td>1</td>\n    </tr>\n    <tr>\n      <th>3273</th>\n      <td>f78fbc8bde7</td>\n      <td>1</td>\n    </tr>\n  </tbody>\n</table>\n<p>3274 rows × 2 columns</p>\n</div>"
     },
     "execution_count": 14,
     "metadata": {},
     "output_type": "execute_result"
    }
   ],
   "source": [
    "from datetime import datetime\n",
    "\n",
    "now = datetime.now()\n",
    "date_string = now.strftime(\"%Y%m%d_%H%M\")\n",
    "\n",
    "sample_out.to_csv(f\"./../data/submission_{date_string}.csv\", index=False)\n",
    "sample_out"
   ],
   "metadata": {
    "collapsed": false
   }
  },
  {
   "cell_type": "code",
   "execution_count": null,
   "outputs": [],
   "source": [],
   "metadata": {
    "collapsed": false
   }
  }
 ],
 "metadata": {
  "kernelspec": {
   "display_name": "Python 3 (ipykernel)",
   "language": "python",
   "name": "python3"
  },
  "language_info": {
   "codemirror_mode": {
    "name": "ipython",
    "version": 3
   },
   "file_extension": ".py",
   "mimetype": "text/x-python",
   "name": "python",
   "nbconvert_exporter": "python",
   "pygments_lexer": "ipython3",
   "version": "3.8.9"
  }
 },
 "nbformat": 4,
 "nbformat_minor": 1
}
